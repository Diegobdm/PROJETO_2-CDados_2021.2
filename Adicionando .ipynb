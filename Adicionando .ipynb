{
 "cells": [
  {
   "cell_type": "markdown",
   "metadata": {},
   "source": [
    "<div id='inicio'></div>\n",
    "\n",
    "# Projeto 2 - Ciência dos Dados\n",
    "\n",
    "### Índice \n",
    "\n",
    "- [Primeiro Modelo - Aula 24](#modelo1)\n",
    "\n",
    "- [Segundo Modelo - Árvore de Regressão](#modelo2)\n",
    "\n",
    "___"
   ]
  },
  {
   "cell_type": "markdown",
   "metadata": {},
   "source": [
    "## Onde queremos chegar?\n",
    "  O projeto gira em torno do desafio de desenvolver um programa capaz de prever o preço que um novo carro chegando no mercado teria, a partir de suas caracteristicas mecânicas.\n",
    "  \n",
    "  Para isso, explicaremos detalhadamente todo o processo da construção do código e sua validação como um modelo funcional."
   ]
  },
  {
   "cell_type": "markdown",
   "metadata": {},
   "source": [
    "## 1. Importando, estabelecendo e limpando\n",
    "Nesta primeira etapa, importamos a bibliotecas que serão utilizadas durante o projeto, definimos os tamanhos e caracerísticas que os gráficos gerados durante o trabalho terão, carregamos nossa base de dados \"Car_sales.csv\"para um variável em dataframe, e por último, fizemos limpezas convenientes em tal base de dados.\n"
   ]
  },
  {
   "cell_type": "code",
   "execution_count": 45,
   "metadata": {
    "scrolled": true
   },
   "outputs": [
    {
     "data": {
      "text/html": [
       "<div>\n",
       "<style scoped>\n",
       "    .dataframe tbody tr th:only-of-type {\n",
       "        vertical-align: middle;\n",
       "    }\n",
       "\n",
       "    .dataframe tbody tr th {\n",
       "        vertical-align: top;\n",
       "    }\n",
       "\n",
       "    .dataframe thead th {\n",
       "        text-align: right;\n",
       "    }\n",
       "</style>\n",
       "<table border=\"1\" class=\"dataframe\">\n",
       "  <thead>\n",
       "    <tr style=\"text-align: right;\">\n",
       "      <th></th>\n",
       "      <th>Manufacturer</th>\n",
       "      <th>Sales_in_thousands</th>\n",
       "      <th>__year_resale_value</th>\n",
       "      <th>Vehicle_type</th>\n",
       "      <th>Price_in_thousands</th>\n",
       "      <th>Engine_size</th>\n",
       "      <th>Horsepower</th>\n",
       "      <th>Wheelbase</th>\n",
       "      <th>Width</th>\n",
       "      <th>Length</th>\n",
       "      <th>Curb_weight</th>\n",
       "      <th>Fuel_capacity</th>\n",
       "      <th>Fuel_efficiency</th>\n",
       "      <th>Latest_Launch</th>\n",
       "      <th>Power_perf_factor</th>\n",
       "    </tr>\n",
       "    <tr>\n",
       "      <th>Model</th>\n",
       "      <th></th>\n",
       "      <th></th>\n",
       "      <th></th>\n",
       "      <th></th>\n",
       "      <th></th>\n",
       "      <th></th>\n",
       "      <th></th>\n",
       "      <th></th>\n",
       "      <th></th>\n",
       "      <th></th>\n",
       "      <th></th>\n",
       "      <th></th>\n",
       "      <th></th>\n",
       "      <th></th>\n",
       "      <th></th>\n",
       "    </tr>\n",
       "  </thead>\n",
       "  <tbody>\n",
       "    <tr>\n",
       "      <th>Integra</th>\n",
       "      <td>Acura</td>\n",
       "      <td>16.919</td>\n",
       "      <td>16.360</td>\n",
       "      <td>Passenger</td>\n",
       "      <td>21.50</td>\n",
       "      <td>1.8</td>\n",
       "      <td>140.0</td>\n",
       "      <td>101.2</td>\n",
       "      <td>67.3</td>\n",
       "      <td>172.4</td>\n",
       "      <td>2.639</td>\n",
       "      <td>13.2</td>\n",
       "      <td>28.0</td>\n",
       "      <td>2/2/2012</td>\n",
       "      <td>58.280150</td>\n",
       "    </tr>\n",
       "    <tr>\n",
       "      <th>TL</th>\n",
       "      <td>Acura</td>\n",
       "      <td>39.384</td>\n",
       "      <td>19.875</td>\n",
       "      <td>Passenger</td>\n",
       "      <td>28.40</td>\n",
       "      <td>3.2</td>\n",
       "      <td>225.0</td>\n",
       "      <td>108.1</td>\n",
       "      <td>70.3</td>\n",
       "      <td>192.9</td>\n",
       "      <td>3.517</td>\n",
       "      <td>17.2</td>\n",
       "      <td>25.0</td>\n",
       "      <td>6/3/2011</td>\n",
       "      <td>91.370778</td>\n",
       "    </tr>\n",
       "    <tr>\n",
       "      <th>CL</th>\n",
       "      <td>Acura</td>\n",
       "      <td>14.114</td>\n",
       "      <td>18.225</td>\n",
       "      <td>Passenger</td>\n",
       "      <td>NaN</td>\n",
       "      <td>3.2</td>\n",
       "      <td>225.0</td>\n",
       "      <td>106.9</td>\n",
       "      <td>70.6</td>\n",
       "      <td>192.0</td>\n",
       "      <td>3.470</td>\n",
       "      <td>17.2</td>\n",
       "      <td>26.0</td>\n",
       "      <td>1/4/2012</td>\n",
       "      <td>NaN</td>\n",
       "    </tr>\n",
       "    <tr>\n",
       "      <th>RL</th>\n",
       "      <td>Acura</td>\n",
       "      <td>8.588</td>\n",
       "      <td>29.725</td>\n",
       "      <td>Passenger</td>\n",
       "      <td>42.00</td>\n",
       "      <td>3.5</td>\n",
       "      <td>210.0</td>\n",
       "      <td>114.6</td>\n",
       "      <td>71.4</td>\n",
       "      <td>196.6</td>\n",
       "      <td>3.850</td>\n",
       "      <td>18.0</td>\n",
       "      <td>22.0</td>\n",
       "      <td>3/10/2011</td>\n",
       "      <td>91.389779</td>\n",
       "    </tr>\n",
       "    <tr>\n",
       "      <th>A4</th>\n",
       "      <td>Audi</td>\n",
       "      <td>20.397</td>\n",
       "      <td>22.255</td>\n",
       "      <td>Passenger</td>\n",
       "      <td>23.99</td>\n",
       "      <td>1.8</td>\n",
       "      <td>150.0</td>\n",
       "      <td>102.6</td>\n",
       "      <td>68.2</td>\n",
       "      <td>178.0</td>\n",
       "      <td>2.998</td>\n",
       "      <td>16.4</td>\n",
       "      <td>27.0</td>\n",
       "      <td>10/8/2011</td>\n",
       "      <td>62.777639</td>\n",
       "    </tr>\n",
       "    <tr>\n",
       "      <th>A6</th>\n",
       "      <td>Audi</td>\n",
       "      <td>18.780</td>\n",
       "      <td>23.555</td>\n",
       "      <td>Passenger</td>\n",
       "      <td>33.95</td>\n",
       "      <td>2.8</td>\n",
       "      <td>200.0</td>\n",
       "      <td>108.7</td>\n",
       "      <td>76.1</td>\n",
       "      <td>192.0</td>\n",
       "      <td>3.561</td>\n",
       "      <td>18.5</td>\n",
       "      <td>22.0</td>\n",
       "      <td>8/9/2011</td>\n",
       "      <td>84.565105</td>\n",
       "    </tr>\n",
       "    <tr>\n",
       "      <th>A8</th>\n",
       "      <td>Audi</td>\n",
       "      <td>1.380</td>\n",
       "      <td>39.000</td>\n",
       "      <td>Passenger</td>\n",
       "      <td>62.00</td>\n",
       "      <td>4.2</td>\n",
       "      <td>310.0</td>\n",
       "      <td>113.0</td>\n",
       "      <td>74.0</td>\n",
       "      <td>198.2</td>\n",
       "      <td>3.902</td>\n",
       "      <td>23.7</td>\n",
       "      <td>21.0</td>\n",
       "      <td>2/27/2012</td>\n",
       "      <td>134.656858</td>\n",
       "    </tr>\n",
       "  </tbody>\n",
       "</table>\n",
       "</div>"
      ],
      "text/plain": [
       "        Manufacturer  Sales_in_thousands  __year_resale_value Vehicle_type  \\\n",
       "Model                                                                        \n",
       "Integra        Acura              16.919               16.360    Passenger   \n",
       "TL             Acura              39.384               19.875    Passenger   \n",
       "CL             Acura              14.114               18.225    Passenger   \n",
       "RL             Acura               8.588               29.725    Passenger   \n",
       "A4              Audi              20.397               22.255    Passenger   \n",
       "A6              Audi              18.780               23.555    Passenger   \n",
       "A8              Audi               1.380               39.000    Passenger   \n",
       "\n",
       "         Price_in_thousands  Engine_size  Horsepower  Wheelbase  Width  \\\n",
       "Model                                                                    \n",
       "Integra               21.50          1.8       140.0      101.2   67.3   \n",
       "TL                    28.40          3.2       225.0      108.1   70.3   \n",
       "CL                      NaN          3.2       225.0      106.9   70.6   \n",
       "RL                    42.00          3.5       210.0      114.6   71.4   \n",
       "A4                    23.99          1.8       150.0      102.6   68.2   \n",
       "A6                    33.95          2.8       200.0      108.7   76.1   \n",
       "A8                    62.00          4.2       310.0      113.0   74.0   \n",
       "\n",
       "         Length  Curb_weight  Fuel_capacity  Fuel_efficiency Latest_Launch  \\\n",
       "Model                                                                        \n",
       "Integra   172.4        2.639           13.2             28.0      2/2/2012   \n",
       "TL        192.9        3.517           17.2             25.0      6/3/2011   \n",
       "CL        192.0        3.470           17.2             26.0      1/4/2012   \n",
       "RL        196.6        3.850           18.0             22.0     3/10/2011   \n",
       "A4        178.0        2.998           16.4             27.0     10/8/2011   \n",
       "A6        192.0        3.561           18.5             22.0      8/9/2011   \n",
       "A8        198.2        3.902           23.7             21.0     2/27/2012   \n",
       "\n",
       "         Power_perf_factor  \n",
       "Model                       \n",
       "Integra          58.280150  \n",
       "TL               91.370778  \n",
       "CL                     NaN  \n",
       "RL               91.389779  \n",
       "A4               62.777639  \n",
       "A6               84.565105  \n",
       "A8              134.656858  "
      ]
     },
     "execution_count": 45,
     "metadata": {},
     "output_type": "execute_result"
    }
   ],
   "source": [
    "import numpy as np # linear algebra\n",
    "import pandas as pd # data processing, CSV file I/O (e.g. pd.read_csv)\n",
    "import matplotlib.pyplot as plt # data visualization\n",
    "import seaborn as sns\n",
    "import matplotlib # importing library to change the default setting\n",
    "import statsmodels.api as sm\n",
    "from IPython.display import display\n",
    "import scipy.stats\n",
    "import os\n",
    "# Definindo os parametros dos gráficos \n",
    "sns.set_style('darkgrid')\n",
    "matplotlib.rcParams['font.size'] =8\n",
    "matplotlib.rcParams['figure.figsize'] = (10,6)\n",
    "matplotlib.rcParams['figure.facecolor'] = '#00000000'\n",
    "\n",
    "Data = pd.read_csv('Car_sales.csv')\n",
    "Data_idx = Data.set_index('Model')\n",
    "Data_idx.head(7)"
   ]
  },
  {
   "cell_type": "code",
   "execution_count": 46,
   "metadata": {},
   "outputs": [
    {
     "data": {
      "text/html": [
       "<div>\n",
       "<style scoped>\n",
       "    .dataframe tbody tr th:only-of-type {\n",
       "        vertical-align: middle;\n",
       "    }\n",
       "\n",
       "    .dataframe tbody tr th {\n",
       "        vertical-align: top;\n",
       "    }\n",
       "\n",
       "    .dataframe thead th {\n",
       "        text-align: right;\n",
       "    }\n",
       "</style>\n",
       "<table border=\"1\" class=\"dataframe\">\n",
       "  <thead>\n",
       "    <tr style=\"text-align: right;\">\n",
       "      <th></th>\n",
       "      <th>Manufacturer</th>\n",
       "      <th>Model</th>\n",
       "      <th>Sales_in_thousands</th>\n",
       "      <th>__year_resale_value</th>\n",
       "      <th>Vehicle_type</th>\n",
       "      <th>Price_in_thousands</th>\n",
       "      <th>Engine_size</th>\n",
       "      <th>Horsepower</th>\n",
       "      <th>Wheelbase</th>\n",
       "      <th>Width</th>\n",
       "      <th>Length</th>\n",
       "      <th>Curb_weight</th>\n",
       "      <th>Fuel_capacity</th>\n",
       "      <th>Fuel_efficiency</th>\n",
       "      <th>Latest_Launch</th>\n",
       "      <th>Power_perf_factor</th>\n",
       "    </tr>\n",
       "  </thead>\n",
       "  <tbody>\n",
       "    <tr>\n",
       "      <th>count</th>\n",
       "      <td>157</td>\n",
       "      <td>157</td>\n",
       "      <td>157.000000</td>\n",
       "      <td>121.000000</td>\n",
       "      <td>157</td>\n",
       "      <td>155.000000</td>\n",
       "      <td>156.000000</td>\n",
       "      <td>156.000000</td>\n",
       "      <td>156.000000</td>\n",
       "      <td>156.000000</td>\n",
       "      <td>156.000000</td>\n",
       "      <td>155.000000</td>\n",
       "      <td>156.000000</td>\n",
       "      <td>154.000000</td>\n",
       "      <td>157</td>\n",
       "      <td>155.000000</td>\n",
       "    </tr>\n",
       "    <tr>\n",
       "      <th>unique</th>\n",
       "      <td>30</td>\n",
       "      <td>156</td>\n",
       "      <td>NaN</td>\n",
       "      <td>NaN</td>\n",
       "      <td>2</td>\n",
       "      <td>NaN</td>\n",
       "      <td>NaN</td>\n",
       "      <td>NaN</td>\n",
       "      <td>NaN</td>\n",
       "      <td>NaN</td>\n",
       "      <td>NaN</td>\n",
       "      <td>NaN</td>\n",
       "      <td>NaN</td>\n",
       "      <td>NaN</td>\n",
       "      <td>130</td>\n",
       "      <td>NaN</td>\n",
       "    </tr>\n",
       "    <tr>\n",
       "      <th>top</th>\n",
       "      <td>Dodge</td>\n",
       "      <td>Neon</td>\n",
       "      <td>NaN</td>\n",
       "      <td>NaN</td>\n",
       "      <td>Passenger</td>\n",
       "      <td>NaN</td>\n",
       "      <td>NaN</td>\n",
       "      <td>NaN</td>\n",
       "      <td>NaN</td>\n",
       "      <td>NaN</td>\n",
       "      <td>NaN</td>\n",
       "      <td>NaN</td>\n",
       "      <td>NaN</td>\n",
       "      <td>NaN</td>\n",
       "      <td>8/27/2011</td>\n",
       "      <td>NaN</td>\n",
       "    </tr>\n",
       "    <tr>\n",
       "      <th>freq</th>\n",
       "      <td>11</td>\n",
       "      <td>2</td>\n",
       "      <td>NaN</td>\n",
       "      <td>NaN</td>\n",
       "      <td>116</td>\n",
       "      <td>NaN</td>\n",
       "      <td>NaN</td>\n",
       "      <td>NaN</td>\n",
       "      <td>NaN</td>\n",
       "      <td>NaN</td>\n",
       "      <td>NaN</td>\n",
       "      <td>NaN</td>\n",
       "      <td>NaN</td>\n",
       "      <td>NaN</td>\n",
       "      <td>2</td>\n",
       "      <td>NaN</td>\n",
       "    </tr>\n",
       "    <tr>\n",
       "      <th>mean</th>\n",
       "      <td>NaN</td>\n",
       "      <td>NaN</td>\n",
       "      <td>52.998076</td>\n",
       "      <td>18.072975</td>\n",
       "      <td>NaN</td>\n",
       "      <td>27.390755</td>\n",
       "      <td>3.060897</td>\n",
       "      <td>185.948718</td>\n",
       "      <td>107.487179</td>\n",
       "      <td>71.150000</td>\n",
       "      <td>187.343590</td>\n",
       "      <td>3.378026</td>\n",
       "      <td>17.951923</td>\n",
       "      <td>23.844156</td>\n",
       "      <td>NaN</td>\n",
       "      <td>77.043591</td>\n",
       "    </tr>\n",
       "    <tr>\n",
       "      <th>std</th>\n",
       "      <td>NaN</td>\n",
       "      <td>NaN</td>\n",
       "      <td>68.029422</td>\n",
       "      <td>11.453384</td>\n",
       "      <td>NaN</td>\n",
       "      <td>14.351653</td>\n",
       "      <td>1.044653</td>\n",
       "      <td>56.700321</td>\n",
       "      <td>7.641303</td>\n",
       "      <td>3.451872</td>\n",
       "      <td>13.431754</td>\n",
       "      <td>0.630502</td>\n",
       "      <td>3.887921</td>\n",
       "      <td>4.282706</td>\n",
       "      <td>NaN</td>\n",
       "      <td>25.142664</td>\n",
       "    </tr>\n",
       "    <tr>\n",
       "      <th>min</th>\n",
       "      <td>NaN</td>\n",
       "      <td>NaN</td>\n",
       "      <td>0.110000</td>\n",
       "      <td>5.160000</td>\n",
       "      <td>NaN</td>\n",
       "      <td>9.235000</td>\n",
       "      <td>1.000000</td>\n",
       "      <td>55.000000</td>\n",
       "      <td>92.600000</td>\n",
       "      <td>62.600000</td>\n",
       "      <td>149.400000</td>\n",
       "      <td>1.895000</td>\n",
       "      <td>10.300000</td>\n",
       "      <td>15.000000</td>\n",
       "      <td>NaN</td>\n",
       "      <td>23.276272</td>\n",
       "    </tr>\n",
       "  </tbody>\n",
       "</table>\n",
       "</div>"
      ],
      "text/plain": [
       "       Manufacturer Model  Sales_in_thousands  __year_resale_value  \\\n",
       "count           157   157          157.000000           121.000000   \n",
       "unique           30   156                 NaN                  NaN   \n",
       "top           Dodge  Neon                 NaN                  NaN   \n",
       "freq             11     2                 NaN                  NaN   \n",
       "mean            NaN   NaN           52.998076            18.072975   \n",
       "std             NaN   NaN           68.029422            11.453384   \n",
       "min             NaN   NaN            0.110000             5.160000   \n",
       "\n",
       "       Vehicle_type  Price_in_thousands  Engine_size  Horsepower   Wheelbase  \\\n",
       "count           157          155.000000   156.000000  156.000000  156.000000   \n",
       "unique            2                 NaN          NaN         NaN         NaN   \n",
       "top       Passenger                 NaN          NaN         NaN         NaN   \n",
       "freq            116                 NaN          NaN         NaN         NaN   \n",
       "mean            NaN           27.390755     3.060897  185.948718  107.487179   \n",
       "std             NaN           14.351653     1.044653   56.700321    7.641303   \n",
       "min             NaN            9.235000     1.000000   55.000000   92.600000   \n",
       "\n",
       "             Width      Length  Curb_weight  Fuel_capacity  Fuel_efficiency  \\\n",
       "count   156.000000  156.000000   155.000000     156.000000       154.000000   \n",
       "unique         NaN         NaN          NaN            NaN              NaN   \n",
       "top            NaN         NaN          NaN            NaN              NaN   \n",
       "freq           NaN         NaN          NaN            NaN              NaN   \n",
       "mean     71.150000  187.343590     3.378026      17.951923        23.844156   \n",
       "std       3.451872   13.431754     0.630502       3.887921         4.282706   \n",
       "min      62.600000  149.400000     1.895000      10.300000        15.000000   \n",
       "\n",
       "       Latest_Launch  Power_perf_factor  \n",
       "count            157         155.000000  \n",
       "unique           130                NaN  \n",
       "top        8/27/2011                NaN  \n",
       "freq               2                NaN  \n",
       "mean             NaN          77.043591  \n",
       "std              NaN          25.142664  \n",
       "min              NaN          23.276272  "
      ]
     },
     "execution_count": 46,
     "metadata": {},
     "output_type": "execute_result"
    }
   ],
   "source": [
    "Data.describe(include=\"all\").head(7)"
   ]
  },
  {
   "cell_type": "markdown",
   "metadata": {},
   "source": [
    "Pequenas análises importantes:\n",
    "\n",
    "- Parece haver valores ausentes em algumas colunas (exemplo: __year_resale_value)\n",
    "- Se considerarmos todas as colunas, teremos muitas variáveis fictícias"
   ]
  },
  {
   "cell_type": "code",
   "execution_count": 4,
   "metadata": {},
   "outputs": [
    {
     "data": {
      "text/html": [
       "<div>\n",
       "<style scoped>\n",
       "    .dataframe tbody tr th:only-of-type {\n",
       "        vertical-align: middle;\n",
       "    }\n",
       "\n",
       "    .dataframe tbody tr th {\n",
       "        vertical-align: top;\n",
       "    }\n",
       "\n",
       "    .dataframe thead th {\n",
       "        text-align: right;\n",
       "    }\n",
       "</style>\n",
       "<table border=\"1\" class=\"dataframe\">\n",
       "  <thead>\n",
       "    <tr style=\"text-align: right;\">\n",
       "      <th></th>\n",
       "      <th>Manufacturer</th>\n",
       "      <th>Model</th>\n",
       "      <th>Sales_in_thousands</th>\n",
       "      <th>__year_resale_value</th>\n",
       "      <th>Price_in_thousands</th>\n",
       "      <th>Engine_size</th>\n",
       "      <th>Horsepower</th>\n",
       "      <th>Wheelbase</th>\n",
       "      <th>Width</th>\n",
       "      <th>Length</th>\n",
       "      <th>Curb_weight</th>\n",
       "      <th>Fuel_capacity</th>\n",
       "      <th>Fuel_efficiency</th>\n",
       "      <th>Power_perf_factor</th>\n",
       "    </tr>\n",
       "  </thead>\n",
       "  <tbody>\n",
       "    <tr>\n",
       "      <th>39</th>\n",
       "      <td>Dodge</td>\n",
       "      <td>Viper</td>\n",
       "      <td>0.916</td>\n",
       "      <td>58.470</td>\n",
       "      <td>69.725</td>\n",
       "      <td>8.0</td>\n",
       "      <td>450.0</td>\n",
       "      <td>96.2</td>\n",
       "      <td>75.7</td>\n",
       "      <td>176.7</td>\n",
       "      <td>3.375</td>\n",
       "      <td>19.0</td>\n",
       "      <td>16.0</td>\n",
       "      <td>188.144323</td>\n",
       "    </tr>\n",
       "    <tr>\n",
       "      <th>24</th>\n",
       "      <td>Chevrolet</td>\n",
       "      <td>Corvette</td>\n",
       "      <td>17.947</td>\n",
       "      <td>36.225</td>\n",
       "      <td>45.705</td>\n",
       "      <td>5.7</td>\n",
       "      <td>345.0</td>\n",
       "      <td>104.5</td>\n",
       "      <td>73.6</td>\n",
       "      <td>179.7</td>\n",
       "      <td>3.210</td>\n",
       "      <td>19.1</td>\n",
       "      <td>22.0</td>\n",
       "      <td>141.141150</td>\n",
       "    </tr>\n",
       "    <tr>\n",
       "      <th>18</th>\n",
       "      <td>Cadillac</td>\n",
       "      <td>Escalade</td>\n",
       "      <td>14.785</td>\n",
       "      <td>NaN</td>\n",
       "      <td>46.225</td>\n",
       "      <td>5.7</td>\n",
       "      <td>255.0</td>\n",
       "      <td>117.5</td>\n",
       "      <td>77.0</td>\n",
       "      <td>201.2</td>\n",
       "      <td>5.572</td>\n",
       "      <td>30.0</td>\n",
       "      <td>15.0</td>\n",
       "      <td>109.509117</td>\n",
       "    </tr>\n",
       "    <tr>\n",
       "      <th>78</th>\n",
       "      <td>Lincoln</td>\n",
       "      <td>Navigator</td>\n",
       "      <td>22.925</td>\n",
       "      <td>NaN</td>\n",
       "      <td>42.660</td>\n",
       "      <td>5.4</td>\n",
       "      <td>300.0</td>\n",
       "      <td>119.0</td>\n",
       "      <td>79.9</td>\n",
       "      <td>204.8</td>\n",
       "      <td>5.393</td>\n",
       "      <td>30.0</td>\n",
       "      <td>15.0</td>\n",
       "      <td>123.972047</td>\n",
       "    </tr>\n",
       "    <tr>\n",
       "      <th>40</th>\n",
       "      <td>Dodge</td>\n",
       "      <td>Ram Pickup</td>\n",
       "      <td>227.061</td>\n",
       "      <td>15.060</td>\n",
       "      <td>19.460</td>\n",
       "      <td>5.2</td>\n",
       "      <td>230.0</td>\n",
       "      <td>138.7</td>\n",
       "      <td>79.3</td>\n",
       "      <td>224.2</td>\n",
       "      <td>4.470</td>\n",
       "      <td>26.0</td>\n",
       "      <td>17.0</td>\n",
       "      <td>90.211700</td>\n",
       "    </tr>\n",
       "    <tr>\n",
       "      <th>...</th>\n",
       "      <td>...</td>\n",
       "      <td>...</td>\n",
       "      <td>...</td>\n",
       "      <td>...</td>\n",
       "      <td>...</td>\n",
       "      <td>...</td>\n",
       "      <td>...</td>\n",
       "      <td>...</td>\n",
       "      <td>...</td>\n",
       "      <td>...</td>\n",
       "      <td>...</td>\n",
       "      <td>...</td>\n",
       "      <td>...</td>\n",
       "      <td>...</td>\n",
       "    </tr>\n",
       "    <tr>\n",
       "      <th>79</th>\n",
       "      <td>Mitsubishi</td>\n",
       "      <td>Mirage</td>\n",
       "      <td>26.232</td>\n",
       "      <td>8.325</td>\n",
       "      <td>13.987</td>\n",
       "      <td>1.8</td>\n",
       "      <td>113.0</td>\n",
       "      <td>98.4</td>\n",
       "      <td>66.5</td>\n",
       "      <td>173.6</td>\n",
       "      <td>2.250</td>\n",
       "      <td>13.2</td>\n",
       "      <td>30.0</td>\n",
       "      <td>45.832181</td>\n",
       "    </tr>\n",
       "    <tr>\n",
       "      <th>57</th>\n",
       "      <td>Honda</td>\n",
       "      <td>Civic</td>\n",
       "      <td>199.685</td>\n",
       "      <td>9.850</td>\n",
       "      <td>12.885</td>\n",
       "      <td>1.6</td>\n",
       "      <td>106.0</td>\n",
       "      <td>103.2</td>\n",
       "      <td>67.1</td>\n",
       "      <td>175.1</td>\n",
       "      <td>2.339</td>\n",
       "      <td>11.9</td>\n",
       "      <td>32.0</td>\n",
       "      <td>42.879097</td>\n",
       "    </tr>\n",
       "    <tr>\n",
       "      <th>62</th>\n",
       "      <td>Hyundai</td>\n",
       "      <td>Accent</td>\n",
       "      <td>41.184</td>\n",
       "      <td>5.860</td>\n",
       "      <td>9.699</td>\n",
       "      <td>1.5</td>\n",
       "      <td>92.0</td>\n",
       "      <td>96.1</td>\n",
       "      <td>65.7</td>\n",
       "      <td>166.7</td>\n",
       "      <td>2.240</td>\n",
       "      <td>11.9</td>\n",
       "      <td>31.0</td>\n",
       "      <td>36.672284</td>\n",
       "    </tr>\n",
       "    <tr>\n",
       "      <th>26</th>\n",
       "      <td>Chevrolet</td>\n",
       "      <td>Metro</td>\n",
       "      <td>21.855</td>\n",
       "      <td>5.160</td>\n",
       "      <td>9.235</td>\n",
       "      <td>1.0</td>\n",
       "      <td>55.0</td>\n",
       "      <td>93.1</td>\n",
       "      <td>62.6</td>\n",
       "      <td>149.4</td>\n",
       "      <td>1.895</td>\n",
       "      <td>10.3</td>\n",
       "      <td>45.0</td>\n",
       "      <td>23.276272</td>\n",
       "    </tr>\n",
       "    <tr>\n",
       "      <th>33</th>\n",
       "      <td>Chrysler</td>\n",
       "      <td>Town &amp; Country</td>\n",
       "      <td>53.480</td>\n",
       "      <td>19.540</td>\n",
       "      <td>NaN</td>\n",
       "      <td>NaN</td>\n",
       "      <td>NaN</td>\n",
       "      <td>NaN</td>\n",
       "      <td>NaN</td>\n",
       "      <td>NaN</td>\n",
       "      <td>NaN</td>\n",
       "      <td>NaN</td>\n",
       "      <td>NaN</td>\n",
       "      <td>NaN</td>\n",
       "    </tr>\n",
       "  </tbody>\n",
       "</table>\n",
       "<p>157 rows × 14 columns</p>\n",
       "</div>"
      ],
      "text/plain": [
       "   Manufacturer           Model  Sales_in_thousands  __year_resale_value  \\\n",
       "39        Dodge           Viper               0.916               58.470   \n",
       "24    Chevrolet        Corvette              17.947               36.225   \n",
       "18     Cadillac        Escalade              14.785                  NaN   \n",
       "78      Lincoln       Navigator              22.925                  NaN   \n",
       "40        Dodge      Ram Pickup             227.061               15.060   \n",
       "..          ...             ...                 ...                  ...   \n",
       "79   Mitsubishi          Mirage              26.232                8.325   \n",
       "57        Honda           Civic             199.685                9.850   \n",
       "62      Hyundai          Accent              41.184                5.860   \n",
       "26    Chevrolet           Metro              21.855                5.160   \n",
       "33     Chrysler  Town & Country              53.480               19.540   \n",
       "\n",
       "    Price_in_thousands  Engine_size  Horsepower  Wheelbase  Width  Length  \\\n",
       "39              69.725          8.0       450.0       96.2   75.7   176.7   \n",
       "24              45.705          5.7       345.0      104.5   73.6   179.7   \n",
       "18              46.225          5.7       255.0      117.5   77.0   201.2   \n",
       "78              42.660          5.4       300.0      119.0   79.9   204.8   \n",
       "40              19.460          5.2       230.0      138.7   79.3   224.2   \n",
       "..                 ...          ...         ...        ...    ...     ...   \n",
       "79              13.987          1.8       113.0       98.4   66.5   173.6   \n",
       "57              12.885          1.6       106.0      103.2   67.1   175.1   \n",
       "62               9.699          1.5        92.0       96.1   65.7   166.7   \n",
       "26               9.235          1.0        55.0       93.1   62.6   149.4   \n",
       "33                 NaN          NaN         NaN        NaN    NaN     NaN   \n",
       "\n",
       "    Curb_weight  Fuel_capacity  Fuel_efficiency  Power_perf_factor  \n",
       "39        3.375           19.0             16.0         188.144323  \n",
       "24        3.210           19.1             22.0         141.141150  \n",
       "18        5.572           30.0             15.0         109.509117  \n",
       "78        5.393           30.0             15.0         123.972047  \n",
       "40        4.470           26.0             17.0          90.211700  \n",
       "..          ...            ...              ...                ...  \n",
       "79        2.250           13.2             30.0          45.832181  \n",
       "57        2.339           11.9             32.0          42.879097  \n",
       "62        2.240           11.9             31.0          36.672284  \n",
       "26        1.895           10.3             45.0          23.276272  \n",
       "33          NaN            NaN              NaN                NaN  \n",
       "\n",
       "[157 rows x 14 columns]"
      ]
     },
     "execution_count": 4,
     "metadata": {},
     "output_type": "execute_result"
    }
   ],
   "source": [
    "#Retirando colunas que não agregam ao Projeto\n",
    "data_2 = Data.drop(['Vehicle_type','Latest_Launch'], axis = 1)\n",
    "data_2.sort_values( by = 'Engine_size', ascending = False)"
   ]
  },
  {
   "cell_type": "code",
   "execution_count": 5,
   "metadata": {},
   "outputs": [
    {
     "name": "stdout",
     "output_type": "stream",
     "text": [
      "<class 'pandas.core.frame.DataFrame'>\n",
      "RangeIndex: 157 entries, 0 to 156\n",
      "Data columns (total 14 columns):\n",
      " #   Column               Non-Null Count  Dtype  \n",
      "---  ------               --------------  -----  \n",
      " 0   Manufacturer         157 non-null    object \n",
      " 1   Model                157 non-null    object \n",
      " 2   Sales_in_thousands   157 non-null    float64\n",
      " 3   __year_resale_value  121 non-null    float64\n",
      " 4   Price_in_thousands   155 non-null    float64\n",
      " 5   Engine_size          156 non-null    float64\n",
      " 6   Horsepower           156 non-null    float64\n",
      " 7   Wheelbase            156 non-null    float64\n",
      " 8   Width                156 non-null    float64\n",
      " 9   Length               156 non-null    float64\n",
      " 10  Curb_weight          155 non-null    float64\n",
      " 11  Fuel_capacity        156 non-null    float64\n",
      " 12  Fuel_efficiency      154 non-null    float64\n",
      " 13  Power_perf_factor    155 non-null    float64\n",
      "dtypes: float64(12), object(2)\n",
      "memory usage: 17.3+ KB\n"
     ]
    }
   ],
   "source": [
    "data_2.info()"
   ]
  },
  {
   "cell_type": "code",
   "execution_count": 6,
   "metadata": {},
   "outputs": [
    {
     "data": {
      "text/plain": [
       "Manufacturer            0\n",
       "Model                   0\n",
       "Sales_in_thousands      0\n",
       "__year_resale_value    36\n",
       "Price_in_thousands      2\n",
       "Engine_size             1\n",
       "Horsepower              1\n",
       "Wheelbase               1\n",
       "Width                   1\n",
       "Length                  1\n",
       "Curb_weight             2\n",
       "Fuel_capacity           1\n",
       "Fuel_efficiency         3\n",
       "Power_perf_factor       2\n",
       "dtype: int64"
      ]
     },
     "execution_count": 6,
     "metadata": {},
     "output_type": "execute_result"
    }
   ],
   "source": [
    "data_2.isnull().sum()"
   ]
  },
  {
   "cell_type": "markdown",
   "metadata": {},
   "source": [
    "Vemos que há alguns valores Nulos, então devemos limpar um pouco mais o Dataset para não cometer erros"
   ]
  },
  {
   "cell_type": "code",
   "execution_count": 7,
   "metadata": {},
   "outputs": [],
   "source": [
    "df_limpo = data_2.dropna()"
   ]
  },
  {
   "cell_type": "code",
   "execution_count": 8,
   "metadata": {},
   "outputs": [
    {
     "data": {
      "text/html": [
       "<div>\n",
       "<style scoped>\n",
       "    .dataframe tbody tr th:only-of-type {\n",
       "        vertical-align: middle;\n",
       "    }\n",
       "\n",
       "    .dataframe tbody tr th {\n",
       "        vertical-align: top;\n",
       "    }\n",
       "\n",
       "    .dataframe thead th {\n",
       "        text-align: right;\n",
       "    }\n",
       "</style>\n",
       "<table border=\"1\" class=\"dataframe\">\n",
       "  <thead>\n",
       "    <tr style=\"text-align: right;\">\n",
       "      <th></th>\n",
       "      <th>Sales_in_thousands</th>\n",
       "      <th>__year_resale_value</th>\n",
       "      <th>Price_in_thousands</th>\n",
       "      <th>Engine_size</th>\n",
       "      <th>Horsepower</th>\n",
       "      <th>Wheelbase</th>\n",
       "      <th>Width</th>\n",
       "      <th>Length</th>\n",
       "      <th>Curb_weight</th>\n",
       "      <th>Fuel_capacity</th>\n",
       "      <th>Fuel_efficiency</th>\n",
       "      <th>Power_perf_factor</th>\n",
       "    </tr>\n",
       "  </thead>\n",
       "  <tbody>\n",
       "    <tr>\n",
       "      <th>0</th>\n",
       "      <td>16.919</td>\n",
       "      <td>16.360</td>\n",
       "      <td>21.500</td>\n",
       "      <td>1.8</td>\n",
       "      <td>140.0</td>\n",
       "      <td>101.2</td>\n",
       "      <td>67.3</td>\n",
       "      <td>172.4</td>\n",
       "      <td>2.639</td>\n",
       "      <td>13.2</td>\n",
       "      <td>28.0</td>\n",
       "      <td>58.280150</td>\n",
       "    </tr>\n",
       "    <tr>\n",
       "      <th>1</th>\n",
       "      <td>39.384</td>\n",
       "      <td>19.875</td>\n",
       "      <td>28.400</td>\n",
       "      <td>3.2</td>\n",
       "      <td>225.0</td>\n",
       "      <td>108.1</td>\n",
       "      <td>70.3</td>\n",
       "      <td>192.9</td>\n",
       "      <td>3.517</td>\n",
       "      <td>17.2</td>\n",
       "      <td>25.0</td>\n",
       "      <td>91.370778</td>\n",
       "    </tr>\n",
       "    <tr>\n",
       "      <th>3</th>\n",
       "      <td>8.588</td>\n",
       "      <td>29.725</td>\n",
       "      <td>42.000</td>\n",
       "      <td>3.5</td>\n",
       "      <td>210.0</td>\n",
       "      <td>114.6</td>\n",
       "      <td>71.4</td>\n",
       "      <td>196.6</td>\n",
       "      <td>3.850</td>\n",
       "      <td>18.0</td>\n",
       "      <td>22.0</td>\n",
       "      <td>91.389779</td>\n",
       "    </tr>\n",
       "    <tr>\n",
       "      <th>4</th>\n",
       "      <td>20.397</td>\n",
       "      <td>22.255</td>\n",
       "      <td>23.990</td>\n",
       "      <td>1.8</td>\n",
       "      <td>150.0</td>\n",
       "      <td>102.6</td>\n",
       "      <td>68.2</td>\n",
       "      <td>178.0</td>\n",
       "      <td>2.998</td>\n",
       "      <td>16.4</td>\n",
       "      <td>27.0</td>\n",
       "      <td>62.777639</td>\n",
       "    </tr>\n",
       "    <tr>\n",
       "      <th>5</th>\n",
       "      <td>18.780</td>\n",
       "      <td>23.555</td>\n",
       "      <td>33.950</td>\n",
       "      <td>2.8</td>\n",
       "      <td>200.0</td>\n",
       "      <td>108.7</td>\n",
       "      <td>76.1</td>\n",
       "      <td>192.0</td>\n",
       "      <td>3.561</td>\n",
       "      <td>18.5</td>\n",
       "      <td>22.0</td>\n",
       "      <td>84.565105</td>\n",
       "    </tr>\n",
       "    <tr>\n",
       "      <th>6</th>\n",
       "      <td>1.380</td>\n",
       "      <td>39.000</td>\n",
       "      <td>62.000</td>\n",
       "      <td>4.2</td>\n",
       "      <td>310.0</td>\n",
       "      <td>113.0</td>\n",
       "      <td>74.0</td>\n",
       "      <td>198.2</td>\n",
       "      <td>3.902</td>\n",
       "      <td>23.7</td>\n",
       "      <td>21.0</td>\n",
       "      <td>134.656858</td>\n",
       "    </tr>\n",
       "    <tr>\n",
       "      <th>8</th>\n",
       "      <td>9.231</td>\n",
       "      <td>28.675</td>\n",
       "      <td>33.400</td>\n",
       "      <td>2.8</td>\n",
       "      <td>193.0</td>\n",
       "      <td>107.3</td>\n",
       "      <td>68.5</td>\n",
       "      <td>176.0</td>\n",
       "      <td>3.197</td>\n",
       "      <td>16.6</td>\n",
       "      <td>24.0</td>\n",
       "      <td>81.877069</td>\n",
       "    </tr>\n",
       "    <tr>\n",
       "      <th>9</th>\n",
       "      <td>17.527</td>\n",
       "      <td>36.125</td>\n",
       "      <td>38.900</td>\n",
       "      <td>2.8</td>\n",
       "      <td>193.0</td>\n",
       "      <td>111.4</td>\n",
       "      <td>70.9</td>\n",
       "      <td>188.0</td>\n",
       "      <td>3.472</td>\n",
       "      <td>18.5</td>\n",
       "      <td>25.0</td>\n",
       "      <td>83.998724</td>\n",
       "    </tr>\n",
       "    <tr>\n",
       "      <th>10</th>\n",
       "      <td>91.561</td>\n",
       "      <td>12.475</td>\n",
       "      <td>21.975</td>\n",
       "      <td>3.1</td>\n",
       "      <td>175.0</td>\n",
       "      <td>109.0</td>\n",
       "      <td>72.7</td>\n",
       "      <td>194.6</td>\n",
       "      <td>3.368</td>\n",
       "      <td>17.5</td>\n",
       "      <td>25.0</td>\n",
       "      <td>71.181451</td>\n",
       "    </tr>\n",
       "  </tbody>\n",
       "</table>\n",
       "</div>"
      ],
      "text/plain": [
       "    Sales_in_thousands  __year_resale_value  Price_in_thousands  Engine_size  \\\n",
       "0               16.919               16.360              21.500          1.8   \n",
       "1               39.384               19.875              28.400          3.2   \n",
       "3                8.588               29.725              42.000          3.5   \n",
       "4               20.397               22.255              23.990          1.8   \n",
       "5               18.780               23.555              33.950          2.8   \n",
       "6                1.380               39.000              62.000          4.2   \n",
       "8                9.231               28.675              33.400          2.8   \n",
       "9               17.527               36.125              38.900          2.8   \n",
       "10              91.561               12.475              21.975          3.1   \n",
       "\n",
       "    Horsepower  Wheelbase  Width  Length  Curb_weight  Fuel_capacity  \\\n",
       "0        140.0      101.2   67.3   172.4        2.639           13.2   \n",
       "1        225.0      108.1   70.3   192.9        3.517           17.2   \n",
       "3        210.0      114.6   71.4   196.6        3.850           18.0   \n",
       "4        150.0      102.6   68.2   178.0        2.998           16.4   \n",
       "5        200.0      108.7   76.1   192.0        3.561           18.5   \n",
       "6        310.0      113.0   74.0   198.2        3.902           23.7   \n",
       "8        193.0      107.3   68.5   176.0        3.197           16.6   \n",
       "9        193.0      111.4   70.9   188.0        3.472           18.5   \n",
       "10       175.0      109.0   72.7   194.6        3.368           17.5   \n",
       "\n",
       "    Fuel_efficiency  Power_perf_factor  \n",
       "0              28.0          58.280150  \n",
       "1              25.0          91.370778  \n",
       "3              22.0          91.389779  \n",
       "4              27.0          62.777639  \n",
       "5              22.0          84.565105  \n",
       "6              21.0         134.656858  \n",
       "8              24.0          81.877069  \n",
       "9              25.0          83.998724  \n",
       "10             25.0          71.181451  "
      ]
     },
     "execution_count": 8,
     "metadata": {},
     "output_type": "execute_result"
    }
   ],
   "source": [
    "data_num = df_limpo.select_dtypes(include = ['float64', 'int64']);\n",
    "data_num.head(9)"
   ]
  },
  {
   "cell_type": "markdown",
   "metadata": {},
   "source": [
    "Feita a limpeza para tirar todos os valores nulos do nosso dataframe, podemos inicar a Análise\n",
    "___"
   ]
  },
  {
   "cell_type": "markdown",
   "metadata": {},
   "source": [
    "## 2. Análise explanatória Básica"
   ]
  },
  {
   "cell_type": "code",
   "execution_count": 9,
   "metadata": {},
   "outputs": [
    {
     "data": {
      "image/png": "[encoded data removed]",
      "text/plain": [
       "<Figure size 1080x720 with 12 Axes>"
      ]
     },
     "metadata": {
      "needs_background": "light"
     },
     "output_type": "display_data"
    }
   ],
   "source": [
    "matplotlib.rcParams['font.size'] = 8\n",
    "matplotlib.rcParams['figure.figsize'] = (15,10)\n",
    "data_num.hist(bins=15,xlabelsize=7);"
   ]
  },
  {
   "cell_type": "markdown",
   "metadata": {},
   "source": [
    "Estabelecendo correlação dos parâmetros com o preço dos carros "
   ]
  },
  {
   "cell_type": "code",
   "execution_count": 10,
   "metadata": {},
   "outputs": [
    {
     "data": {
      "text/plain": [
       "Sales_in_thousands    -0.251705\n",
       "__year_resale_value    0.954757\n",
       "Price_in_thousands     1.000000\n",
       "Engine_size            0.649170\n",
       "Horsepower             0.853455\n",
       "Wheelbase              0.067042\n",
       "Width                  0.301292\n",
       "Length                 0.182592\n",
       "Curb_weight            0.511400\n",
       "Fuel_capacity          0.406496\n",
       "Fuel_efficiency       -0.479539\n",
       "Power_perf_factor      0.905002\n",
       "Name: Price_in_thousands, dtype: float64"
      ]
     },
     "execution_count": 10,
     "metadata": {},
     "output_type": "execute_result"
    }
   ],
   "source": [
    "# Correlation with Price_in_thousands\n",
    "df_corr = data_num.corr()['Price_in_thousands']\n",
    "df_corr"
   ]
  },
  {
   "cell_type": "code",
   "execution_count": 11,
   "metadata": {},
   "outputs": [
    {
     "data": {
      "image/png": "[encoded data removed]",
      "text/plain": [
       "<Figure size 900x180 with 6 Axes>"
      ]
     },
     "metadata": {
      "needs_background": "light"
     },
     "output_type": "display_data"
    },
    {
     "data": {
      "image/png": "[encoded data removed]",
      "text/plain": [
       "<Figure size 900x180 with 5 Axes>"
      ]
     },
     "metadata": {
      "needs_background": "light"
     },
     "output_type": "display_data"
    },
    {
     "data": {
      "image/png": "[encoded data removed]",
      "text/plain": [
       "<Figure size 360x180 with 2 Axes>"
      ]
     },
     "metadata": {
      "needs_background": "light"
     },
     "output_type": "display_data"
    }
   ],
   "source": [
    "for i in range(0, len(data_num.columns),5):\n",
    "    sns.pairplot(data_num, y_vars ='Price_in_thousands', x_vars = data_num.columns[i:i+5]  )"
   ]
  },
  {
   "cell_type": "markdown",
   "metadata": {},
   "source": [
    "### Com isso podemos ver que:\n",
    "\n",
    "- Sales_in_thousands    (-0.304734) --> **Correlação negativa e fraca**\n",
    "\n",
    "- __year_resale_value   ( 0.953840) --> **Correlação positiva e forte**\n",
    "\n",
    "- Engine_size           ( 0.626875) --> **Correlação positiva e forte**\n",
    "\n",
    "- Horsepower            ( 0.839744) --> **Correlação positiva e forte**\n",
    "\n",
    "- Wheelbase             ( 0.110513) --> **Correlação positiva e fraca**\n",
    "\n",
    "- Width                 ( 0.329136) --> **Correlação positiva e fraca**\n",
    "\n",
    "- Length                ( 0.156935) --> **Correlação positiva e fraca**\n",
    "\n",
    "- Curb_weight           ( 0.526224) --> **Correlação positiva e fraca** \n",
    "\n",
    "- Fuel_capacity         ( 0.423282) --> **Correlação positiva e fraca** \n",
    "\n",
    "- Fuel_efficiency       (-0.492157) --> **Correlação negativa e fraca**\n",
    "\n",
    "- Power_perf_factor     ( 0.905002) --> **Correlação positiva e forte**"
   ]
  },
  {
   "cell_type": "code",
   "execution_count": 12,
   "metadata": {},
   "outputs": [
    {
     "name": "stderr",
     "output_type": "stream",
     "text": [
      "/opt/anaconda3/lib/python3.8/site-packages/seaborn/distributions.py:2551: FutureWarning: `distplot` is a deprecated function and will be removed in a future version. Please adapt your code to use either `displot` (a figure-level function with similar flexibility) or `histplot` (an axes-level function for histograms).\n",
      "  warnings.warn(msg, FutureWarning)\n"
     ]
    },
    {
     "data": {
      "image/png": "[encoded data removed]",
      "text/plain": [
       "<Figure size 1080x720 with 1 Axes>"
      ]
     },
     "metadata": {
      "needs_background": "light"
     },
     "output_type": "display_data"
    }
   ],
   "source": [
    "sns.distplot(data_num['Price_in_thousands']);"
   ]
  },
  {
   "cell_type": "code",
   "execution_count": 13,
   "metadata": {},
   "outputs": [
    {
     "data": {
      "text/plain": [
       "count    117.000000\n",
       "mean      25.969487\n",
       "std       14.149699\n",
       "min        9.235000\n",
       "25%       16.980000\n",
       "50%       21.665000\n",
       "75%       29.465000\n",
       "85%       37.174600\n",
       "90%       41.658000\n",
       "100%      82.600000\n",
       "max       82.600000\n",
       "Name: Price_in_thousands, dtype: float64"
      ]
     },
     "execution_count": 13,
     "metadata": {},
     "output_type": "execute_result"
    }
   ],
   "source": [
    "data_num.Price_in_thousands.describe(percentiles = [0.25,0.50,0.75,0.85,0.90,1])"
   ]
  },
  {
   "cell_type": "markdown",
   "metadata": {},
   "source": [
    "### Inferência:\n",
    "\n",
    "- O gráfico parecia **inclinado à direita**, o que significa que **a maioria dos preços no conjunto de dados é baixa** (abaixo de 30.000).\n",
    "\n",
    "- Existe uma diferença significativa entre a média e a mediana da distribuição de preços.\n",
    "\n",
    "- Os pontos de dados estão um pouco distantes da média, o que indica uma grande variação nos preços dos automóveis. (85% dos preços estão abaixo de 37.1746, enquanto os 15% restantes estão entre 37.1746 e 82.600)."
   ]
  },
  {
   "cell_type": "code",
   "execution_count": 14,
   "metadata": {},
   "outputs": [
    {
     "data": {
      "image/png": "[encoded data removed]",
      "text/plain": [
       "<Figure size 1080x720 with 2 Axes>"
      ]
     },
     "metadata": {
      "needs_background": "light"
     },
     "output_type": "display_data"
    }
   ],
   "source": [
    "sns.heatmap(data_num.corr(), annot=True, vmin=-1, vmax=1);"
   ]
  },
  {
   "cell_type": "markdown",
   "metadata": {},
   "source": [
    "A partir do mapa de calor podemos mapear as correlações entre todas as variáveis, e não apenas entre elas e o preço.\n",
    "\n",
    "Dessa forma, podemos analisar melhor os dados e inclusive identificar futuros possíveis problemas, como a correlação entre \"Horsepower\" e \"Power perf factor\", de 0,99. Sabendo do que se trata cada variável, pode-se concluir que uma foi calculada a partir da outra."
   ]
  },
  {
   "cell_type": "markdown",
   "metadata": {},
   "source": [
    "<div id='modelo1'></div>\n",
    "\n",
    "___\n",
    "## 3. PRIMEIRA MODELAGEM --> Modelo da Aula 24\n",
    "\n",
    "- [início](#inicio)"
   ]
  },
  {
   "cell_type": "code",
   "execution_count": 15,
   "metadata": {},
   "outputs": [],
   "source": [
    "### Função utilitária para fazer a regressão com constante adicionada\n",
    "\n",
    "def regress(Y,X):\n",
    "    '''\n",
    "    Y: coluna do DataFrame utilizada como variável resposta (TARGET - Preço)\n",
    "    X: coluna(s) do DataFrame utilizadas como variável(is) explicativas (FEATURES - Especificações)\n",
    "    '''\n",
    "    X_cp = sm.add_constant(X)\n",
    "    model = sm.OLS(Y,X_cp)\n",
    "    results = model.fit()\n",
    "    \n",
    "    return results"
   ]
  },
  {
   "cell_type": "markdown",
   "metadata": {},
   "source": [
    "Passo 1: Ajustando o modelo\n",
    "\n",
    "Ajuste do modelo considerando Preço como resposta (dependente) e as demais variáveis da base de dados como explicativas:\n"
   ]
  },
  {
   "cell_type": "code",
   "execution_count": 16,
   "metadata": {},
   "outputs": [],
   "source": [
    "X = data_num[['Sales_in_thousands', 'Engine_size', 'Horsepower', 'Wheelbase',\n",
    "              'Width', 'Length','Curb_weight','Fuel_capacity','Fuel_efficiency']]\n",
    "Y = data_num['Price_in_thousands']"
   ]
  },
  {
   "cell_type": "markdown",
   "metadata": {},
   "source": [
    "Nota-se que a coluna \"Power perf factor\" foi retirada da análise, justamente pela conclusão obtida a partir do `heatmap`. A correlação extremamente alta dela com \"Horsepower\" influenciaria os cálculos, dado que estaríamos utilizando duas variáveis praticamente iguais. "
   ]
  },
  {
   "cell_type": "code",
   "execution_count": null,
   "metadata": {},
   "outputs": [],
   "source": []
  },
  {
   "cell_type": "code",
   "execution_count": 17,
   "metadata": {},
   "outputs": [
    {
     "data": {
      "text/html": [
       "<table class=\"simpletable\">\n",
       "<caption>OLS Regression Results</caption>\n",
       "<tr>\n",
       "  <th>Dep. Variable:</th>    <td>Price_in_thousands</td> <th>  R-squared:         </th> <td>   0.818</td>\n",
       "</tr>\n",
       "<tr>\n",
       "  <th>Model:</th>                    <td>OLS</td>        <th>  Adj. R-squared:    </th> <td>   0.802</td>\n",
       "</tr>\n",
       "<tr>\n",
       "  <th>Method:</th>              <td>Least Squares</td>   <th>  F-statistic:       </th> <td>   53.36</td>\n",
       "</tr>\n",
       "<tr>\n",
       "  <th>Date:</th>              <td>Tue, 30 Nov 2021</td>  <th>  Prob (F-statistic):</th> <td>1.54e-35</td>\n",
       "</tr>\n",
       "<tr>\n",
       "  <th>Time:</th>                  <td>08:31:13</td>      <th>  Log-Likelihood:    </th> <td> -375.93</td>\n",
       "</tr>\n",
       "<tr>\n",
       "  <th>No. Observations:</th>       <td>   117</td>       <th>  AIC:               </th> <td>   771.9</td>\n",
       "</tr>\n",
       "<tr>\n",
       "  <th>Df Residuals:</th>           <td>   107</td>       <th>  BIC:               </th> <td>   799.5</td>\n",
       "</tr>\n",
       "<tr>\n",
       "  <th>Df Model:</th>               <td>     9</td>       <th>                     </th>     <td> </td>   \n",
       "</tr>\n",
       "<tr>\n",
       "  <th>Covariance Type:</th>       <td>nonrobust</td>     <th>                     </th>     <td> </td>   \n",
       "</tr>\n",
       "</table>\n",
       "<table class=\"simpletable\">\n",
       "<tr>\n",
       "           <td></td>             <th>coef</th>     <th>std err</th>      <th>t</th>      <th>P>|t|</th>  <th>[0.025</th>    <th>0.975]</th>  \n",
       "</tr>\n",
       "<tr>\n",
       "  <th>const</th>              <td>   22.9764</td> <td>   18.215</td> <td>    1.261</td> <td> 0.210</td> <td>  -13.133</td> <td>   59.086</td>\n",
       "</tr>\n",
       "<tr>\n",
       "  <th>Sales_in_thousands</th> <td>-3.689e-05</td> <td>    0.009</td> <td>   -0.004</td> <td> 0.997</td> <td>   -0.019</td> <td>    0.019</td>\n",
       "</tr>\n",
       "<tr>\n",
       "  <th>Engine_size</th>        <td>   -4.7238</td> <td>    1.464</td> <td>   -3.227</td> <td> 0.002</td> <td>   -7.626</td> <td>   -1.822</td>\n",
       "</tr>\n",
       "<tr>\n",
       "  <th>Horsepower</th>         <td>    0.2659</td> <td>    0.022</td> <td>   12.293</td> <td> 0.000</td> <td>    0.223</td> <td>    0.309</td>\n",
       "</tr>\n",
       "<tr>\n",
       "  <th>Wheelbase</th>          <td>   -0.1035</td> <td>    0.182</td> <td>   -0.567</td> <td> 0.572</td> <td>   -0.465</td> <td>    0.258</td>\n",
       "</tr>\n",
       "<tr>\n",
       "  <th>Width</th>              <td>   -0.4165</td> <td>    0.299</td> <td>   -1.391</td> <td> 0.167</td> <td>   -1.010</td> <td>    0.177</td>\n",
       "</tr>\n",
       "<tr>\n",
       "  <th>Length</th>             <td>   -0.2155</td> <td>    0.100</td> <td>   -2.158</td> <td> 0.033</td> <td>   -0.414</td> <td>   -0.018</td>\n",
       "</tr>\n",
       "<tr>\n",
       "  <th>Curb_weight</th>        <td>   10.1626</td> <td>    2.583</td> <td>    3.935</td> <td> 0.000</td> <td>    5.043</td> <td>   15.282</td>\n",
       "</tr>\n",
       "<tr>\n",
       "  <th>Fuel_capacity</th>      <td>    0.2923</td> <td>    0.352</td> <td>    0.831</td> <td> 0.408</td> <td>   -0.405</td> <td>    0.990</td>\n",
       "</tr>\n",
       "<tr>\n",
       "  <th>Fuel_efficiency</th>    <td>    0.4738</td> <td>    0.278</td> <td>    1.705</td> <td> 0.091</td> <td>   -0.077</td> <td>    1.025</td>\n",
       "</tr>\n",
       "</table>\n",
       "<table class=\"simpletable\">\n",
       "<tr>\n",
       "  <th>Omnibus:</th>       <td>36.464</td> <th>  Durbin-Watson:     </th> <td>   1.475</td>\n",
       "</tr>\n",
       "<tr>\n",
       "  <th>Prob(Omnibus):</th> <td> 0.000</td> <th>  Jarque-Bera (JB):  </th> <td>  82.214</td>\n",
       "</tr>\n",
       "<tr>\n",
       "  <th>Skew:</th>          <td> 1.230</td> <th>  Prob(JB):          </th> <td>1.40e-18</td>\n",
       "</tr>\n",
       "<tr>\n",
       "  <th>Kurtosis:</th>      <td> 6.288</td> <th>  Cond. No.          </th> <td>9.45e+03</td>\n",
       "</tr>\n",
       "</table><br/><br/>Notes:<br/>[1] Standard Errors assume that the covariance matrix of the errors is correctly specified.<br/>[2] The condition number is large, 9.45e+03. This might indicate that there are<br/>strong multicollinearity or other numerical problems."
      ],
      "text/plain": [
       "<class 'statsmodels.iolib.summary.Summary'>\n",
       "\"\"\"\n",
       "                            OLS Regression Results                            \n",
       "==============================================================================\n",
       "Dep. Variable:     Price_in_thousands   R-squared:                       0.818\n",
       "Model:                            OLS   Adj. R-squared:                  0.802\n",
       "Method:                 Least Squares   F-statistic:                     53.36\n",
       "Date:                Tue, 30 Nov 2021   Prob (F-statistic):           1.54e-35\n",
       "Time:                        08:31:13   Log-Likelihood:                -375.93\n",
       "No. Observations:                 117   AIC:                             771.9\n",
       "Df Residuals:                     107   BIC:                             799.5\n",
       "Df Model:                           9                                         \n",
       "Covariance Type:            nonrobust                                         \n",
       "======================================================================================\n",
       "                         coef    std err          t      P>|t|      [0.025      0.975]\n",
       "--------------------------------------------------------------------------------------\n",
       "const                 22.9764     18.215      1.261      0.210     -13.133      59.086\n",
       "Sales_in_thousands -3.689e-05      0.009     -0.004      0.997      -0.019       0.019\n",
       "Engine_size           -4.7238      1.464     -3.227      0.002      -7.626      -1.822\n",
       "Horsepower             0.2659      0.022     12.293      0.000       0.223       0.309\n",
       "Wheelbase             -0.1035      0.182     -0.567      0.572      -0.465       0.258\n",
       "Width                 -0.4165      0.299     -1.391      0.167      -1.010       0.177\n",
       "Length                -0.2155      0.100     -2.158      0.033      -0.414      -0.018\n",
       "Curb_weight           10.1626      2.583      3.935      0.000       5.043      15.282\n",
       "Fuel_capacity          0.2923      0.352      0.831      0.408      -0.405       0.990\n",
       "Fuel_efficiency        0.4738      0.278      1.705      0.091      -0.077       1.025\n",
       "==============================================================================\n",
       "Omnibus:                       36.464   Durbin-Watson:                   1.475\n",
       "Prob(Omnibus):                  0.000   Jarque-Bera (JB):               82.214\n",
       "Skew:                           1.230   Prob(JB):                     1.40e-18\n",
       "Kurtosis:                       6.288   Cond. No.                     9.45e+03\n",
       "==============================================================================\n",
       "\n",
       "Notes:\n",
       "[1] Standard Errors assume that the covariance matrix of the errors is correctly specified.\n",
       "[2] The condition number is large, 9.45e+03. This might indicate that there are\n",
       "strong multicollinearity or other numerical problems.\n",
       "\"\"\""
      ]
     },
     "execution_count": 17,
     "metadata": {},
     "output_type": "execute_result"
    }
   ],
   "source": [
    "results = regress(Y,X)\n",
    "results.summary()"
   ]
  },
  {
   "cell_type": "code",
   "execution_count": 18,
   "metadata": {},
   "outputs": [
    {
     "data": {
      "text/html": [
       "<table class=\"simpletable\">\n",
       "<caption>OLS Regression Results</caption>\n",
       "<tr>\n",
       "  <th>Dep. Variable:</th>    <td>Price_in_thousands</td> <th>  R-squared:         </th> <td>   0.818</td>\n",
       "</tr>\n",
       "<tr>\n",
       "  <th>Model:</th>                    <td>OLS</td>        <th>  Adj. R-squared:    </th> <td>   0.804</td>\n",
       "</tr>\n",
       "<tr>\n",
       "  <th>Method:</th>              <td>Least Squares</td>   <th>  F-statistic:       </th> <td>   60.59</td>\n",
       "</tr>\n",
       "<tr>\n",
       "  <th>Date:</th>              <td>Tue, 30 Nov 2021</td>  <th>  Prob (F-statistic):</th> <td>1.91e-36</td>\n",
       "</tr>\n",
       "<tr>\n",
       "  <th>Time:</th>                  <td>08:31:13</td>      <th>  Log-Likelihood:    </th> <td> -375.93</td>\n",
       "</tr>\n",
       "<tr>\n",
       "  <th>No. Observations:</th>       <td>   117</td>       <th>  AIC:               </th> <td>   769.9</td>\n",
       "</tr>\n",
       "<tr>\n",
       "  <th>Df Residuals:</th>           <td>   108</td>       <th>  BIC:               </th> <td>   794.7</td>\n",
       "</tr>\n",
       "<tr>\n",
       "  <th>Df Model:</th>               <td>     8</td>       <th>                     </th>     <td> </td>   \n",
       "</tr>\n",
       "<tr>\n",
       "  <th>Covariance Type:</th>       <td>nonrobust</td>     <th>                     </th>     <td> </td>   \n",
       "</tr>\n",
       "</table>\n",
       "<table class=\"simpletable\">\n",
       "<tr>\n",
       "         <td></td>            <th>coef</th>     <th>std err</th>      <th>t</th>      <th>P>|t|</th>  <th>[0.025</th>    <th>0.975]</th>  \n",
       "</tr>\n",
       "<tr>\n",
       "  <th>const</th>           <td>   22.9847</td> <td>   18.008</td> <td>    1.276</td> <td> 0.205</td> <td>  -12.709</td> <td>   58.679</td>\n",
       "</tr>\n",
       "<tr>\n",
       "  <th>Engine_size</th>     <td>   -4.7252</td> <td>    1.414</td> <td>   -3.342</td> <td> 0.001</td> <td>   -7.528</td> <td>   -1.923</td>\n",
       "</tr>\n",
       "<tr>\n",
       "  <th>Horsepower</th>      <td>    0.2659</td> <td>    0.021</td> <td>   12.817</td> <td> 0.000</td> <td>    0.225</td> <td>    0.307</td>\n",
       "</tr>\n",
       "<tr>\n",
       "  <th>Wheelbase</th>       <td>   -0.1038</td> <td>    0.171</td> <td>   -0.605</td> <td> 0.546</td> <td>   -0.444</td> <td>    0.236</td>\n",
       "</tr>\n",
       "<tr>\n",
       "  <th>Width</th>           <td>   -0.4165</td> <td>    0.298</td> <td>   -1.397</td> <td> 0.165</td> <td>   -1.007</td> <td>    0.174</td>\n",
       "</tr>\n",
       "<tr>\n",
       "  <th>Length</th>          <td>   -0.2155</td> <td>    0.099</td> <td>   -2.170</td> <td> 0.032</td> <td>   -0.412</td> <td>   -0.019</td>\n",
       "</tr>\n",
       "<tr>\n",
       "  <th>Curb_weight</th>     <td>   10.1651</td> <td>    2.486</td> <td>    4.089</td> <td> 0.000</td> <td>    5.237</td> <td>   15.093</td>\n",
       "</tr>\n",
       "<tr>\n",
       "  <th>Fuel_capacity</th>   <td>    0.2923</td> <td>    0.350</td> <td>    0.835</td> <td> 0.406</td> <td>   -0.402</td> <td>    0.986</td>\n",
       "</tr>\n",
       "<tr>\n",
       "  <th>Fuel_efficiency</th> <td>    0.4739</td> <td>    0.276</td> <td>    1.720</td> <td> 0.088</td> <td>   -0.072</td> <td>    1.020</td>\n",
       "</tr>\n",
       "</table>\n",
       "<table class=\"simpletable\">\n",
       "<tr>\n",
       "  <th>Omnibus:</th>       <td>36.467</td> <th>  Durbin-Watson:     </th> <td>   1.475</td>\n",
       "</tr>\n",
       "<tr>\n",
       "  <th>Prob(Omnibus):</th> <td> 0.000</td> <th>  Jarque-Bera (JB):  </th> <td>  82.224</td>\n",
       "</tr>\n",
       "<tr>\n",
       "  <th>Skew:</th>          <td> 1.230</td> <th>  Prob(JB):          </th> <td>1.40e-18</td>\n",
       "</tr>\n",
       "<tr>\n",
       "  <th>Kurtosis:</th>      <td> 6.288</td> <th>  Cond. No.          </th> <td>9.20e+03</td>\n",
       "</tr>\n",
       "</table><br/><br/>Notes:<br/>[1] Standard Errors assume that the covariance matrix of the errors is correctly specified.<br/>[2] The condition number is large, 9.2e+03. This might indicate that there are<br/>strong multicollinearity or other numerical problems."
      ],
      "text/plain": [
       "<class 'statsmodels.iolib.summary.Summary'>\n",
       "\"\"\"\n",
       "                            OLS Regression Results                            \n",
       "==============================================================================\n",
       "Dep. Variable:     Price_in_thousands   R-squared:                       0.818\n",
       "Model:                            OLS   Adj. R-squared:                  0.804\n",
       "Method:                 Least Squares   F-statistic:                     60.59\n",
       "Date:                Tue, 30 Nov 2021   Prob (F-statistic):           1.91e-36\n",
       "Time:                        08:31:13   Log-Likelihood:                -375.93\n",
       "No. Observations:                 117   AIC:                             769.9\n",
       "Df Residuals:                     108   BIC:                             794.7\n",
       "Df Model:                           8                                         \n",
       "Covariance Type:            nonrobust                                         \n",
       "===================================================================================\n",
       "                      coef    std err          t      P>|t|      [0.025      0.975]\n",
       "-----------------------------------------------------------------------------------\n",
       "const              22.9847     18.008      1.276      0.205     -12.709      58.679\n",
       "Engine_size        -4.7252      1.414     -3.342      0.001      -7.528      -1.923\n",
       "Horsepower          0.2659      0.021     12.817      0.000       0.225       0.307\n",
       "Wheelbase          -0.1038      0.171     -0.605      0.546      -0.444       0.236\n",
       "Width              -0.4165      0.298     -1.397      0.165      -1.007       0.174\n",
       "Length             -0.2155      0.099     -2.170      0.032      -0.412      -0.019\n",
       "Curb_weight        10.1651      2.486      4.089      0.000       5.237      15.093\n",
       "Fuel_capacity       0.2923      0.350      0.835      0.406      -0.402       0.986\n",
       "Fuel_efficiency     0.4739      0.276      1.720      0.088      -0.072       1.020\n",
       "==============================================================================\n",
       "Omnibus:                       36.467   Durbin-Watson:                   1.475\n",
       "Prob(Omnibus):                  0.000   Jarque-Bera (JB):               82.224\n",
       "Skew:                           1.230   Prob(JB):                     1.40e-18\n",
       "Kurtosis:                       6.288   Cond. No.                     9.20e+03\n",
       "==============================================================================\n",
       "\n",
       "Notes:\n",
       "[1] Standard Errors assume that the covariance matrix of the errors is correctly specified.\n",
       "[2] The condition number is large, 9.2e+03. This might indicate that there are\n",
       "strong multicollinearity or other numerical problems.\n",
       "\"\"\""
      ]
     },
     "execution_count": 18,
     "metadata": {},
     "output_type": "execute_result"
    }
   ],
   "source": [
    "X2 = data_num [[ 'Engine_size', 'Horsepower', 'Wheelbase','Width', 'Length','Curb_weight','Fuel_capacity','Fuel_efficiency']]\n",
    "\n",
    "results2 = regress(Y,X2)\n",
    "results2.summary()"
   ]
  },
  {
   "cell_type": "code",
   "execution_count": 19,
   "metadata": {},
   "outputs": [
    {
     "data": {
      "text/html": [
       "<table class=\"simpletable\">\n",
       "<caption>OLS Regression Results</caption>\n",
       "<tr>\n",
       "  <th>Dep. Variable:</th>    <td>Price_in_thousands</td> <th>  R-squared:         </th> <td>   0.809</td>\n",
       "</tr>\n",
       "<tr>\n",
       "  <th>Model:</th>                    <td>OLS</td>        <th>  Adj. R-squared:    </th> <td>   0.803</td>\n",
       "</tr>\n",
       "<tr>\n",
       "  <th>Method:</th>              <td>Least Squares</td>   <th>  F-statistic:       </th> <td>   119.0</td>\n",
       "</tr>\n",
       "<tr>\n",
       "  <th>Date:</th>              <td>Tue, 30 Nov 2021</td>  <th>  Prob (F-statistic):</th> <td>2.20e-39</td>\n",
       "</tr>\n",
       "<tr>\n",
       "  <th>Time:</th>                  <td>08:31:13</td>      <th>  Log-Likelihood:    </th> <td> -378.54</td>\n",
       "</tr>\n",
       "<tr>\n",
       "  <th>No. Observations:</th>       <td>   117</td>       <th>  AIC:               </th> <td>   767.1</td>\n",
       "</tr>\n",
       "<tr>\n",
       "  <th>Df Residuals:</th>           <td>   112</td>       <th>  BIC:               </th> <td>   780.9</td>\n",
       "</tr>\n",
       "<tr>\n",
       "  <th>Df Model:</th>               <td>     4</td>       <th>                     </th>     <td> </td>   \n",
       "</tr>\n",
       "<tr>\n",
       "  <th>Covariance Type:</th>       <td>nonrobust</td>     <th>                     </th>     <td> </td>   \n",
       "</tr>\n",
       "</table>\n",
       "<table class=\"simpletable\">\n",
       "<tr>\n",
       "       <td></td>          <th>coef</th>     <th>std err</th>      <th>t</th>      <th>P>|t|</th>  <th>[0.025</th>    <th>0.975]</th>  \n",
       "</tr>\n",
       "<tr>\n",
       "  <th>const</th>       <td>   19.4472</td> <td>    8.804</td> <td>    2.209</td> <td> 0.029</td> <td>    2.003</td> <td>   36.891</td>\n",
       "</tr>\n",
       "<tr>\n",
       "  <th>Engine_size</th> <td>   -5.8189</td> <td>    1.322</td> <td>   -4.401</td> <td> 0.000</td> <td>   -8.438</td> <td>   -3.199</td>\n",
       "</tr>\n",
       "<tr>\n",
       "  <th>Horsepower</th>  <td>    0.2732</td> <td>    0.020</td> <td>   13.752</td> <td> 0.000</td> <td>    0.234</td> <td>    0.313</td>\n",
       "</tr>\n",
       "<tr>\n",
       "  <th>Length</th>      <td>   -0.2785</td> <td>    0.058</td> <td>   -4.789</td> <td> 0.000</td> <td>   -0.394</td> <td>   -0.163</td>\n",
       "</tr>\n",
       "<tr>\n",
       "  <th>Curb_weight</th> <td>    8.1303</td> <td>    1.694</td> <td>    4.799</td> <td> 0.000</td> <td>    4.774</td> <td>   11.487</td>\n",
       "</tr>\n",
       "</table>\n",
       "<table class=\"simpletable\">\n",
       "<tr>\n",
       "  <th>Omnibus:</th>       <td>40.019</td> <th>  Durbin-Watson:     </th> <td>   1.388</td>\n",
       "</tr>\n",
       "<tr>\n",
       "  <th>Prob(Omnibus):</th> <td> 0.000</td> <th>  Jarque-Bera (JB):  </th> <td>  97.338</td>\n",
       "</tr>\n",
       "<tr>\n",
       "  <th>Skew:</th>          <td> 1.320</td> <th>  Prob(JB):          </th> <td>7.30e-22</td>\n",
       "</tr>\n",
       "<tr>\n",
       "  <th>Kurtosis:</th>      <td> 6.605</td> <th>  Cond. No.          </th> <td>4.02e+03</td>\n",
       "</tr>\n",
       "</table><br/><br/>Notes:<br/>[1] Standard Errors assume that the covariance matrix of the errors is correctly specified.<br/>[2] The condition number is large, 4.02e+03. This might indicate that there are<br/>strong multicollinearity or other numerical problems."
      ],
      "text/plain": [
       "<class 'statsmodels.iolib.summary.Summary'>\n",
       "\"\"\"\n",
       "                            OLS Regression Results                            \n",
       "==============================================================================\n",
       "Dep. Variable:     Price_in_thousands   R-squared:                       0.809\n",
       "Model:                            OLS   Adj. R-squared:                  0.803\n",
       "Method:                 Least Squares   F-statistic:                     119.0\n",
       "Date:                Tue, 30 Nov 2021   Prob (F-statistic):           2.20e-39\n",
       "Time:                        08:31:13   Log-Likelihood:                -378.54\n",
       "No. Observations:                 117   AIC:                             767.1\n",
       "Df Residuals:                     112   BIC:                             780.9\n",
       "Df Model:                           4                                         \n",
       "Covariance Type:            nonrobust                                         \n",
       "===============================================================================\n",
       "                  coef    std err          t      P>|t|      [0.025      0.975]\n",
       "-------------------------------------------------------------------------------\n",
       "const          19.4472      8.804      2.209      0.029       2.003      36.891\n",
       "Engine_size    -5.8189      1.322     -4.401      0.000      -8.438      -3.199\n",
       "Horsepower      0.2732      0.020     13.752      0.000       0.234       0.313\n",
       "Length         -0.2785      0.058     -4.789      0.000      -0.394      -0.163\n",
       "Curb_weight     8.1303      1.694      4.799      0.000       4.774      11.487\n",
       "==============================================================================\n",
       "Omnibus:                       40.019   Durbin-Watson:                   1.388\n",
       "Prob(Omnibus):                  0.000   Jarque-Bera (JB):               97.338\n",
       "Skew:                           1.320   Prob(JB):                     7.30e-22\n",
       "Kurtosis:                       6.605   Cond. No.                     4.02e+03\n",
       "==============================================================================\n",
       "\n",
       "Notes:\n",
       "[1] Standard Errors assume that the covariance matrix of the errors is correctly specified.\n",
       "[2] The condition number is large, 4.02e+03. This might indicate that there are\n",
       "strong multicollinearity or other numerical problems.\n",
       "\"\"\""
      ]
     },
     "execution_count": 19,
     "metadata": {},
     "output_type": "execute_result"
    }
   ],
   "source": [
    "X3 = data_num [[ 'Engine_size', 'Horsepower', 'Length','Curb_weight']]\n",
    "\n",
    "results3 = regress(Y,X3)\n",
    "results3.summary()"
   ]
  },
  {
   "cell_type": "code",
   "execution_count": null,
   "metadata": {},
   "outputs": [],
   "source": []
  },
  {
   "cell_type": "code",
   "execution_count": 20,
   "metadata": {},
   "outputs": [
    {
     "data": {
      "image/png": "[encoded data removed]",
      "text/plain": [
       "<Figure size 1080x720 with 1 Axes>"
      ]
     },
     "metadata": {
      "needs_background": "light"
     },
     "output_type": "display_data"
    }
   ],
   "source": [
    "from scipy.stats import norm, probplot\n",
    "scipy.stats.probplot(results.resid, dist= 'norm', plot =plt);"
   ]
  },
  {
   "cell_type": "code",
   "execution_count": 21,
   "metadata": {},
   "outputs": [
    {
     "name": "stdout",
     "output_type": "stream",
     "text": [
      "<bound method Results.predict of <statsmodels.regression.linear_model.OLSResults object at 0x7fc08ad86a90>>\n"
     ]
    }
   ],
   "source": [
    "print (results.predict)"
   ]
  },
  {
   "cell_type": "code",
   "execution_count": 22,
   "metadata": {},
   "outputs": [
    {
     "name": "stderr",
     "output_type": "stream",
     "text": [
      "<ipython-input-22-0fec8464addd>:1: SettingWithCopyWarning: \n",
      "A value is trying to be set on a copy of a slice from a DataFrame.\n",
      "Try using .loc[row_indexer,col_indexer] = value instead\n",
      "\n",
      "See the caveats in the documentation: https://pandas.pydata.org/pandas-docs/stable/user_guide/indexing.html#returning-a-view-versus-a-copy\n",
      "  data_num['log_engine'] = np.log(data_num[ 'Engine_size'])\n"
     ]
    },
    {
     "data": {
      "text/html": [
       "<table class=\"simpletable\">\n",
       "<caption>OLS Regression Results</caption>\n",
       "<tr>\n",
       "  <th>Dep. Variable:</th>    <td>Price_in_thousands</td> <th>  R-squared:         </th> <td>   0.728</td>\n",
       "</tr>\n",
       "<tr>\n",
       "  <th>Model:</th>                    <td>OLS</td>        <th>  Adj. R-squared:    </th> <td>   0.718</td>\n",
       "</tr>\n",
       "<tr>\n",
       "  <th>Method:</th>              <td>Least Squares</td>   <th>  F-statistic:       </th> <td>   74.93</td>\n",
       "</tr>\n",
       "<tr>\n",
       "  <th>Date:</th>              <td>Tue, 30 Nov 2021</td>  <th>  Prob (F-statistic):</th> <td>9.11e-31</td>\n",
       "</tr>\n",
       "<tr>\n",
       "  <th>Time:</th>                  <td>08:31:13</td>      <th>  Log-Likelihood:    </th> <td> -399.37</td>\n",
       "</tr>\n",
       "<tr>\n",
       "  <th>No. Observations:</th>       <td>   117</td>       <th>  AIC:               </th> <td>   808.7</td>\n",
       "</tr>\n",
       "<tr>\n",
       "  <th>Df Residuals:</th>           <td>   112</td>       <th>  BIC:               </th> <td>   822.6</td>\n",
       "</tr>\n",
       "<tr>\n",
       "  <th>Df Model:</th>               <td>     4</td>       <th>                     </th>     <td> </td>   \n",
       "</tr>\n",
       "<tr>\n",
       "  <th>Covariance Type:</th>       <td>nonrobust</td>     <th>                     </th>     <td> </td>   \n",
       "</tr>\n",
       "</table>\n",
       "<table class=\"simpletable\">\n",
       "<tr>\n",
       "         <td></td>           <th>coef</th>     <th>std err</th>      <th>t</th>      <th>P>|t|</th>  <th>[0.025</th>    <th>0.975]</th>  \n",
       "</tr>\n",
       "<tr>\n",
       "  <th>const</th>          <td>  108.7297</td> <td>   69.707</td> <td>    1.560</td> <td> 0.122</td> <td>  -29.385</td> <td>  246.845</td>\n",
       "</tr>\n",
       "<tr>\n",
       "  <th>log_engine</th>     <td>  -10.2922</td> <td>    5.403</td> <td>   -1.905</td> <td> 0.059</td> <td>  -20.998</td> <td>    0.413</td>\n",
       "</tr>\n",
       "<tr>\n",
       "  <th>log_horsepower</th> <td>   47.1789</td> <td>    4.659</td> <td>   10.126</td> <td> 0.000</td> <td>   37.948</td> <td>   56.410</td>\n",
       "</tr>\n",
       "<tr>\n",
       "  <th>log_length</th>     <td>  -63.7042</td> <td>   13.216</td> <td>   -4.820</td> <td> 0.000</td> <td>  -89.890</td> <td>  -37.518</td>\n",
       "</tr>\n",
       "<tr>\n",
       "  <th>log_curb</th>       <td>   15.5380</td> <td>    7.507</td> <td>    2.070</td> <td> 0.041</td> <td>    0.664</td> <td>   30.412</td>\n",
       "</tr>\n",
       "</table>\n",
       "<table class=\"simpletable\">\n",
       "<tr>\n",
       "  <th>Omnibus:</th>       <td>43.251</td> <th>  Durbin-Watson:     </th> <td>   1.350</td>\n",
       "</tr>\n",
       "<tr>\n",
       "  <th>Prob(Omnibus):</th> <td> 0.000</td> <th>  Jarque-Bera (JB):  </th> <td>  92.716</td>\n",
       "</tr>\n",
       "<tr>\n",
       "  <th>Skew:</th>          <td> 1.519</td> <th>  Prob(JB):          </th> <td>7.36e-21</td>\n",
       "</tr>\n",
       "<tr>\n",
       "  <th>Kurtosis:</th>      <td> 6.128</td> <th>  Cond. No.          </th> <td>    775.</td>\n",
       "</tr>\n",
       "</table><br/><br/>Notes:<br/>[1] Standard Errors assume that the covariance matrix of the errors is correctly specified."
      ],
      "text/plain": [
       "<class 'statsmodels.iolib.summary.Summary'>\n",
       "\"\"\"\n",
       "                            OLS Regression Results                            \n",
       "==============================================================================\n",
       "Dep. Variable:     Price_in_thousands   R-squared:                       0.728\n",
       "Model:                            OLS   Adj. R-squared:                  0.718\n",
       "Method:                 Least Squares   F-statistic:                     74.93\n",
       "Date:                Tue, 30 Nov 2021   Prob (F-statistic):           9.11e-31\n",
       "Time:                        08:31:13   Log-Likelihood:                -399.37\n",
       "No. Observations:                 117   AIC:                             808.7\n",
       "Df Residuals:                     112   BIC:                             822.6\n",
       "Df Model:                           4                                         \n",
       "Covariance Type:            nonrobust                                         \n",
       "==================================================================================\n",
       "                     coef    std err          t      P>|t|      [0.025      0.975]\n",
       "----------------------------------------------------------------------------------\n",
       "const            108.7297     69.707      1.560      0.122     -29.385     246.845\n",
       "log_engine       -10.2922      5.403     -1.905      0.059     -20.998       0.413\n",
       "log_horsepower    47.1789      4.659     10.126      0.000      37.948      56.410\n",
       "log_length       -63.7042     13.216     -4.820      0.000     -89.890     -37.518\n",
       "log_curb          15.5380      7.507      2.070      0.041       0.664      30.412\n",
       "==============================================================================\n",
       "Omnibus:                       43.251   Durbin-Watson:                   1.350\n",
       "Prob(Omnibus):                  0.000   Jarque-Bera (JB):               92.716\n",
       "Skew:                           1.519   Prob(JB):                     7.36e-21\n",
       "Kurtosis:                       6.128   Cond. No.                         775.\n",
       "==============================================================================\n",
       "\n",
       "Notes:\n",
       "[1] Standard Errors assume that the covariance matrix of the errors is correctly specified.\n",
       "\"\"\""
      ]
     },
     "execution_count": 22,
     "metadata": {},
     "output_type": "execute_result"
    }
   ],
   "source": [
    "data_num['log_engine'] = np.log(data_num[ 'Engine_size'])\n",
    "data_num['log_horsepower'] = np.log(data_num[ 'Horsepower'])\n",
    "data_num['log_length'] = np.log(data_num[ 'Length'])\n",
    "data_num['log_curb'] = np.log(data_num['Curb_weight'])\n",
    "\n",
    "\n",
    "\n",
    "\n",
    "X3 = data_num [[ 'log_engine', 'log_horsepower', 'log_length','log_curb']]\n",
    "\n",
    "results3 = regress(Y,X3)\n",
    "results3.summary()"
   ]
  },
  {
   "cell_type": "code",
   "execution_count": null,
   "metadata": {},
   "outputs": [],
   "source": []
  },
  {
   "cell_type": "code",
   "execution_count": null,
   "metadata": {},
   "outputs": [],
   "source": []
  },
  {
   "cell_type": "code",
   "execution_count": null,
   "metadata": {},
   "outputs": [],
   "source": []
  },
  {
   "cell_type": "code",
   "execution_count": null,
   "metadata": {},
   "outputs": [],
   "source": []
  },
  {
   "cell_type": "code",
   "execution_count": null,
   "metadata": {},
   "outputs": [],
   "source": [
    "\n"
   ]
  },
  {
   "cell_type": "code",
   "execution_count": null,
   "metadata": {},
   "outputs": [],
   "source": []
  },
  {
   "cell_type": "code",
   "execution_count": null,
   "metadata": {},
   "outputs": [],
   "source": []
  },
  {
   "cell_type": "code",
   "execution_count": null,
   "metadata": {},
   "outputs": [],
   "source": []
  },
  {
   "cell_type": "code",
   "execution_count": 23,
   "metadata": {},
   "outputs": [],
   "source": [
    "targets = data_num['Price_in_thousands']\n",
    "inputs = data_num[[ 'Engine_size', 'Horsepower', 'Length','Curb_weight']]"
   ]
  },
  {
   "cell_type": "markdown",
   "metadata": {},
   "source": [
    "### Escalando os dados - Usando sklearn"
   ]
  },
  {
   "cell_type": "code",
   "execution_count": 24,
   "metadata": {},
   "outputs": [],
   "source": [
    "from sklearn.preprocessing import StandardScaler\n",
    "\n",
    "targets = data_num['Price_in_thousands']\n",
    "inputs = data_num[[ 'Engine_size', 'Horsepower', 'Length','Curb_weight']]\n"
   ]
  },
  {
   "cell_type": "code",
   "execution_count": null,
   "metadata": {},
   "outputs": [],
   "source": []
  },
  {
   "cell_type": "markdown",
   "metadata": {},
   "source": [
    "Usando treino e teste "
   ]
  },
  {
   "cell_type": "code",
   "execution_count": 25,
   "metadata": {},
   "outputs": [],
   "source": [
    "from sklearn.model_selection import train_test_split\n",
    "\n",
    "x_train,x_test,y_train,y_test = train_test_split(inputs,targets,test_size = 0.2, random_state=40)"
   ]
  },
  {
   "cell_type": "code",
   "execution_count": null,
   "metadata": {},
   "outputs": [],
   "source": []
  },
  {
   "cell_type": "markdown",
   "metadata": {},
   "source": [
    "Criando a regressão"
   ]
  },
  {
   "cell_type": "code",
   "execution_count": 26,
   "metadata": {},
   "outputs": [
    {
     "data": {
      "text/plain": [
       "0.7279702865357354"
      ]
     },
     "execution_count": 26,
     "metadata": {},
     "output_type": "execute_result"
    }
   ],
   "source": [
    "from sklearn.linear_model import LinearRegression\n",
    "model = LinearRegression()\n",
    "model.fit(x_train,y_train)\n",
    "LinearRegression()\n",
    "\n",
    "# Construindo então regressão Linear\n",
    "from sklearn.linear_model import LinearRegression\n",
    "\n",
    "reg = LinearRegression().fit(X3, Y);\n",
    "\n",
    "reg.score(X3, Y)\n",
    "\n",
    "# TESTE"
   ]
  },
  {
   "cell_type": "markdown",
   "metadata": {},
   "source": [
    "Usando a função predict para prever os valores de x"
   ]
  },
  {
   "cell_type": "code",
   "execution_count": 27,
   "metadata": {},
   "outputs": [],
   "source": [
    "y_hat = model.predict(x_train)"
   ]
  },
  {
   "cell_type": "code",
   "execution_count": 28,
   "metadata": {},
   "outputs": [
    {
     "data": {
      "image/png": "[encoded data removed]",
      "text/plain": [
       "<Figure size 1080x720 with 1 Axes>"
      ]
     },
     "metadata": {
      "needs_background": "light"
     },
     "output_type": "display_data"
    }
   ],
   "source": [
    "plt.scatter(y_train,y_hat)\n",
    "plt.xlabel(\"Targets (y_train)\", size = 10)\n",
    "plt.ylabel(\"Predictions (y_hat)\", size = 10)\n",
    "plt.show()"
   ]
  },
  {
   "cell_type": "code",
   "execution_count": 29,
   "metadata": {},
   "outputs": [
    {
     "name": "stderr",
     "output_type": "stream",
     "text": [
      "/opt/anaconda3/lib/python3.8/site-packages/seaborn/distributions.py:2551: FutureWarning: `distplot` is a deprecated function and will be removed in a future version. Please adapt your code to use either `displot` (a figure-level function with similar flexibility) or `histplot` (an axes-level function for histograms).\n",
      "  warnings.warn(msg, FutureWarning)\n"
     ]
    },
    {
     "data": {
      "text/plain": [
       "Text(0.5, 1.0, 'PDF')"
      ]
     },
     "execution_count": 29,
     "metadata": {},
     "output_type": "execute_result"
    },
    {
     "data": {
      "image/png": "[encoded data removed]",
      "text/plain": [
       "<Figure size 1080x720 with 1 Axes>"
      ]
     },
     "metadata": {
      "needs_background": "light"
     },
     "output_type": "display_data"
    }
   ],
   "source": [
    "sns.distplot(y_train - y_hat)\n",
    "plt.title(\"PDF\", size = 18)"
   ]
  },
  {
   "cell_type": "code",
   "execution_count": 30,
   "metadata": {},
   "outputs": [
    {
     "data": {
      "text/plain": [
       "0.8061554379258836"
      ]
     },
     "execution_count": 30,
     "metadata": {},
     "output_type": "execute_result"
    }
   ],
   "source": [
    "model.score(x_train, y_train)"
   ]
  },
  {
   "cell_type": "code",
   "execution_count": 31,
   "metadata": {},
   "outputs": [
    {
     "data": {
      "image/png": "[encoded data removed]",
      "text/plain": [
       "<Figure size 1080x720 with 1 Axes>"
      ]
     },
     "metadata": {
      "needs_background": "light"
     },
     "output_type": "display_data"
    }
   ],
   "source": [
    "#predict the values for the training dataset\n",
    "y_hat_test = model.predict(x_test)\n",
    "plt.scatter(y_test,y_hat_test)\n",
    "plt.xlabel(\"Targets (y_test)\", size = 18)\n",
    "plt.ylabel(\"Predictions (y_hat_test)\", size = 18)\n",
    "plt.show()"
   ]
  },
  {
   "cell_type": "code",
   "execution_count": 43,
   "metadata": {},
   "outputs": [
    {
     "data": {
      "text/html": [
       "<div>\n",
       "<style scoped>\n",
       "    .dataframe tbody tr th:only-of-type {\n",
       "        vertical-align: middle;\n",
       "    }\n",
       "\n",
       "    .dataframe tbody tr th {\n",
       "        vertical-align: top;\n",
       "    }\n",
       "\n",
       "    .dataframe thead th {\n",
       "        text-align: right;\n",
       "    }\n",
       "</style>\n",
       "<table border=\"1\" class=\"dataframe\">\n",
       "  <thead>\n",
       "    <tr style=\"text-align: right;\">\n",
       "      <th></th>\n",
       "      <th>Predicted Sale Price</th>\n",
       "    </tr>\n",
       "  </thead>\n",
       "  <tbody>\n",
       "    <tr>\n",
       "      <th>0</th>\n",
       "      <td>53.963602</td>\n",
       "    </tr>\n",
       "    <tr>\n",
       "      <th>1</th>\n",
       "      <td>35.123854</td>\n",
       "    </tr>\n",
       "    <tr>\n",
       "      <th>2</th>\n",
       "      <td>31.579191</td>\n",
       "    </tr>\n",
       "    <tr>\n",
       "      <th>3</th>\n",
       "      <td>8.266232</td>\n",
       "    </tr>\n",
       "    <tr>\n",
       "      <th>4</th>\n",
       "      <td>26.402607</td>\n",
       "    </tr>\n",
       "  </tbody>\n",
       "</table>\n",
       "</div>"
      ],
      "text/plain": [
       "   Predicted Sale Price\n",
       "0             53.963602\n",
       "1             35.123854\n",
       "2             31.579191\n",
       "3              8.266232\n",
       "4             26.402607"
      ]
     },
     "execution_count": 43,
     "metadata": {},
     "output_type": "execute_result"
    }
   ],
   "source": [
    "df_pf = pd.DataFrame(y_hat_test,columns=['Predicted Sale Price'])\n",
    "df_pf.head()"
   ]
  },
  {
   "cell_type": "code",
   "execution_count": 44,
   "metadata": {},
   "outputs": [
    {
     "data": {
      "text/html": [
       "<div>\n",
       "<style scoped>\n",
       "    .dataframe tbody tr th:only-of-type {\n",
       "        vertical-align: middle;\n",
       "    }\n",
       "\n",
       "    .dataframe tbody tr th {\n",
       "        vertical-align: top;\n",
       "    }\n",
       "\n",
       "    .dataframe thead th {\n",
       "        text-align: right;\n",
       "    }\n",
       "</style>\n",
       "<table border=\"1\" class=\"dataframe\">\n",
       "  <thead>\n",
       "    <tr style=\"text-align: right;\">\n",
       "      <th></th>\n",
       "      <th>Predicted Sale Price</th>\n",
       "      <th>Actual Sale Price</th>\n",
       "    </tr>\n",
       "  </thead>\n",
       "  <tbody>\n",
       "    <tr>\n",
       "      <th>0</th>\n",
       "      <td>53.963602</td>\n",
       "      <td>82.600</td>\n",
       "    </tr>\n",
       "    <tr>\n",
       "      <th>1</th>\n",
       "      <td>35.123854</td>\n",
       "      <td>26.000</td>\n",
       "    </tr>\n",
       "    <tr>\n",
       "      <th>2</th>\n",
       "      <td>31.579191</td>\n",
       "      <td>33.400</td>\n",
       "    </tr>\n",
       "    <tr>\n",
       "      <th>3</th>\n",
       "      <td>8.266232</td>\n",
       "      <td>12.050</td>\n",
       "    </tr>\n",
       "    <tr>\n",
       "      <th>4</th>\n",
       "      <td>26.402607</td>\n",
       "      <td>23.755</td>\n",
       "    </tr>\n",
       "  </tbody>\n",
       "</table>\n",
       "</div>"
      ],
      "text/plain": [
       "   Predicted Sale Price  Actual Sale Price\n",
       "0             53.963602             82.600\n",
       "1             35.123854             26.000\n",
       "2             31.579191             33.400\n",
       "3              8.266232             12.050\n",
       "4             26.402607             23.755"
      ]
     },
     "execution_count": 44,
     "metadata": {},
     "output_type": "execute_result"
    }
   ],
   "source": [
    "y_test = y_test.reset_index(drop=True)\n",
    "df_pf['Actual Sale Price'] = y_test\n",
    "df_pf.head()"
   ]
  },
  {
   "cell_type": "code",
   "execution_count": 34,
   "metadata": {},
   "outputs": [
    {
     "data": {
      "text/html": [
       "<div>\n",
       "<style scoped>\n",
       "    .dataframe tbody tr th:only-of-type {\n",
       "        vertical-align: middle;\n",
       "    }\n",
       "\n",
       "    .dataframe tbody tr th {\n",
       "        vertical-align: top;\n",
       "    }\n",
       "\n",
       "    .dataframe thead th {\n",
       "        text-align: right;\n",
       "    }\n",
       "</style>\n",
       "<table border=\"1\" class=\"dataframe\">\n",
       "  <thead>\n",
       "    <tr style=\"text-align: right;\">\n",
       "      <th></th>\n",
       "      <th>Predicted Sale Price</th>\n",
       "      <th>Actual Sale Price</th>\n",
       "      <th>Errors</th>\n",
       "      <th>Difference%</th>\n",
       "    </tr>\n",
       "  </thead>\n",
       "  <tbody>\n",
       "    <tr>\n",
       "      <th>0</th>\n",
       "      <td>53.963602</td>\n",
       "      <td>82.600</td>\n",
       "      <td>28.636398</td>\n",
       "      <td>34.668763</td>\n",
       "    </tr>\n",
       "    <tr>\n",
       "      <th>1</th>\n",
       "      <td>35.123854</td>\n",
       "      <td>26.000</td>\n",
       "      <td>-9.123854</td>\n",
       "      <td>35.091747</td>\n",
       "    </tr>\n",
       "    <tr>\n",
       "      <th>2</th>\n",
       "      <td>31.579191</td>\n",
       "      <td>33.400</td>\n",
       "      <td>1.820809</td>\n",
       "      <td>5.451523</td>\n",
       "    </tr>\n",
       "    <tr>\n",
       "      <th>3</th>\n",
       "      <td>8.266232</td>\n",
       "      <td>12.050</td>\n",
       "      <td>3.783768</td>\n",
       "      <td>31.400567</td>\n",
       "    </tr>\n",
       "    <tr>\n",
       "      <th>4</th>\n",
       "      <td>26.402607</td>\n",
       "      <td>23.755</td>\n",
       "      <td>-2.647607</td>\n",
       "      <td>11.145474</td>\n",
       "    </tr>\n",
       "  </tbody>\n",
       "</table>\n",
       "</div>"
      ],
      "text/plain": [
       "   Predicted Sale Price  Actual Sale Price     Errors  Difference%\n",
       "0             53.963602             82.600  28.636398    34.668763\n",
       "1             35.123854             26.000  -9.123854    35.091747\n",
       "2             31.579191             33.400   1.820809     5.451523\n",
       "3              8.266232             12.050   3.783768    31.400567\n",
       "4             26.402607             23.755  -2.647607    11.145474"
      ]
     },
     "execution_count": 34,
     "metadata": {},
     "output_type": "execute_result"
    }
   ],
   "source": [
    "df_pf['Errors'] = df_pf['Actual Sale Price'] - df_pf['Predicted Sale Price']\n",
    "df_pf['Difference%'] = np.absolute(df_pf['Errors']/df_pf['Actual Sale Price']*100)\n",
    "df_pf.head(5)"
   ]
  },
  {
   "cell_type": "code",
   "execution_count": 35,
   "metadata": {},
   "outputs": [
    {
     "data": {
      "text/html": [
       "<div>\n",
       "<style scoped>\n",
       "    .dataframe tbody tr th:only-of-type {\n",
       "        vertical-align: middle;\n",
       "    }\n",
       "\n",
       "    .dataframe tbody tr th {\n",
       "        vertical-align: top;\n",
       "    }\n",
       "\n",
       "    .dataframe thead th {\n",
       "        text-align: right;\n",
       "    }\n",
       "</style>\n",
       "<table border=\"1\" class=\"dataframe\">\n",
       "  <thead>\n",
       "    <tr style=\"text-align: right;\">\n",
       "      <th></th>\n",
       "      <th>Predicted Sale Price</th>\n",
       "      <th>Actual Sale Price</th>\n",
       "      <th>Errors</th>\n",
       "      <th>Difference%</th>\n",
       "    </tr>\n",
       "  </thead>\n",
       "  <tbody>\n",
       "    <tr>\n",
       "      <th>count</th>\n",
       "      <td>24.000000</td>\n",
       "      <td>24.000000</td>\n",
       "      <td>24.000000</td>\n",
       "      <td>24.000000</td>\n",
       "    </tr>\n",
       "    <tr>\n",
       "      <th>mean</th>\n",
       "      <td>26.800873</td>\n",
       "      <td>28.218833</td>\n",
       "      <td>1.417960</td>\n",
       "      <td>13.953279</td>\n",
       "    </tr>\n",
       "    <tr>\n",
       "      <th>std</th>\n",
       "      <td>12.140490</td>\n",
       "      <td>17.212027</td>\n",
       "      <td>7.682575</td>\n",
       "      <td>10.718876</td>\n",
       "    </tr>\n",
       "    <tr>\n",
       "      <th>min</th>\n",
       "      <td>8.266232</td>\n",
       "      <td>12.050000</td>\n",
       "      <td>-9.123854</td>\n",
       "      <td>1.427094</td>\n",
       "    </tr>\n",
       "    <tr>\n",
       "      <th>25%</th>\n",
       "      <td>17.393622</td>\n",
       "      <td>17.464250</td>\n",
       "      <td>-2.343066</td>\n",
       "      <td>5.203733</td>\n",
       "    </tr>\n",
       "    <tr>\n",
       "      <th>50%</th>\n",
       "      <td>23.485513</td>\n",
       "      <td>21.115000</td>\n",
       "      <td>-0.208447</td>\n",
       "      <td>11.203340</td>\n",
       "    </tr>\n",
       "    <tr>\n",
       "      <th>75%</th>\n",
       "      <td>33.379618</td>\n",
       "      <td>33.537500</td>\n",
       "      <td>2.001931</td>\n",
       "      <td>20.357505</td>\n",
       "    </tr>\n",
       "    <tr>\n",
       "      <th>max</th>\n",
       "      <td>54.484783</td>\n",
       "      <td>82.600000</td>\n",
       "      <td>28.636398</td>\n",
       "      <td>35.091747</td>\n",
       "    </tr>\n",
       "  </tbody>\n",
       "</table>\n",
       "</div>"
      ],
      "text/plain": [
       "       Predicted Sale Price  Actual Sale Price     Errors  Difference%\n",
       "count             24.000000          24.000000  24.000000    24.000000\n",
       "mean              26.800873          28.218833   1.417960    13.953279\n",
       "std               12.140490          17.212027   7.682575    10.718876\n",
       "min                8.266232          12.050000  -9.123854     1.427094\n",
       "25%               17.393622          17.464250  -2.343066     5.203733\n",
       "50%               23.485513          21.115000  -0.208447    11.203340\n",
       "75%               33.379618          33.537500   2.001931    20.357505\n",
       "max               54.484783          82.600000  28.636398    35.091747"
      ]
     },
     "execution_count": 35,
     "metadata": {},
     "output_type": "execute_result"
    }
   ],
   "source": [
    "df_pf.describe()"
   ]
  },
  {
   "cell_type": "code",
   "execution_count": 36,
   "metadata": {},
   "outputs": [
    {
     "name": "stderr",
     "output_type": "stream",
     "text": [
      "/opt/anaconda3/lib/python3.8/site-packages/seaborn/_decorators.py:36: FutureWarning: Pass the following variables as keyword args: x, y. From version 0.12, the only valid positional argument will be `data`, and passing other arguments without an explicit keyword will result in an error or misinterpretation.\n",
      "  warnings.warn(\n"
     ]
    },
    {
     "data": {
      "text/plain": [
       "<seaborn.axisgrid.FacetGrid at 0x7fc089ac68e0>"
      ]
     },
     "execution_count": 36,
     "metadata": {},
     "output_type": "execute_result"
    },
    {
     "data": {
      "image/png": "[encoded data removed]",
      "text/plain": [
       "<Figure size 360x360 with 1 Axes>"
      ]
     },
     "metadata": {
      "needs_background": "light"
     },
     "output_type": "display_data"
    }
   ],
   "source": [
    "sns.lmplot('Predicted Sale Price','Actual Sale Price',data=df_pf)"
   ]
  },
  {
   "cell_type": "markdown",
   "metadata": {},
   "source": [
    "### 2. Random Forest\n",
    "\n",
    "- O Random Forest Classifier é um conjunto de árvores de decisão de um subconjunto do conjunto de treinamento selecionado aleatoriamente.\n",
    "- Ele agrega os votos de diferentes árvores de decisão para decidir a classe final do objeto de teste.\n",
    "- É um algoritmo de aprendizagem baseado em árvore de ensemble.\n",
    "- Algoritmos de conjunto são aqueles que combinam mais de um algoritmo do mesmo tipo ou de tipo diferente para classificar objetos.\n",
    "- É um dos algoritmos de aprendizagem mais precisos disponíveis. Para muitos conjuntos de dados, ele produz um classificador de alta precisão.\n",
    "- Ele é executado de forma eficiente em grandes bancos de dados.\n",
    "- Ele pode lidar com milhares de variáveis de entrada sem exclusão de variável.\n"
   ]
  },
  {
   "cell_type": "code",
   "execution_count": 37,
   "metadata": {},
   "outputs": [
    {
     "name": "stdout",
     "output_type": "stream",
     "text": [
      "R² score: 96.61213709557326\n"
     ]
    }
   ],
   "source": [
    "from sklearn.metrics import r2_score\n",
    "from sklearn.ensemble import RandomForestRegressor\n",
    "rf_reg=RandomForestRegressor(n_estimators = 10,random_state=0)\n",
    "rf_reg.fit(X,Y.ravel())\n",
    "\n",
    "print(f'R² score: {r2_score(Y, rf_reg.predict(X))*100}')"
   ]
  },
  {
   "cell_type": "code",
   "execution_count": 38,
   "metadata": {},
   "outputs": [
    {
     "data": {
      "text/plain": [
       "[<matplotlib.lines.Line2D at 0x7fc089bcd2b0>]"
      ]
     },
     "execution_count": 38,
     "metadata": {},
     "output_type": "execute_result"
    },
    {
     "data": {
      "image/png": "[encoded data removed]",
      "text/plain": [
       "<Figure size 1080x720 with 1 Axes>"
      ]
     },
     "metadata": {
      "needs_background": "light"
     },
     "output_type": "display_data"
    }
   ],
   "source": [
    "predictArray_rf = rf_reg.predict(X)\n",
    "plt.scatter(Y,predictArray_rf, color=\"b\")\n",
    "plt.plot(Y,Y, color=\"r\")"
   ]
  },
  {
   "cell_type": "markdown",
   "metadata": {},
   "source": [
    "<div id='modelo2'></div>\n",
    "\n",
    "___\n",
    "## Modelo de Árvore de Regressão\n",
    "\n",
    "- [início](#inicio)"
   ]
  },
  {
   "cell_type": "markdown",
   "metadata": {},
   "source": [
    "Uma Árvore de Decisão/Regressão é uma árvore (e um tipo de gráfico acíclico direcionado) em que os nós representam decisões , transições aleatórias ou nós terminais, e as arestas ou ramos são binários (sim / não , verdadeiro / falso) representando caminhos possíveis de um nó para outro. O tipo específico de árvore de decisão usado para machine learning não contém transições aleatórias. Para usar uma árvore de decisão para classificação ou regressão, pega-se uma linha de dados ou um conjunto de recursos e começa na raiz e, em seguida, por meio de cada nó de decisão subsequente até o nó terminal. O processo é muito intuitivo e fácil de interpretar, o que permite que árvores de decisão treinadas sejam usadas para seleção de variáveis."
   ]
  },
  {
   "cell_type": "markdown",
   "metadata": {},
   "source": [
    "Para este modelo, vamos continuar utilizando os valores de:\n",
    "\n",
    "- X : Colunas do dataframe que serão utilizadas como variáveis explicativas (FEATURES), no caso, as especificações dos carros\n",
    "\n",
    "- Y : Coluna do dataframe referente à variável resposta (TARGET), no caso, o preço do carro. "
   ]
  },
  {
   "cell_type": "code",
   "execution_count": 39,
   "metadata": {},
   "outputs": [],
   "source": [
    "# Criando o objeto de 'DecisionTreeRegressor'\n",
    "from sklearn.tree import DecisionTreeRegressor \n",
    "\n",
    "regressor = DecisionTreeRegressor(random_state=0)\n",
    "\n",
    "# Ajustando o módulo regressor ao nosso projeto\n",
    "\n",
    "regressor.fit(X3, Y);"
   ]
  },
  {
   "cell_type": "code",
   "execution_count": 40,
   "metadata": {},
   "outputs": [
    {
     "ename": "ValueError",
     "evalue": "x and y must be the same size",
     "output_type": "error",
     "traceback": [
      "\u001b[0;31m---------------------------------------------------------------------------\u001b[0m",
      "\u001b[0;31mValueError\u001b[0m                                Traceback (most recent call last)",
      "\u001b[0;32m<ipython-input-40-3adc7800bfdb>\u001b[0m in \u001b[0;36m<module>\u001b[0;34m\u001b[0m\n\u001b[1;32m      1\u001b[0m \u001b[0;31m# Logo, vamos prever um novo resultado\u001b[0m\u001b[0;34m\u001b[0m\u001b[0;34m\u001b[0m\u001b[0;34m\u001b[0m\u001b[0m\n\u001b[1;32m      2\u001b[0m \u001b[0;34m\u001b[0m\u001b[0m\n\u001b[0;32m----> 3\u001b[0;31m \u001b[0mplt\u001b[0m\u001b[0;34m.\u001b[0m\u001b[0mscatter\u001b[0m\u001b[0;34m(\u001b[0m\u001b[0mX3\u001b[0m\u001b[0;34m,\u001b[0m \u001b[0mY\u001b[0m\u001b[0;34m,\u001b[0m \u001b[0mcolor\u001b[0m\u001b[0;34m=\u001b[0m\u001b[0;34m'red'\u001b[0m\u001b[0;34m)\u001b[0m\u001b[0;34m\u001b[0m\u001b[0;34m\u001b[0m\u001b[0m\n\u001b[0m\u001b[1;32m      4\u001b[0m \u001b[0mplt\u001b[0m\u001b[0;34m.\u001b[0m\u001b[0mplot\u001b[0m\u001b[0;34m(\u001b[0m\u001b[0mX3\u001b[0m\u001b[0;34m,\u001b[0m \u001b[0mregressor\u001b[0m\u001b[0;34m.\u001b[0m\u001b[0mpredict\u001b[0m\u001b[0;34m(\u001b[0m\u001b[0mX3\u001b[0m\u001b[0;34m)\u001b[0m\u001b[0;34m,\u001b[0m \u001b[0mcolor\u001b[0m\u001b[0;34m=\u001b[0m\u001b[0;34m'blue'\u001b[0m\u001b[0;34m)\u001b[0m\u001b[0;34m\u001b[0m\u001b[0;34m\u001b[0m\u001b[0m\n\u001b[1;32m      5\u001b[0m \u001b[0mplt\u001b[0m\u001b[0;34m.\u001b[0m\u001b[0mshow\u001b[0m\u001b[0;34m(\u001b[0m\u001b[0;34m)\u001b[0m\u001b[0;34m\u001b[0m\u001b[0;34m\u001b[0m\u001b[0m\n",
      "\u001b[0;32m/opt/anaconda3/lib/python3.8/site-packages/matplotlib/pyplot.py\u001b[0m in \u001b[0;36mscatter\u001b[0;34m(x, y, s, c, marker, cmap, norm, vmin, vmax, alpha, linewidths, verts, edgecolors, plotnonfinite, data, **kwargs)\u001b[0m\n\u001b[1;32m   2888\u001b[0m         \u001b[0mverts\u001b[0m\u001b[0;34m=\u001b[0m\u001b[0mcbook\u001b[0m\u001b[0;34m.\u001b[0m\u001b[0mdeprecation\u001b[0m\u001b[0;34m.\u001b[0m\u001b[0m_deprecated_parameter\u001b[0m\u001b[0;34m,\u001b[0m\u001b[0;34m\u001b[0m\u001b[0;34m\u001b[0m\u001b[0m\n\u001b[1;32m   2889\u001b[0m         edgecolors=None, *, plotnonfinite=False, data=None, **kwargs):\n\u001b[0;32m-> 2890\u001b[0;31m     __ret = gca().scatter(\n\u001b[0m\u001b[1;32m   2891\u001b[0m         \u001b[0mx\u001b[0m\u001b[0;34m,\u001b[0m \u001b[0my\u001b[0m\u001b[0;34m,\u001b[0m \u001b[0ms\u001b[0m\u001b[0;34m=\u001b[0m\u001b[0ms\u001b[0m\u001b[0;34m,\u001b[0m \u001b[0mc\u001b[0m\u001b[0;34m=\u001b[0m\u001b[0mc\u001b[0m\u001b[0;34m,\u001b[0m \u001b[0mmarker\u001b[0m\u001b[0;34m=\u001b[0m\u001b[0mmarker\u001b[0m\u001b[0;34m,\u001b[0m \u001b[0mcmap\u001b[0m\u001b[0;34m=\u001b[0m\u001b[0mcmap\u001b[0m\u001b[0;34m,\u001b[0m \u001b[0mnorm\u001b[0m\u001b[0;34m=\u001b[0m\u001b[0mnorm\u001b[0m\u001b[0;34m,\u001b[0m\u001b[0;34m\u001b[0m\u001b[0;34m\u001b[0m\u001b[0m\n\u001b[1;32m   2892\u001b[0m         \u001b[0mvmin\u001b[0m\u001b[0;34m=\u001b[0m\u001b[0mvmin\u001b[0m\u001b[0;34m,\u001b[0m \u001b[0mvmax\u001b[0m\u001b[0;34m=\u001b[0m\u001b[0mvmax\u001b[0m\u001b[0;34m,\u001b[0m \u001b[0malpha\u001b[0m\u001b[0;34m=\u001b[0m\u001b[0malpha\u001b[0m\u001b[0;34m,\u001b[0m \u001b[0mlinewidths\u001b[0m\u001b[0;34m=\u001b[0m\u001b[0mlinewidths\u001b[0m\u001b[0;34m,\u001b[0m\u001b[0;34m\u001b[0m\u001b[0;34m\u001b[0m\u001b[0m\n",
      "\u001b[0;32m/opt/anaconda3/lib/python3.8/site-packages/matplotlib/__init__.py\u001b[0m in \u001b[0;36minner\u001b[0;34m(ax, data, *args, **kwargs)\u001b[0m\n\u001b[1;32m   1436\u001b[0m     \u001b[0;32mdef\u001b[0m \u001b[0minner\u001b[0m\u001b[0;34m(\u001b[0m\u001b[0max\u001b[0m\u001b[0;34m,\u001b[0m \u001b[0;34m*\u001b[0m\u001b[0margs\u001b[0m\u001b[0;34m,\u001b[0m \u001b[0mdata\u001b[0m\u001b[0;34m=\u001b[0m\u001b[0;32mNone\u001b[0m\u001b[0;34m,\u001b[0m \u001b[0;34m**\u001b[0m\u001b[0mkwargs\u001b[0m\u001b[0;34m)\u001b[0m\u001b[0;34m:\u001b[0m\u001b[0;34m\u001b[0m\u001b[0;34m\u001b[0m\u001b[0m\n\u001b[1;32m   1437\u001b[0m         \u001b[0;32mif\u001b[0m \u001b[0mdata\u001b[0m \u001b[0;32mis\u001b[0m \u001b[0;32mNone\u001b[0m\u001b[0;34m:\u001b[0m\u001b[0;34m\u001b[0m\u001b[0;34m\u001b[0m\u001b[0m\n\u001b[0;32m-> 1438\u001b[0;31m             \u001b[0;32mreturn\u001b[0m \u001b[0mfunc\u001b[0m\u001b[0;34m(\u001b[0m\u001b[0max\u001b[0m\u001b[0;34m,\u001b[0m \u001b[0;34m*\u001b[0m\u001b[0mmap\u001b[0m\u001b[0;34m(\u001b[0m\u001b[0msanitize_sequence\u001b[0m\u001b[0;34m,\u001b[0m \u001b[0margs\u001b[0m\u001b[0;34m)\u001b[0m\u001b[0;34m,\u001b[0m \u001b[0;34m**\u001b[0m\u001b[0mkwargs\u001b[0m\u001b[0;34m)\u001b[0m\u001b[0;34m\u001b[0m\u001b[0;34m\u001b[0m\u001b[0m\n\u001b[0m\u001b[1;32m   1439\u001b[0m \u001b[0;34m\u001b[0m\u001b[0m\n\u001b[1;32m   1440\u001b[0m         \u001b[0mbound\u001b[0m \u001b[0;34m=\u001b[0m \u001b[0mnew_sig\u001b[0m\u001b[0;34m.\u001b[0m\u001b[0mbind\u001b[0m\u001b[0;34m(\u001b[0m\u001b[0max\u001b[0m\u001b[0;34m,\u001b[0m \u001b[0;34m*\u001b[0m\u001b[0margs\u001b[0m\u001b[0;34m,\u001b[0m \u001b[0;34m**\u001b[0m\u001b[0mkwargs\u001b[0m\u001b[0;34m)\u001b[0m\u001b[0;34m\u001b[0m\u001b[0;34m\u001b[0m\u001b[0m\n",
      "\u001b[0;32m/opt/anaconda3/lib/python3.8/site-packages/matplotlib/cbook/deprecation.py\u001b[0m in \u001b[0;36mwrapper\u001b[0;34m(*inner_args, **inner_kwargs)\u001b[0m\n\u001b[1;32m    409\u001b[0m                          \u001b[0;32melse\u001b[0m \u001b[0mdeprecation_addendum\u001b[0m\u001b[0;34m,\u001b[0m\u001b[0;34m\u001b[0m\u001b[0;34m\u001b[0m\u001b[0m\n\u001b[1;32m    410\u001b[0m                 **kwargs)\n\u001b[0;32m--> 411\u001b[0;31m         \u001b[0;32mreturn\u001b[0m \u001b[0mfunc\u001b[0m\u001b[0;34m(\u001b[0m\u001b[0;34m*\u001b[0m\u001b[0minner_args\u001b[0m\u001b[0;34m,\u001b[0m \u001b[0;34m**\u001b[0m\u001b[0minner_kwargs\u001b[0m\u001b[0;34m)\u001b[0m\u001b[0;34m\u001b[0m\u001b[0;34m\u001b[0m\u001b[0m\n\u001b[0m\u001b[1;32m    412\u001b[0m \u001b[0;34m\u001b[0m\u001b[0m\n\u001b[1;32m    413\u001b[0m     \u001b[0;32mreturn\u001b[0m \u001b[0mwrapper\u001b[0m\u001b[0;34m\u001b[0m\u001b[0;34m\u001b[0m\u001b[0m\n",
      "\u001b[0;32m/opt/anaconda3/lib/python3.8/site-packages/matplotlib/axes/_axes.py\u001b[0m in \u001b[0;36mscatter\u001b[0;34m(self, x, y, s, c, marker, cmap, norm, vmin, vmax, alpha, linewidths, verts, edgecolors, plotnonfinite, **kwargs)\u001b[0m\n\u001b[1;32m   4439\u001b[0m         \u001b[0my\u001b[0m \u001b[0;34m=\u001b[0m \u001b[0mnp\u001b[0m\u001b[0;34m.\u001b[0m\u001b[0mma\u001b[0m\u001b[0;34m.\u001b[0m\u001b[0mravel\u001b[0m\u001b[0;34m(\u001b[0m\u001b[0my\u001b[0m\u001b[0;34m)\u001b[0m\u001b[0;34m\u001b[0m\u001b[0;34m\u001b[0m\u001b[0m\n\u001b[1;32m   4440\u001b[0m         \u001b[0;32mif\u001b[0m \u001b[0mx\u001b[0m\u001b[0;34m.\u001b[0m\u001b[0msize\u001b[0m \u001b[0;34m!=\u001b[0m \u001b[0my\u001b[0m\u001b[0;34m.\u001b[0m\u001b[0msize\u001b[0m\u001b[0;34m:\u001b[0m\u001b[0;34m\u001b[0m\u001b[0;34m\u001b[0m\u001b[0m\n\u001b[0;32m-> 4441\u001b[0;31m             \u001b[0;32mraise\u001b[0m \u001b[0mValueError\u001b[0m\u001b[0;34m(\u001b[0m\u001b[0;34m\"x and y must be the same size\"\u001b[0m\u001b[0;34m)\u001b[0m\u001b[0;34m\u001b[0m\u001b[0;34m\u001b[0m\u001b[0m\n\u001b[0m\u001b[1;32m   4442\u001b[0m \u001b[0;34m\u001b[0m\u001b[0m\n\u001b[1;32m   4443\u001b[0m         \u001b[0;32mif\u001b[0m \u001b[0ms\u001b[0m \u001b[0;32mis\u001b[0m \u001b[0;32mNone\u001b[0m\u001b[0;34m:\u001b[0m\u001b[0;34m\u001b[0m\u001b[0;34m\u001b[0m\u001b[0m\n",
      "\u001b[0;31mValueError\u001b[0m: x and y must be the same size"
     ]
    },
    {
     "data": {
      "image/png": "[encoded data removed]",
      "text/plain": [
       "<Figure size 1080x720 with 1 Axes>"
      ]
     },
     "metadata": {
      "needs_background": "light"
     },
     "output_type": "display_data"
    }
   ],
   "source": [
    "# Logo, vamos prever um novo resultado\n",
    "\n",
    "plt.scatter(X3, Y, color='red')\n",
    "plt.plot(X3, regressor.predict(X3), color='blue')\n",
    "plt.show()"
   ]
  }
 ],
 "metadata": {
  "kernelspec": {
   "display_name": "Python 3",
   "language": "python",
   "name": "python3"
  },
  "language_info": {
   "codemirror_mode": {
    "name": "ipython",
    "version": 3
   },
   "file_extension": ".py",
   "mimetype": "text/x-python",
   "name": "python",
   "nbconvert_exporter": "python",
   "pygments_lexer": "ipython3",
   "version": "3.8.5"
  }
 },
 "nbformat": 4,
 "nbformat_minor": 4
}
