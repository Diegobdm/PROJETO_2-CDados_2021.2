{
 "cells": [
  {
   "cell_type": "markdown",
   "metadata": {},
   "source": [
    "<div id='inicio'></div>\n",
    "\n",
    "# **Projeto 2 - Ciência dos Dados**\n",
    "\n",
    "### Grupo: Diego, Enzo, Francisco e Thomas\n"
   ]
  },
  {
   "cell_type": "markdown",
   "metadata": {},
   "source": [
    "## A pergunta: \n",
    "\n",
    "Qual será o preço de um novo carro  lançado no mercado Americano?\n",
    "\n",
    "## Onde queremos chegar?\n",
    "\n",
    "  O projeto gira em torno do desafio de desenvolver um programa capaz de prever o preço de um novo carro chegando no mercado, a partir de suas caracteristicas e aspectos mecânicas.\n",
    "\n",
    "  Para isso, partiremos de uma [base de dados](https://www.kaggle.com/gagandeep16/car-sales) (DataFrame) selecionada no website Kaggle, que nos traz informações sobre especificações e valores de uma grande quantidade de carros, de diferentes marcas e modelos. \n",
    "  \n",
    "  O objetivo aqui é utilizar três métodos de previsão: a **regressão linear múltipla**, **random forest** e **árvore de regressão** para a criacão do programa. Para isso, explicaremos detalhadamente todo o processo da construção do código e sua validação como um modelo funcional."
   ]
  },
  {
   "cell_type": "markdown",
   "metadata": {},
   "source": [
    "## Índice \n",
    "\n",
    "- [Importando, estabelecendo e limpando](#inicio)\n",
    "\n",
    "- [Início da Análise Exploratória](#analexp)\n",
    "\n",
    "- [Primeiro Modelo - Regressão Linear Múltipla (Aula 24)](#modelo1)\n",
    "\n",
    "- [Segundo Modelo - Árvore de Regressão](#modelo2)"
   ]
  },
  {
   "cell_type": "markdown",
   "metadata": {},
   "source": [
    "___\n",
    "\n",
    "<div id='inicio'>\n",
    "\n",
    "## 1. Importando, estabelecendo e limpando\n",
    "\n",
    "Nesta primeira etapa, importamos a bibliotecas que serão utilizadas durante o projeto, definimos os tamanhos e caracerísticas que alguns dos gráficos gerados durante o trabalho terão, carregamos nossa base de dados \"Car_sales.csv\"para um variável em dataframe, e por último, fizemos limpezas convenientes em tal base de dados."
   ]
  },
  {
   "cell_type": "code",
   "execution_count": 7,
   "metadata": {},
   "outputs": [
    {
     "data": {
      "text/html": [
       "<div>\n",
       "<style scoped>\n",
       "    .dataframe tbody tr th:only-of-type {\n",
       "        vertical-align: middle;\n",
       "    }\n",
       "\n",
       "    .dataframe tbody tr th {\n",
       "        vertical-align: top;\n",
       "    }\n",
       "\n",
       "    .dataframe thead th {\n",
       "        text-align: right;\n",
       "    }\n",
       "</style>\n",
       "<table border=\"1\" class=\"dataframe\">\n",
       "  <thead>\n",
       "    <tr style=\"text-align: right;\">\n",
       "      <th></th>\n",
       "      <th>Manufacturer</th>\n",
       "      <th>Sales_in_thousands</th>\n",
       "      <th>__year_resale_value</th>\n",
       "      <th>Vehicle_type</th>\n",
       "      <th>Price_in_thousands</th>\n",
       "      <th>Engine_size</th>\n",
       "      <th>Horsepower</th>\n",
       "      <th>Wheelbase</th>\n",
       "      <th>Width</th>\n",
       "      <th>Length</th>\n",
       "      <th>Curb_weight</th>\n",
       "      <th>Fuel_capacity</th>\n",
       "      <th>Fuel_efficiency</th>\n",
       "      <th>Latest_Launch</th>\n",
       "      <th>Power_perf_factor</th>\n",
       "    </tr>\n",
       "    <tr>\n",
       "      <th>Model</th>\n",
       "      <th></th>\n",
       "      <th></th>\n",
       "      <th></th>\n",
       "      <th></th>\n",
       "      <th></th>\n",
       "      <th></th>\n",
       "      <th></th>\n",
       "      <th></th>\n",
       "      <th></th>\n",
       "      <th></th>\n",
       "      <th></th>\n",
       "      <th></th>\n",
       "      <th></th>\n",
       "      <th></th>\n",
       "      <th></th>\n",
       "    </tr>\n",
       "  </thead>\n",
       "  <tbody>\n",
       "    <tr>\n",
       "      <th>Integra</th>\n",
       "      <td>Acura</td>\n",
       "      <td>16.919</td>\n",
       "      <td>16.360</td>\n",
       "      <td>Passenger</td>\n",
       "      <td>21.50</td>\n",
       "      <td>1.8</td>\n",
       "      <td>140.0</td>\n",
       "      <td>101.2</td>\n",
       "      <td>67.3</td>\n",
       "      <td>172.4</td>\n",
       "      <td>2.639</td>\n",
       "      <td>13.2</td>\n",
       "      <td>28.0</td>\n",
       "      <td>2/2/2012</td>\n",
       "      <td>58.280150</td>\n",
       "    </tr>\n",
       "    <tr>\n",
       "      <th>TL</th>\n",
       "      <td>Acura</td>\n",
       "      <td>39.384</td>\n",
       "      <td>19.875</td>\n",
       "      <td>Passenger</td>\n",
       "      <td>28.40</td>\n",
       "      <td>3.2</td>\n",
       "      <td>225.0</td>\n",
       "      <td>108.1</td>\n",
       "      <td>70.3</td>\n",
       "      <td>192.9</td>\n",
       "      <td>3.517</td>\n",
       "      <td>17.2</td>\n",
       "      <td>25.0</td>\n",
       "      <td>6/3/2011</td>\n",
       "      <td>91.370778</td>\n",
       "    </tr>\n",
       "    <tr>\n",
       "      <th>CL</th>\n",
       "      <td>Acura</td>\n",
       "      <td>14.114</td>\n",
       "      <td>18.225</td>\n",
       "      <td>Passenger</td>\n",
       "      <td>NaN</td>\n",
       "      <td>3.2</td>\n",
       "      <td>225.0</td>\n",
       "      <td>106.9</td>\n",
       "      <td>70.6</td>\n",
       "      <td>192.0</td>\n",
       "      <td>3.470</td>\n",
       "      <td>17.2</td>\n",
       "      <td>26.0</td>\n",
       "      <td>1/4/2012</td>\n",
       "      <td>NaN</td>\n",
       "    </tr>\n",
       "    <tr>\n",
       "      <th>RL</th>\n",
       "      <td>Acura</td>\n",
       "      <td>8.588</td>\n",
       "      <td>29.725</td>\n",
       "      <td>Passenger</td>\n",
       "      <td>42.00</td>\n",
       "      <td>3.5</td>\n",
       "      <td>210.0</td>\n",
       "      <td>114.6</td>\n",
       "      <td>71.4</td>\n",
       "      <td>196.6</td>\n",
       "      <td>3.850</td>\n",
       "      <td>18.0</td>\n",
       "      <td>22.0</td>\n",
       "      <td>3/10/2011</td>\n",
       "      <td>91.389779</td>\n",
       "    </tr>\n",
       "    <tr>\n",
       "      <th>A4</th>\n",
       "      <td>Audi</td>\n",
       "      <td>20.397</td>\n",
       "      <td>22.255</td>\n",
       "      <td>Passenger</td>\n",
       "      <td>23.99</td>\n",
       "      <td>1.8</td>\n",
       "      <td>150.0</td>\n",
       "      <td>102.6</td>\n",
       "      <td>68.2</td>\n",
       "      <td>178.0</td>\n",
       "      <td>2.998</td>\n",
       "      <td>16.4</td>\n",
       "      <td>27.0</td>\n",
       "      <td>10/8/2011</td>\n",
       "      <td>62.777639</td>\n",
       "    </tr>\n",
       "    <tr>\n",
       "      <th>A6</th>\n",
       "      <td>Audi</td>\n",
       "      <td>18.780</td>\n",
       "      <td>23.555</td>\n",
       "      <td>Passenger</td>\n",
       "      <td>33.95</td>\n",
       "      <td>2.8</td>\n",
       "      <td>200.0</td>\n",
       "      <td>108.7</td>\n",
       "      <td>76.1</td>\n",
       "      <td>192.0</td>\n",
       "      <td>3.561</td>\n",
       "      <td>18.5</td>\n",
       "      <td>22.0</td>\n",
       "      <td>8/9/2011</td>\n",
       "      <td>84.565105</td>\n",
       "    </tr>\n",
       "    <tr>\n",
       "      <th>A8</th>\n",
       "      <td>Audi</td>\n",
       "      <td>1.380</td>\n",
       "      <td>39.000</td>\n",
       "      <td>Passenger</td>\n",
       "      <td>62.00</td>\n",
       "      <td>4.2</td>\n",
       "      <td>310.0</td>\n",
       "      <td>113.0</td>\n",
       "      <td>74.0</td>\n",
       "      <td>198.2</td>\n",
       "      <td>3.902</td>\n",
       "      <td>23.7</td>\n",
       "      <td>21.0</td>\n",
       "      <td>2/27/2012</td>\n",
       "      <td>134.656858</td>\n",
       "    </tr>\n",
       "  </tbody>\n",
       "</table>\n",
       "</div>"
      ],
      "text/plain": [
       "        Manufacturer  Sales_in_thousands  __year_resale_value Vehicle_type  \\\n",
       "Model                                                                        \n",
       "Integra        Acura              16.919               16.360    Passenger   \n",
       "TL             Acura              39.384               19.875    Passenger   \n",
       "CL             Acura              14.114               18.225    Passenger   \n",
       "RL             Acura               8.588               29.725    Passenger   \n",
       "A4              Audi              20.397               22.255    Passenger   \n",
       "A6              Audi              18.780               23.555    Passenger   \n",
       "A8              Audi               1.380               39.000    Passenger   \n",
       "\n",
       "         Price_in_thousands  Engine_size  Horsepower  Wheelbase  Width  \\\n",
       "Model                                                                    \n",
       "Integra               21.50          1.8       140.0      101.2   67.3   \n",
       "TL                    28.40          3.2       225.0      108.1   70.3   \n",
       "CL                      NaN          3.2       225.0      106.9   70.6   \n",
       "RL                    42.00          3.5       210.0      114.6   71.4   \n",
       "A4                    23.99          1.8       150.0      102.6   68.2   \n",
       "A6                    33.95          2.8       200.0      108.7   76.1   \n",
       "A8                    62.00          4.2       310.0      113.0   74.0   \n",
       "\n",
       "         Length  Curb_weight  Fuel_capacity  Fuel_efficiency Latest_Launch  \\\n",
       "Model                                                                        \n",
       "Integra   172.4        2.639           13.2             28.0      2/2/2012   \n",
       "TL        192.9        3.517           17.2             25.0      6/3/2011   \n",
       "CL        192.0        3.470           17.2             26.0      1/4/2012   \n",
       "RL        196.6        3.850           18.0             22.0     3/10/2011   \n",
       "A4        178.0        2.998           16.4             27.0     10/8/2011   \n",
       "A6        192.0        3.561           18.5             22.0      8/9/2011   \n",
       "A8        198.2        3.902           23.7             21.0     2/27/2012   \n",
       "\n",
       "         Power_perf_factor  \n",
       "Model                       \n",
       "Integra          58.280150  \n",
       "TL               91.370778  \n",
       "CL                     NaN  \n",
       "RL               91.389779  \n",
       "A4               62.777639  \n",
       "A6               84.565105  \n",
       "A8              134.656858  "
      ]
     },
     "execution_count": 7,
     "metadata": {},
     "output_type": "execute_result"
    }
   ],
   "source": [
    "import numpy as np # linear algebra\n",
    "import pandas as pd # data processing, CSV file I/O (e.g. pd.read_csv)\n",
    "import matplotlib.pyplot as plt # data visualization\n",
    "import seaborn as sns\n",
    "import matplotlib # importing library to change the default setting\n",
    "import statsmodels.api as sm\n",
    "from IPython.display import display\n",
    "import scipy.stats\n",
    "import os\n",
    "\n",
    "# Definindo os parametros dos gráficos \n",
    "sns.set_style('darkgrid')\n",
    "matplotlib.rcParams['font.size'] =8\n",
    "matplotlib.rcParams['figure.figsize'] = (10,6)\n",
    "matplotlib.rcParams['figure.facecolor'] = '#00000000'\n",
    "\n",
    "Data = pd.read_csv('Car_sales.csv')\n",
    "Data_idx = Data.set_index('Model')\n",
    "Data_idx.head(7)"
   ]
  },
  {
   "cell_type": "markdown",
   "metadata": {},
   "source": [
    "O uso do `descibe` nos dá um breve resumo de informações importantes sobre as colunas do DataFrame, como média e desvio padrão"
   ]
  },
  {
   "cell_type": "code",
   "execution_count": 8,
   "metadata": {},
   "outputs": [
    {
     "data": {
      "text/html": [
       "<div>\n",
       "<style scoped>\n",
       "    .dataframe tbody tr th:only-of-type {\n",
       "        vertical-align: middle;\n",
       "    }\n",
       "\n",
       "    .dataframe tbody tr th {\n",
       "        vertical-align: top;\n",
       "    }\n",
       "\n",
       "    .dataframe thead th {\n",
       "        text-align: right;\n",
       "    }\n",
       "</style>\n",
       "<table border=\"1\" class=\"dataframe\">\n",
       "  <thead>\n",
       "    <tr style=\"text-align: right;\">\n",
       "      <th></th>\n",
       "      <th>Manufacturer</th>\n",
       "      <th>Model</th>\n",
       "      <th>Sales_in_thousands</th>\n",
       "      <th>__year_resale_value</th>\n",
       "      <th>Vehicle_type</th>\n",
       "      <th>Price_in_thousands</th>\n",
       "      <th>Engine_size</th>\n",
       "      <th>Horsepower</th>\n",
       "      <th>Wheelbase</th>\n",
       "      <th>Width</th>\n",
       "      <th>Length</th>\n",
       "      <th>Curb_weight</th>\n",
       "      <th>Fuel_capacity</th>\n",
       "      <th>Fuel_efficiency</th>\n",
       "      <th>Latest_Launch</th>\n",
       "      <th>Power_perf_factor</th>\n",
       "    </tr>\n",
       "  </thead>\n",
       "  <tbody>\n",
       "    <tr>\n",
       "      <th>count</th>\n",
       "      <td>157</td>\n",
       "      <td>157</td>\n",
       "      <td>157.000000</td>\n",
       "      <td>121.000000</td>\n",
       "      <td>157</td>\n",
       "      <td>155.000000</td>\n",
       "      <td>156.000000</td>\n",
       "      <td>156.000000</td>\n",
       "      <td>156.000000</td>\n",
       "      <td>156.000000</td>\n",
       "      <td>156.000000</td>\n",
       "      <td>155.000000</td>\n",
       "      <td>156.000000</td>\n",
       "      <td>154.000000</td>\n",
       "      <td>157</td>\n",
       "      <td>155.000000</td>\n",
       "    </tr>\n",
       "    <tr>\n",
       "      <th>unique</th>\n",
       "      <td>30</td>\n",
       "      <td>156</td>\n",
       "      <td>NaN</td>\n",
       "      <td>NaN</td>\n",
       "      <td>2</td>\n",
       "      <td>NaN</td>\n",
       "      <td>NaN</td>\n",
       "      <td>NaN</td>\n",
       "      <td>NaN</td>\n",
       "      <td>NaN</td>\n",
       "      <td>NaN</td>\n",
       "      <td>NaN</td>\n",
       "      <td>NaN</td>\n",
       "      <td>NaN</td>\n",
       "      <td>130</td>\n",
       "      <td>NaN</td>\n",
       "    </tr>\n",
       "    <tr>\n",
       "      <th>top</th>\n",
       "      <td>Ford</td>\n",
       "      <td>Neon</td>\n",
       "      <td>NaN</td>\n",
       "      <td>NaN</td>\n",
       "      <td>Passenger</td>\n",
       "      <td>NaN</td>\n",
       "      <td>NaN</td>\n",
       "      <td>NaN</td>\n",
       "      <td>NaN</td>\n",
       "      <td>NaN</td>\n",
       "      <td>NaN</td>\n",
       "      <td>NaN</td>\n",
       "      <td>NaN</td>\n",
       "      <td>NaN</td>\n",
       "      <td>5/6/2011</td>\n",
       "      <td>NaN</td>\n",
       "    </tr>\n",
       "    <tr>\n",
       "      <th>freq</th>\n",
       "      <td>11</td>\n",
       "      <td>2</td>\n",
       "      <td>NaN</td>\n",
       "      <td>NaN</td>\n",
       "      <td>116</td>\n",
       "      <td>NaN</td>\n",
       "      <td>NaN</td>\n",
       "      <td>NaN</td>\n",
       "      <td>NaN</td>\n",
       "      <td>NaN</td>\n",
       "      <td>NaN</td>\n",
       "      <td>NaN</td>\n",
       "      <td>NaN</td>\n",
       "      <td>NaN</td>\n",
       "      <td>2</td>\n",
       "      <td>NaN</td>\n",
       "    </tr>\n",
       "    <tr>\n",
       "      <th>mean</th>\n",
       "      <td>NaN</td>\n",
       "      <td>NaN</td>\n",
       "      <td>52.998076</td>\n",
       "      <td>18.072975</td>\n",
       "      <td>NaN</td>\n",
       "      <td>27.390755</td>\n",
       "      <td>3.060897</td>\n",
       "      <td>185.948718</td>\n",
       "      <td>107.487179</td>\n",
       "      <td>71.150000</td>\n",
       "      <td>187.343590</td>\n",
       "      <td>3.378026</td>\n",
       "      <td>17.951923</td>\n",
       "      <td>23.844156</td>\n",
       "      <td>NaN</td>\n",
       "      <td>77.043591</td>\n",
       "    </tr>\n",
       "    <tr>\n",
       "      <th>std</th>\n",
       "      <td>NaN</td>\n",
       "      <td>NaN</td>\n",
       "      <td>68.029422</td>\n",
       "      <td>11.453384</td>\n",
       "      <td>NaN</td>\n",
       "      <td>14.351653</td>\n",
       "      <td>1.044653</td>\n",
       "      <td>56.700321</td>\n",
       "      <td>7.641303</td>\n",
       "      <td>3.451872</td>\n",
       "      <td>13.431754</td>\n",
       "      <td>0.630502</td>\n",
       "      <td>3.887921</td>\n",
       "      <td>4.282706</td>\n",
       "      <td>NaN</td>\n",
       "      <td>25.142664</td>\n",
       "    </tr>\n",
       "    <tr>\n",
       "      <th>min</th>\n",
       "      <td>NaN</td>\n",
       "      <td>NaN</td>\n",
       "      <td>0.110000</td>\n",
       "      <td>5.160000</td>\n",
       "      <td>NaN</td>\n",
       "      <td>9.235000</td>\n",
       "      <td>1.000000</td>\n",
       "      <td>55.000000</td>\n",
       "      <td>92.600000</td>\n",
       "      <td>62.600000</td>\n",
       "      <td>149.400000</td>\n",
       "      <td>1.895000</td>\n",
       "      <td>10.300000</td>\n",
       "      <td>15.000000</td>\n",
       "      <td>NaN</td>\n",
       "      <td>23.276272</td>\n",
       "    </tr>\n",
       "  </tbody>\n",
       "</table>\n",
       "</div>"
      ],
      "text/plain": [
       "       Manufacturer Model  Sales_in_thousands  __year_resale_value  \\\n",
       "count           157   157          157.000000           121.000000   \n",
       "unique           30   156                 NaN                  NaN   \n",
       "top            Ford  Neon                 NaN                  NaN   \n",
       "freq             11     2                 NaN                  NaN   \n",
       "mean            NaN   NaN           52.998076            18.072975   \n",
       "std             NaN   NaN           68.029422            11.453384   \n",
       "min             NaN   NaN            0.110000             5.160000   \n",
       "\n",
       "       Vehicle_type  Price_in_thousands  Engine_size  Horsepower   Wheelbase  \\\n",
       "count           157          155.000000   156.000000  156.000000  156.000000   \n",
       "unique            2                 NaN          NaN         NaN         NaN   \n",
       "top       Passenger                 NaN          NaN         NaN         NaN   \n",
       "freq            116                 NaN          NaN         NaN         NaN   \n",
       "mean            NaN           27.390755     3.060897  185.948718  107.487179   \n",
       "std             NaN           14.351653     1.044653   56.700321    7.641303   \n",
       "min             NaN            9.235000     1.000000   55.000000   92.600000   \n",
       "\n",
       "             Width      Length  Curb_weight  Fuel_capacity  Fuel_efficiency  \\\n",
       "count   156.000000  156.000000   155.000000     156.000000       154.000000   \n",
       "unique         NaN         NaN          NaN            NaN              NaN   \n",
       "top            NaN         NaN          NaN            NaN              NaN   \n",
       "freq           NaN         NaN          NaN            NaN              NaN   \n",
       "mean     71.150000  187.343590     3.378026      17.951923        23.844156   \n",
       "std       3.451872   13.431754     0.630502       3.887921         4.282706   \n",
       "min      62.600000  149.400000     1.895000      10.300000        15.000000   \n",
       "\n",
       "       Latest_Launch  Power_perf_factor  \n",
       "count            157         155.000000  \n",
       "unique           130                NaN  \n",
       "top         5/6/2011                NaN  \n",
       "freq               2                NaN  \n",
       "mean             NaN          77.043591  \n",
       "std              NaN          25.142664  \n",
       "min              NaN          23.276272  "
      ]
     },
     "execution_count": 8,
     "metadata": {},
     "output_type": "execute_result"
    }
   ],
   "source": [
    "Data.describe(include=\"all\").head(7)"
   ]
  },
  {
   "cell_type": "markdown",
   "metadata": {},
   "source": [
    "Pequenas análises importantes:\n",
    "\n",
    "- Parece haver **valores ausentes** (NaN) em algumas colunas (exemplo: __year_resale_value)\n",
    "\n",
    "- Se considerarmos todas as colunas, teremos muitas variáveis fictícias\n",
    "\n",
    "Para podermos trabalhar com este DataFrame sem enfrentar problemas com os valores ausentes, iremos limpá-los a partircdo método `drop`"
   ]
  },
  {
   "cell_type": "code",
   "execution_count": 9,
   "metadata": {},
   "outputs": [
    {
     "data": {
      "text/html": [
       "<div>\n",
       "<style scoped>\n",
       "    .dataframe tbody tr th:only-of-type {\n",
       "        vertical-align: middle;\n",
       "    }\n",
       "\n",
       "    .dataframe tbody tr th {\n",
       "        vertical-align: top;\n",
       "    }\n",
       "\n",
       "    .dataframe thead th {\n",
       "        text-align: right;\n",
       "    }\n",
       "</style>\n",
       "<table border=\"1\" class=\"dataframe\">\n",
       "  <thead>\n",
       "    <tr style=\"text-align: right;\">\n",
       "      <th></th>\n",
       "      <th>Manufacturer</th>\n",
       "      <th>Model</th>\n",
       "      <th>Sales_in_thousands</th>\n",
       "      <th>__year_resale_value</th>\n",
       "      <th>Price_in_thousands</th>\n",
       "      <th>Engine_size</th>\n",
       "      <th>Horsepower</th>\n",
       "      <th>Wheelbase</th>\n",
       "      <th>Width</th>\n",
       "      <th>Length</th>\n",
       "      <th>Curb_weight</th>\n",
       "      <th>Fuel_capacity</th>\n",
       "      <th>Fuel_efficiency</th>\n",
       "      <th>Power_perf_factor</th>\n",
       "    </tr>\n",
       "  </thead>\n",
       "  <tbody>\n",
       "    <tr>\n",
       "      <th>42</th>\n",
       "      <td>Dodge</td>\n",
       "      <td>Ram Van</td>\n",
       "      <td>31.038</td>\n",
       "      <td>13.425</td>\n",
       "      <td>18.575</td>\n",
       "      <td>3.9</td>\n",
       "      <td>175.0</td>\n",
       "      <td>127.2</td>\n",
       "      <td>78.8</td>\n",
       "      <td>208.5</td>\n",
       "      <td>4.298</td>\n",
       "      <td>32.0</td>\n",
       "      <td>16.0</td>\n",
       "      <td>70.078322</td>\n",
       "    </tr>\n",
       "    <tr>\n",
       "      <th>41</th>\n",
       "      <td>Dodge</td>\n",
       "      <td>Ram Wagon</td>\n",
       "      <td>16.767</td>\n",
       "      <td>15.510</td>\n",
       "      <td>21.315</td>\n",
       "      <td>3.9</td>\n",
       "      <td>175.0</td>\n",
       "      <td>109.6</td>\n",
       "      <td>78.8</td>\n",
       "      <td>192.6</td>\n",
       "      <td>4.245</td>\n",
       "      <td>32.0</td>\n",
       "      <td>15.0</td>\n",
       "      <td>71.135292</td>\n",
       "    </tr>\n",
       "    <tr>\n",
       "      <th>18</th>\n",
       "      <td>Cadillac</td>\n",
       "      <td>Escalade</td>\n",
       "      <td>14.785</td>\n",
       "      <td>NaN</td>\n",
       "      <td>46.225</td>\n",
       "      <td>5.7</td>\n",
       "      <td>255.0</td>\n",
       "      <td>117.5</td>\n",
       "      <td>77.0</td>\n",
       "      <td>201.2</td>\n",
       "      <td>5.572</td>\n",
       "      <td>30.0</td>\n",
       "      <td>15.0</td>\n",
       "      <td>109.509117</td>\n",
       "    </tr>\n",
       "    <tr>\n",
       "      <th>78</th>\n",
       "      <td>Lincoln</td>\n",
       "      <td>Navigator</td>\n",
       "      <td>22.925</td>\n",
       "      <td>NaN</td>\n",
       "      <td>42.660</td>\n",
       "      <td>5.4</td>\n",
       "      <td>300.0</td>\n",
       "      <td>119.0</td>\n",
       "      <td>79.9</td>\n",
       "      <td>204.8</td>\n",
       "      <td>5.393</td>\n",
       "      <td>30.0</td>\n",
       "      <td>15.0</td>\n",
       "      <td>123.972047</td>\n",
       "    </tr>\n",
       "    <tr>\n",
       "      <th>40</th>\n",
       "      <td>Dodge</td>\n",
       "      <td>Ram Pickup</td>\n",
       "      <td>227.061</td>\n",
       "      <td>15.060</td>\n",
       "      <td>19.460</td>\n",
       "      <td>5.2</td>\n",
       "      <td>230.0</td>\n",
       "      <td>138.7</td>\n",
       "      <td>79.3</td>\n",
       "      <td>224.2</td>\n",
       "      <td>4.470</td>\n",
       "      <td>26.0</td>\n",
       "      <td>17.0</td>\n",
       "      <td>90.211700</td>\n",
       "    </tr>\n",
       "    <tr>\n",
       "      <th>...</th>\n",
       "      <td>...</td>\n",
       "      <td>...</td>\n",
       "      <td>...</td>\n",
       "      <td>...</td>\n",
       "      <td>...</td>\n",
       "      <td>...</td>\n",
       "      <td>...</td>\n",
       "      <td>...</td>\n",
       "      <td>...</td>\n",
       "      <td>...</td>\n",
       "      <td>...</td>\n",
       "      <td>...</td>\n",
       "      <td>...</td>\n",
       "      <td>...</td>\n",
       "    </tr>\n",
       "    <tr>\n",
       "      <th>117</th>\n",
       "      <td>Plymouth</td>\n",
       "      <td>Prowler</td>\n",
       "      <td>1.872</td>\n",
       "      <td>NaN</td>\n",
       "      <td>43.000</td>\n",
       "      <td>3.5</td>\n",
       "      <td>253.0</td>\n",
       "      <td>113.3</td>\n",
       "      <td>76.3</td>\n",
       "      <td>165.4</td>\n",
       "      <td>2.850</td>\n",
       "      <td>12.0</td>\n",
       "      <td>21.0</td>\n",
       "      <td>106.984456</td>\n",
       "    </tr>\n",
       "    <tr>\n",
       "      <th>62</th>\n",
       "      <td>Hyundai</td>\n",
       "      <td>Accent</td>\n",
       "      <td>41.184</td>\n",
       "      <td>5.860</td>\n",
       "      <td>9.699</td>\n",
       "      <td>1.5</td>\n",
       "      <td>92.0</td>\n",
       "      <td>96.1</td>\n",
       "      <td>65.7</td>\n",
       "      <td>166.7</td>\n",
       "      <td>2.240</td>\n",
       "      <td>11.9</td>\n",
       "      <td>31.0</td>\n",
       "      <td>36.672284</td>\n",
       "    </tr>\n",
       "    <tr>\n",
       "      <th>57</th>\n",
       "      <td>Honda</td>\n",
       "      <td>Civic</td>\n",
       "      <td>199.685</td>\n",
       "      <td>9.850</td>\n",
       "      <td>12.885</td>\n",
       "      <td>1.6</td>\n",
       "      <td>106.0</td>\n",
       "      <td>103.2</td>\n",
       "      <td>67.1</td>\n",
       "      <td>175.1</td>\n",
       "      <td>2.339</td>\n",
       "      <td>11.9</td>\n",
       "      <td>32.0</td>\n",
       "      <td>42.879097</td>\n",
       "    </tr>\n",
       "    <tr>\n",
       "      <th>26</th>\n",
       "      <td>Chevrolet</td>\n",
       "      <td>Metro</td>\n",
       "      <td>21.855</td>\n",
       "      <td>5.160</td>\n",
       "      <td>9.235</td>\n",
       "      <td>1.0</td>\n",
       "      <td>55.0</td>\n",
       "      <td>93.1</td>\n",
       "      <td>62.6</td>\n",
       "      <td>149.4</td>\n",
       "      <td>1.895</td>\n",
       "      <td>10.3</td>\n",
       "      <td>45.0</td>\n",
       "      <td>23.276272</td>\n",
       "    </tr>\n",
       "    <tr>\n",
       "      <th>33</th>\n",
       "      <td>Chrysler</td>\n",
       "      <td>Town &amp; Country</td>\n",
       "      <td>53.480</td>\n",
       "      <td>19.540</td>\n",
       "      <td>NaN</td>\n",
       "      <td>NaN</td>\n",
       "      <td>NaN</td>\n",
       "      <td>NaN</td>\n",
       "      <td>NaN</td>\n",
       "      <td>NaN</td>\n",
       "      <td>NaN</td>\n",
       "      <td>NaN</td>\n",
       "      <td>NaN</td>\n",
       "      <td>NaN</td>\n",
       "    </tr>\n",
       "  </tbody>\n",
       "</table>\n",
       "<p>157 rows × 14 columns</p>\n",
       "</div>"
      ],
      "text/plain": [
       "    Manufacturer           Model  Sales_in_thousands  __year_resale_value  \\\n",
       "42         Dodge         Ram Van              31.038               13.425   \n",
       "41         Dodge       Ram Wagon              16.767               15.510   \n",
       "18      Cadillac        Escalade              14.785                  NaN   \n",
       "78       Lincoln       Navigator              22.925                  NaN   \n",
       "40         Dodge      Ram Pickup             227.061               15.060   \n",
       "..           ...             ...                 ...                  ...   \n",
       "117     Plymouth         Prowler               1.872                  NaN   \n",
       "62       Hyundai          Accent              41.184                5.860   \n",
       "57         Honda           Civic             199.685                9.850   \n",
       "26     Chevrolet           Metro              21.855                5.160   \n",
       "33      Chrysler  Town & Country              53.480               19.540   \n",
       "\n",
       "     Price_in_thousands  Engine_size  Horsepower  Wheelbase  Width  Length  \\\n",
       "42               18.575          3.9       175.0      127.2   78.8   208.5   \n",
       "41               21.315          3.9       175.0      109.6   78.8   192.6   \n",
       "18               46.225          5.7       255.0      117.5   77.0   201.2   \n",
       "78               42.660          5.4       300.0      119.0   79.9   204.8   \n",
       "40               19.460          5.2       230.0      138.7   79.3   224.2   \n",
       "..                  ...          ...         ...        ...    ...     ...   \n",
       "117              43.000          3.5       253.0      113.3   76.3   165.4   \n",
       "62                9.699          1.5        92.0       96.1   65.7   166.7   \n",
       "57               12.885          1.6       106.0      103.2   67.1   175.1   \n",
       "26                9.235          1.0        55.0       93.1   62.6   149.4   \n",
       "33                  NaN          NaN         NaN        NaN    NaN     NaN   \n",
       "\n",
       "     Curb_weight  Fuel_capacity  Fuel_efficiency  Power_perf_factor  \n",
       "42         4.298           32.0             16.0          70.078322  \n",
       "41         4.245           32.0             15.0          71.135292  \n",
       "18         5.572           30.0             15.0         109.509117  \n",
       "78         5.393           30.0             15.0         123.972047  \n",
       "40         4.470           26.0             17.0          90.211700  \n",
       "..           ...            ...              ...                ...  \n",
       "117        2.850           12.0             21.0         106.984456  \n",
       "62         2.240           11.9             31.0          36.672284  \n",
       "57         2.339           11.9             32.0          42.879097  \n",
       "26         1.895           10.3             45.0          23.276272  \n",
       "33           NaN            NaN              NaN                NaN  \n",
       "\n",
       "[157 rows x 14 columns]"
      ]
     },
     "execution_count": 9,
     "metadata": {},
     "output_type": "execute_result"
    }
   ],
   "source": [
    "#Retirando colunas que não agregam ao Projeto\n",
    "data_2 = Data.drop(['Vehicle_type','Latest_Launch'], axis = 1)\n",
    "data_2.sort_values( by = 'Fuel_capacity', ascending = False)"
   ]
  },
  {
   "cell_type": "code",
   "execution_count": 10,
   "metadata": {},
   "outputs": [
    {
     "name": "stdout",
     "output_type": "stream",
     "text": [
      "<class 'pandas.core.frame.DataFrame'>\n",
      "RangeIndex: 157 entries, 0 to 156\n",
      "Data columns (total 14 columns):\n",
      " #   Column               Non-Null Count  Dtype  \n",
      "---  ------               --------------  -----  \n",
      " 0   Manufacturer         157 non-null    object \n",
      " 1   Model                157 non-null    object \n",
      " 2   Sales_in_thousands   157 non-null    float64\n",
      " 3   __year_resale_value  121 non-null    float64\n",
      " 4   Price_in_thousands   155 non-null    float64\n",
      " 5   Engine_size          156 non-null    float64\n",
      " 6   Horsepower           156 non-null    float64\n",
      " 7   Wheelbase            156 non-null    float64\n",
      " 8   Width                156 non-null    float64\n",
      " 9   Length               156 non-null    float64\n",
      " 10  Curb_weight          155 non-null    float64\n",
      " 11  Fuel_capacity        156 non-null    float64\n",
      " 12  Fuel_efficiency      154 non-null    float64\n",
      " 13  Power_perf_factor    155 non-null    float64\n",
      "dtypes: float64(12), object(2)\n",
      "memory usage: 17.3+ KB\n"
     ]
    }
   ],
   "source": [
    "data_2.info()"
   ]
  },
  {
   "cell_type": "code",
   "execution_count": 11,
   "metadata": {},
   "outputs": [
    {
     "data": {
      "text/plain": [
       "Manufacturer            0\n",
       "Model                   0\n",
       "Sales_in_thousands      0\n",
       "__year_resale_value    36\n",
       "Price_in_thousands      2\n",
       "Engine_size             1\n",
       "Horsepower              1\n",
       "Wheelbase               1\n",
       "Width                   1\n",
       "Length                  1\n",
       "Curb_weight             2\n",
       "Fuel_capacity           1\n",
       "Fuel_efficiency         3\n",
       "Power_perf_factor       2\n",
       "dtype: int64"
      ]
     },
     "execution_count": 11,
     "metadata": {},
     "output_type": "execute_result"
    }
   ],
   "source": [
    "data_2.isnull().sum()"
   ]
  },
  {
   "cell_type": "markdown",
   "metadata": {},
   "source": [
    "Vemos que há alguns valores Nulos, então devemos limpar um pouco mais o Dataset para não cometer erros e evitar erros ao aplicar os códigos e manipulações futuras. Para isso, utilizaremos `dropna`, que remove automaticamente os valores nulos. "
   ]
  },
  {
   "cell_type": "code",
   "execution_count": 12,
   "metadata": {},
   "outputs": [],
   "source": [
    "df_limpo = data_2.dropna()"
   ]
  },
  {
   "cell_type": "code",
   "execution_count": 13,
   "metadata": {},
   "outputs": [
    {
     "data": {
      "text/html": [
       "<div>\n",
       "<style scoped>\n",
       "    .dataframe tbody tr th:only-of-type {\n",
       "        vertical-align: middle;\n",
       "    }\n",
       "\n",
       "    .dataframe tbody tr th {\n",
       "        vertical-align: top;\n",
       "    }\n",
       "\n",
       "    .dataframe thead th {\n",
       "        text-align: right;\n",
       "    }\n",
       "</style>\n",
       "<table border=\"1\" class=\"dataframe\">\n",
       "  <thead>\n",
       "    <tr style=\"text-align: right;\">\n",
       "      <th></th>\n",
       "      <th>Sales_in_thousands</th>\n",
       "      <th>__year_resale_value</th>\n",
       "      <th>Price_in_thousands</th>\n",
       "      <th>Engine_size</th>\n",
       "      <th>Horsepower</th>\n",
       "      <th>Wheelbase</th>\n",
       "      <th>Width</th>\n",
       "      <th>Length</th>\n",
       "      <th>Curb_weight</th>\n",
       "      <th>Fuel_capacity</th>\n",
       "      <th>Fuel_efficiency</th>\n",
       "      <th>Power_perf_factor</th>\n",
       "    </tr>\n",
       "  </thead>\n",
       "  <tbody>\n",
       "    <tr>\n",
       "      <th>0</th>\n",
       "      <td>16.919</td>\n",
       "      <td>16.360</td>\n",
       "      <td>21.50</td>\n",
       "      <td>1.8</td>\n",
       "      <td>140.0</td>\n",
       "      <td>101.2</td>\n",
       "      <td>67.3</td>\n",
       "      <td>172.4</td>\n",
       "      <td>2.639</td>\n",
       "      <td>13.2</td>\n",
       "      <td>28.0</td>\n",
       "      <td>58.280150</td>\n",
       "    </tr>\n",
       "    <tr>\n",
       "      <th>1</th>\n",
       "      <td>39.384</td>\n",
       "      <td>19.875</td>\n",
       "      <td>28.40</td>\n",
       "      <td>3.2</td>\n",
       "      <td>225.0</td>\n",
       "      <td>108.1</td>\n",
       "      <td>70.3</td>\n",
       "      <td>192.9</td>\n",
       "      <td>3.517</td>\n",
       "      <td>17.2</td>\n",
       "      <td>25.0</td>\n",
       "      <td>91.370778</td>\n",
       "    </tr>\n",
       "    <tr>\n",
       "      <th>3</th>\n",
       "      <td>8.588</td>\n",
       "      <td>29.725</td>\n",
       "      <td>42.00</td>\n",
       "      <td>3.5</td>\n",
       "      <td>210.0</td>\n",
       "      <td>114.6</td>\n",
       "      <td>71.4</td>\n",
       "      <td>196.6</td>\n",
       "      <td>3.850</td>\n",
       "      <td>18.0</td>\n",
       "      <td>22.0</td>\n",
       "      <td>91.389779</td>\n",
       "    </tr>\n",
       "    <tr>\n",
       "      <th>4</th>\n",
       "      <td>20.397</td>\n",
       "      <td>22.255</td>\n",
       "      <td>23.99</td>\n",
       "      <td>1.8</td>\n",
       "      <td>150.0</td>\n",
       "      <td>102.6</td>\n",
       "      <td>68.2</td>\n",
       "      <td>178.0</td>\n",
       "      <td>2.998</td>\n",
       "      <td>16.4</td>\n",
       "      <td>27.0</td>\n",
       "      <td>62.777639</td>\n",
       "    </tr>\n",
       "    <tr>\n",
       "      <th>5</th>\n",
       "      <td>18.780</td>\n",
       "      <td>23.555</td>\n",
       "      <td>33.95</td>\n",
       "      <td>2.8</td>\n",
       "      <td>200.0</td>\n",
       "      <td>108.7</td>\n",
       "      <td>76.1</td>\n",
       "      <td>192.0</td>\n",
       "      <td>3.561</td>\n",
       "      <td>18.5</td>\n",
       "      <td>22.0</td>\n",
       "      <td>84.565105</td>\n",
       "    </tr>\n",
       "    <tr>\n",
       "      <th>6</th>\n",
       "      <td>1.380</td>\n",
       "      <td>39.000</td>\n",
       "      <td>62.00</td>\n",
       "      <td>4.2</td>\n",
       "      <td>310.0</td>\n",
       "      <td>113.0</td>\n",
       "      <td>74.0</td>\n",
       "      <td>198.2</td>\n",
       "      <td>3.902</td>\n",
       "      <td>23.7</td>\n",
       "      <td>21.0</td>\n",
       "      <td>134.656858</td>\n",
       "    </tr>\n",
       "    <tr>\n",
       "      <th>8</th>\n",
       "      <td>9.231</td>\n",
       "      <td>28.675</td>\n",
       "      <td>33.40</td>\n",
       "      <td>2.8</td>\n",
       "      <td>193.0</td>\n",
       "      <td>107.3</td>\n",
       "      <td>68.5</td>\n",
       "      <td>176.0</td>\n",
       "      <td>3.197</td>\n",
       "      <td>16.6</td>\n",
       "      <td>24.0</td>\n",
       "      <td>81.877069</td>\n",
       "    </tr>\n",
       "  </tbody>\n",
       "</table>\n",
       "</div>"
      ],
      "text/plain": [
       "   Sales_in_thousands  __year_resale_value  Price_in_thousands  Engine_size  \\\n",
       "0              16.919               16.360               21.50          1.8   \n",
       "1              39.384               19.875               28.40          3.2   \n",
       "3               8.588               29.725               42.00          3.5   \n",
       "4              20.397               22.255               23.99          1.8   \n",
       "5              18.780               23.555               33.95          2.8   \n",
       "6               1.380               39.000               62.00          4.2   \n",
       "8               9.231               28.675               33.40          2.8   \n",
       "\n",
       "   Horsepower  Wheelbase  Width  Length  Curb_weight  Fuel_capacity  \\\n",
       "0       140.0      101.2   67.3   172.4        2.639           13.2   \n",
       "1       225.0      108.1   70.3   192.9        3.517           17.2   \n",
       "3       210.0      114.6   71.4   196.6        3.850           18.0   \n",
       "4       150.0      102.6   68.2   178.0        2.998           16.4   \n",
       "5       200.0      108.7   76.1   192.0        3.561           18.5   \n",
       "6       310.0      113.0   74.0   198.2        3.902           23.7   \n",
       "8       193.0      107.3   68.5   176.0        3.197           16.6   \n",
       "\n",
       "   Fuel_efficiency  Power_perf_factor  \n",
       "0             28.0          58.280150  \n",
       "1             25.0          91.370778  \n",
       "3             22.0          91.389779  \n",
       "4             27.0          62.777639  \n",
       "5             22.0          84.565105  \n",
       "6             21.0         134.656858  \n",
       "8             24.0          81.877069  "
      ]
     },
     "execution_count": 13,
     "metadata": {},
     "output_type": "execute_result"
    }
   ],
   "source": [
    "data_num = df_limpo.select_dtypes(include = ['float64', 'int64']);\n",
    "data_num.head(7)"
   ]
  },
  {
   "cell_type": "markdown",
   "metadata": {},
   "source": [
    "Feita a limpeza para tirar todos os valores nulos do nosso dataframe, podemos inicar a **Análise Exploratória**"
   ]
  },
  {
   "cell_type": "markdown",
   "metadata": {},
   "source": [
    "<div id='analexp'>\n",
    "\n",
    "___\n",
    "\n",
    "# 2. Análise explanatória Básica\n",
    "\n",
    "   Aqui plotamos inicialmete gráficos relacionando o nosso **target** (\"Sales_in_thousands\") com as features, e em seguida, suas determinadas corelações. Por último, depois de conseguir os valores da correlação de cada feature com o target, criamos um histograma de densidade com uma normal plotada em cima, além de um mapa de calor que nos trouxe algumas informações que explicaremos ao longo desta etapa.\n",
    "\n"
   ]
  },
  {
   "cell_type": "code",
   "execution_count": 14,
   "metadata": {},
   "outputs": [
    {
     "data": {
      "image/png": "[encoded data removed]",
      "text/plain": [
       "<Figure size 1080x720 with 12 Axes>"
      ]
     },
     "metadata": {
      "needs_background": "light"
     },
     "output_type": "display_data"
    }
   ],
   "source": [
    "matplotlib.rcParams['font.size'] = 8\n",
    "matplotlib.rcParams['figure.figsize'] = (15,10)\n",
    "data_num.hist(bins=15,xlabelsize=7);"
   ]
  },
  {
   "cell_type": "markdown",
   "metadata": {},
   "source": [
    "Estabelecendo correlação dos parâmetros com o preço dos carros:"
   ]
  },
  {
   "cell_type": "code",
   "execution_count": 15,
   "metadata": {},
   "outputs": [
    {
     "data": {
      "text/plain": [
       "Sales_in_thousands    -0.251705\n",
       "__year_resale_value    0.954757\n",
       "Price_in_thousands     1.000000\n",
       "Engine_size            0.649170\n",
       "Horsepower             0.853455\n",
       "Wheelbase              0.067042\n",
       "Width                  0.301292\n",
       "Length                 0.182592\n",
       "Curb_weight            0.511400\n",
       "Fuel_capacity          0.406496\n",
       "Fuel_efficiency       -0.479539\n",
       "Power_perf_factor      0.905002\n",
       "Name: Price_in_thousands, dtype: float64"
      ]
     },
     "execution_count": 15,
     "metadata": {},
     "output_type": "execute_result"
    }
   ],
   "source": [
    "# Correlation with Price_in_thousands\n",
    "df_corr = data_num.corr()['Price_in_thousands']\n",
    "df_corr"
   ]
  },
  {
   "cell_type": "markdown",
   "metadata": {},
   "source": [
    "Criando o looping para a criação dos gráficos de correlação:"
   ]
  },
  {
   "cell_type": "code",
   "execution_count": 16,
   "metadata": {},
   "outputs": [
    {
     "data": {
      "image/png": "[encoded data removed]",
      "text/plain": [
       "<Figure size 900x180 with 6 Axes>"
      ]
     },
     "metadata": {
      "needs_background": "light"
     },
     "output_type": "display_data"
    },
    {
     "data": {
      "image/png": "[encoded data removed]",
      "text/plain": [
       "<Figure size 900x180 with 5 Axes>"
      ]
     },
     "metadata": {
      "needs_background": "light"
     },
     "output_type": "display_data"
    },
    {
     "data": {
      "image/png": "[encoded data removed]",
      "text/plain": [
       "<Figure size 360x180 with 2 Axes>"
      ]
     },
     "metadata": {
      "needs_background": "light"
     },
     "output_type": "display_data"
    }
   ],
   "source": [
    "for i in range(0, len(data_num.columns),5):\n",
    "    sns.pairplot(data_num, y_vars ='Price_in_thousands', x_vars = data_num.columns[i:i+5]  )"
   ]
  },
  {
   "cell_type": "markdown",
   "metadata": {},
   "source": [
    "### Com isso podemos ver que:\n",
    "\n",
    "- Sales_in_thousands    (-0.304734) --> **Correlação negativa e fraca**\n",
    "\n",
    "- __year_resale_value   ( 0.953840) --> **Correlação positiva e forte**\n",
    "\n",
    "- Engine_size           ( 0.626875) --> **Correlação positiva e forte**\n",
    "\n",
    "- Horsepower            ( 0.839744) --> **Correlação positiva e forte**\n",
    "\n",
    "- Wheelbase             ( 0.110513) --> **Correlação positiva e fraca**\n",
    "\n",
    "- Width                 ( 0.329136) --> **Correlação positiva e fraca**\n",
    "\n",
    "- Length                ( 0.156935) --> **Correlação positiva e fraca**\n",
    "\n",
    "- Curb_weight           ( 0.526224) --> **Correlação positiva e fraca** \n",
    "\n",
    "- Fuel_capacity         ( 0.423282) --> **Correlação positiva e fraca** \n",
    "\n",
    "- Fuel_efficiency       (-0.492157) --> **Correlação negativa e fraca**\n",
    "\n",
    "- Power_perf_factor     ( 0.905002) --> **Correlação positiva e forte**"
   ]
  },
  {
   "cell_type": "code",
   "execution_count": 17,
   "metadata": {},
   "outputs": [
    {
     "name": "stderr",
     "output_type": "stream",
     "text": [
      "C:\\Users\\Diego\\anaconda3\\lib\\site-packages\\seaborn\\distributions.py:2551: FutureWarning: `distplot` is a deprecated function and will be removed in a future version. Please adapt your code to use either `displot` (a figure-level function with similar flexibility) or `histplot` (an axes-level function for histograms).\n",
      "  warnings.warn(msg, FutureWarning)\n"
     ]
    },
    {
     "data": {
      "image/png": "[encoded data removed]",
      "text/plain": [
       "<Figure size 1080x720 with 1 Axes>"
      ]
     },
     "metadata": {
      "needs_background": "light"
     },
     "output_type": "display_data"
    }
   ],
   "source": [
    "#Criando o histograma com a normal:\n",
    "\n",
    "sns.distplot(data_num['Price_in_thousands']);"
   ]
  },
  {
   "cell_type": "code",
   "execution_count": 18,
   "metadata": {},
   "outputs": [
    {
     "data": {
      "text/plain": [
       "count    117.000000\n",
       "mean      25.969487\n",
       "std       14.149699\n",
       "min        9.235000\n",
       "25%       16.980000\n",
       "50%       21.665000\n",
       "75%       29.465000\n",
       "85%       37.174600\n",
       "90%       41.658000\n",
       "100%      82.600000\n",
       "max       82.600000\n",
       "Name: Price_in_thousands, dtype: float64"
      ]
     },
     "execution_count": 18,
     "metadata": {},
     "output_type": "execute_result"
    }
   ],
   "source": [
    "data_num.Price_in_thousands.describe(percentiles = [0.25,0.50,0.75,0.85,0.90,1])"
   ]
  },
  {
   "cell_type": "markdown",
   "metadata": {},
   "source": [
    "### Inferência:\n",
    "\n",
    "- O gráfico parecia **inclinado à direita**, o que significa que **a maioria dos preços no conjunto de dados é baixa** (abaixo de 30.000).\n",
    "\n",
    "- Existe uma diferença significativa entre a média e a mediana da distribuição de preços.\n",
    "\n",
    "- Os pontos de dados estão um pouco distantes da média, o que indica uma **grande variação** nos preços dos automóveis. (85% dos preços estão abaixo de 37.1746, enquanto os 15% restantes estão entre 37.1746 e 82.600)."
   ]
  },
  {
   "cell_type": "code",
   "execution_count": 19,
   "metadata": {},
   "outputs": [
    {
     "data": {
      "image/png": "[encoded data removed]",
      "text/plain": [
       "<Figure size 1080x720 with 2 Axes>"
      ]
     },
     "metadata": {
      "needs_background": "light"
     },
     "output_type": "display_data"
    }
   ],
   "source": [
    "# Criando mapa de calor:\n",
    "\n",
    "sns.heatmap(data_num.corr(), annot=True, vmin=-1, vmax=1);"
   ]
  },
  {
   "cell_type": "markdown",
   "metadata": {},
   "source": [
    "A partir do mapa de calor podemos mapear as correlações entre todas as variáveis, e não apenas entre elas e o preço.\n",
    "\n",
    "Dessa forma, podemos analisar melhor os dados e inclusive identificar futuros possíveis problemas, como a correlação entre \"Horsepower\" e \"Power perf factor\", de 0,99. Sabendo do que se trata cada variável, pode-se concluir que uma foi calculada a partir da outra."
   ]
  },
  {
   "cell_type": "markdown",
   "metadata": {},
   "source": [
    "<div id='modelo1'></div>\n",
    "\n",
    "___\n",
    "\n",
    "# Primeira Modelagem: Regressão Linear \n",
    "\n",
    "Nesta primeira modelagem, realizaremos a regressão linear, assim como feito no modelo da Aula 24. Este modelo tem como objetico explicar como uma variável se comporta em função de outras. Em outras palavras, utilizaremos **variáveis independentes** (features, no caso as especificações dos carros) para explicar o comportamente da **variável dependente** (target, no caso o preço do carro). \n",
    "\n",
    "Primeiramente, criaremos uma função (`regress`) para fazer automaticamente a regressão entre os parâmetros \n"
   ]
  },
  {
   "cell_type": "code",
   "execution_count": 20,
   "metadata": {},
   "outputs": [],
   "source": [
    "### Função utilitária para fazer a regressão com constante adicionada\n",
    "\n",
    "def regress(Y,X):\n",
    "    '''\n",
    "    Y: coluna do DataFrame utilizada como variável resposta (TARGET - Preço)\n",
    "    X: coluna(s) do DataFrame utilizadas como variável(is) explicativas (FEATURES - Especificações)\n",
    "    '''\n",
    "    X_cp = sm.add_constant(X)\n",
    "    model = sm.OLS(Y,X_cp)\n",
    "    results = model.fit()\n",
    "    \n",
    "    return results"
   ]
  },
  {
   "cell_type": "markdown",
   "metadata": {},
   "source": [
    "### Passo 1: Ajustando o modelo\n",
    "\n",
    "Ajuste do modelo considerando Preço como **resposta** (dependente) e as demais variáveis da base de dados como **explicativas**. Para isso, separaremos e armazenaremos as colunas (target e features) em diferentes variáveis.\n"
   ]
  },
  {
   "cell_type": "code",
   "execution_count": 21,
   "metadata": {},
   "outputs": [],
   "source": [
    "X = data_num[['Sales_in_thousands', 'Engine_size', 'Horsepower', 'Wheelbase',\n",
    "              'Width', 'Length','Curb_weight','Fuel_capacity','Fuel_efficiency']]\n",
    "Y = data_num['Price_in_thousands']"
   ]
  },
  {
   "cell_type": "markdown",
   "metadata": {},
   "source": [
    "Nota-se que a coluna \"Power perf factor\" foi retirada da análise, justamente pela conclusão obtida a partir do `heatmap`. A correlação extremamente alta dela com \"Horsepower\" influenciaria os cálculos, dado que estaríamos utilizando duas variáveis praticamente iguais. \n",
    "\n",
    "Além disso, o **R-quadrado** (R²) do modelo com a inclusão do \"Power perf factor\" resultaria em um valor extremamente alto, o que teoricamente é bom, mas indicava um erro na modelagem, tendo em vista essa alta colinearidade.\n",
    "\n",
    "-  R-quadrado (R² ou o coeficiente de determinação) é uma medida estatística em um modelo de regressão que determina a proporção da variância na variável dependente que pode ser explicada pela variável independente. Em outras palavras, R-quadrado mostra o quão bem os dados se ajustam ao modelo de regressão (a qualidade do ajuste)."
   ]
  },
  {
   "cell_type": "code",
   "execution_count": 22,
   "metadata": {},
   "outputs": [
    {
     "data": {
      "text/html": [
       "<table class=\"simpletable\">\n",
       "<caption>OLS Regression Results</caption>\n",
       "<tr>\n",
       "  <th>Dep. Variable:</th>    <td>Price_in_thousands</td> <th>  R-squared:         </th> <td>   0.818</td>\n",
       "</tr>\n",
       "<tr>\n",
       "  <th>Model:</th>                    <td>OLS</td>        <th>  Adj. R-squared:    </th> <td>   0.802</td>\n",
       "</tr>\n",
       "<tr>\n",
       "  <th>Method:</th>              <td>Least Squares</td>   <th>  F-statistic:       </th> <td>   53.36</td>\n",
       "</tr>\n",
       "<tr>\n",
       "  <th>Date:</th>              <td>Tue, 30 Nov 2021</td>  <th>  Prob (F-statistic):</th> <td>1.54e-35</td>\n",
       "</tr>\n",
       "<tr>\n",
       "  <th>Time:</th>                  <td>17:36:17</td>      <th>  Log-Likelihood:    </th> <td> -375.93</td>\n",
       "</tr>\n",
       "<tr>\n",
       "  <th>No. Observations:</th>       <td>   117</td>       <th>  AIC:               </th> <td>   771.9</td>\n",
       "</tr>\n",
       "<tr>\n",
       "  <th>Df Residuals:</th>           <td>   107</td>       <th>  BIC:               </th> <td>   799.5</td>\n",
       "</tr>\n",
       "<tr>\n",
       "  <th>Df Model:</th>               <td>     9</td>       <th>                     </th>     <td> </td>   \n",
       "</tr>\n",
       "<tr>\n",
       "  <th>Covariance Type:</th>       <td>nonrobust</td>     <th>                     </th>     <td> </td>   \n",
       "</tr>\n",
       "</table>\n",
       "<table class=\"simpletable\">\n",
       "<tr>\n",
       "           <td></td>             <th>coef</th>     <th>std err</th>      <th>t</th>      <th>P>|t|</th>  <th>[0.025</th>    <th>0.975]</th>  \n",
       "</tr>\n",
       "<tr>\n",
       "  <th>const</th>              <td>   22.9764</td> <td>   18.215</td> <td>    1.261</td> <td> 0.210</td> <td>  -13.133</td> <td>   59.086</td>\n",
       "</tr>\n",
       "<tr>\n",
       "  <th>Sales_in_thousands</th> <td>-3.689e-05</td> <td>    0.009</td> <td>   -0.004</td> <td> 0.997</td> <td>   -0.019</td> <td>    0.019</td>\n",
       "</tr>\n",
       "<tr>\n",
       "  <th>Engine_size</th>        <td>   -4.7238</td> <td>    1.464</td> <td>   -3.227</td> <td> 0.002</td> <td>   -7.626</td> <td>   -1.822</td>\n",
       "</tr>\n",
       "<tr>\n",
       "  <th>Horsepower</th>         <td>    0.2659</td> <td>    0.022</td> <td>   12.293</td> <td> 0.000</td> <td>    0.223</td> <td>    0.309</td>\n",
       "</tr>\n",
       "<tr>\n",
       "  <th>Wheelbase</th>          <td>   -0.1035</td> <td>    0.182</td> <td>   -0.567</td> <td> 0.572</td> <td>   -0.465</td> <td>    0.258</td>\n",
       "</tr>\n",
       "<tr>\n",
       "  <th>Width</th>              <td>   -0.4165</td> <td>    0.299</td> <td>   -1.391</td> <td> 0.167</td> <td>   -1.010</td> <td>    0.177</td>\n",
       "</tr>\n",
       "<tr>\n",
       "  <th>Length</th>             <td>   -0.2155</td> <td>    0.100</td> <td>   -2.158</td> <td> 0.033</td> <td>   -0.414</td> <td>   -0.018</td>\n",
       "</tr>\n",
       "<tr>\n",
       "  <th>Curb_weight</th>        <td>   10.1626</td> <td>    2.583</td> <td>    3.935</td> <td> 0.000</td> <td>    5.043</td> <td>   15.282</td>\n",
       "</tr>\n",
       "<tr>\n",
       "  <th>Fuel_capacity</th>      <td>    0.2923</td> <td>    0.352</td> <td>    0.831</td> <td> 0.408</td> <td>   -0.405</td> <td>    0.990</td>\n",
       "</tr>\n",
       "<tr>\n",
       "  <th>Fuel_efficiency</th>    <td>    0.4738</td> <td>    0.278</td> <td>    1.705</td> <td> 0.091</td> <td>   -0.077</td> <td>    1.025</td>\n",
       "</tr>\n",
       "</table>\n",
       "<table class=\"simpletable\">\n",
       "<tr>\n",
       "  <th>Omnibus:</th>       <td>36.464</td> <th>  Durbin-Watson:     </th> <td>   1.475</td>\n",
       "</tr>\n",
       "<tr>\n",
       "  <th>Prob(Omnibus):</th> <td> 0.000</td> <th>  Jarque-Bera (JB):  </th> <td>  82.214</td>\n",
       "</tr>\n",
       "<tr>\n",
       "  <th>Skew:</th>          <td> 1.230</td> <th>  Prob(JB):          </th> <td>1.40e-18</td>\n",
       "</tr>\n",
       "<tr>\n",
       "  <th>Kurtosis:</th>      <td> 6.288</td> <th>  Cond. No.          </th> <td>9.45e+03</td>\n",
       "</tr>\n",
       "</table><br/><br/>Notes:<br/>[1] Standard Errors assume that the covariance matrix of the errors is correctly specified.<br/>[2] The condition number is large, 9.45e+03. This might indicate that there are<br/>strong multicollinearity or other numerical problems."
      ],
      "text/plain": [
       "<class 'statsmodels.iolib.summary.Summary'>\n",
       "\"\"\"\n",
       "                            OLS Regression Results                            \n",
       "==============================================================================\n",
       "Dep. Variable:     Price_in_thousands   R-squared:                       0.818\n",
       "Model:                            OLS   Adj. R-squared:                  0.802\n",
       "Method:                 Least Squares   F-statistic:                     53.36\n",
       "Date:                Tue, 30 Nov 2021   Prob (F-statistic):           1.54e-35\n",
       "Time:                        17:36:17   Log-Likelihood:                -375.93\n",
       "No. Observations:                 117   AIC:                             771.9\n",
       "Df Residuals:                     107   BIC:                             799.5\n",
       "Df Model:                           9                                         \n",
       "Covariance Type:            nonrobust                                         \n",
       "======================================================================================\n",
       "                         coef    std err          t      P>|t|      [0.025      0.975]\n",
       "--------------------------------------------------------------------------------------\n",
       "const                 22.9764     18.215      1.261      0.210     -13.133      59.086\n",
       "Sales_in_thousands -3.689e-05      0.009     -0.004      0.997      -0.019       0.019\n",
       "Engine_size           -4.7238      1.464     -3.227      0.002      -7.626      -1.822\n",
       "Horsepower             0.2659      0.022     12.293      0.000       0.223       0.309\n",
       "Wheelbase             -0.1035      0.182     -0.567      0.572      -0.465       0.258\n",
       "Width                 -0.4165      0.299     -1.391      0.167      -1.010       0.177\n",
       "Length                -0.2155      0.100     -2.158      0.033      -0.414      -0.018\n",
       "Curb_weight           10.1626      2.583      3.935      0.000       5.043      15.282\n",
       "Fuel_capacity          0.2923      0.352      0.831      0.408      -0.405       0.990\n",
       "Fuel_efficiency        0.4738      0.278      1.705      0.091      -0.077       1.025\n",
       "==============================================================================\n",
       "Omnibus:                       36.464   Durbin-Watson:                   1.475\n",
       "Prob(Omnibus):                  0.000   Jarque-Bera (JB):               82.214\n",
       "Skew:                           1.230   Prob(JB):                     1.40e-18\n",
       "Kurtosis:                       6.288   Cond. No.                     9.45e+03\n",
       "==============================================================================\n",
       "\n",
       "Notes:\n",
       "[1] Standard Errors assume that the covariance matrix of the errors is correctly specified.\n",
       "[2] The condition number is large, 9.45e+03. This might indicate that there are\n",
       "strong multicollinearity or other numerical problems.\n",
       "\"\"\""
      ]
     },
     "execution_count": 22,
     "metadata": {},
     "output_type": "execute_result"
    }
   ],
   "source": [
    "results = regress(Y,X)\n",
    "results.summary()"
   ]
  },
  {
   "cell_type": "markdown",
   "metadata": {},
   "source": [
    "Retiramos a variável \"Sales_in_thousands\" e \"Whellbase\" devido ao alto **valor-p** (acima de 0,7), indicando irrelevância na modelagem.\n",
    "\n",
    "- Em estatística, o valor **P** é a probabilidade de se obter resultados tão extremos quanto os resultados observados em um teste de hipótese estatística, assumindo que a hipótese nula está correta. O valor **P** é usado como uma alternativa aos pontos de rejeição para fornecer o menor nível de significância no qual a hipótese nula seria rejeitada. Um valor **P** menor significa que há evidências mais fortes a favor da hipótese alternativa, ou seja quanto menor for, maior será a significância estatística da diferença observada."
   ]
  },
  {
   "cell_type": "code",
   "execution_count": 23,
   "metadata": {},
   "outputs": [
    {
     "data": {
      "text/html": [
       "<table class=\"simpletable\">\n",
       "<caption>OLS Regression Results</caption>\n",
       "<tr>\n",
       "  <th>Dep. Variable:</th>    <td>Price_in_thousands</td> <th>  R-squared:         </th> <td>   0.798</td>\n",
       "</tr>\n",
       "<tr>\n",
       "  <th>Model:</th>                    <td>OLS</td>        <th>  Adj. R-squared:    </th> <td>   0.787</td>\n",
       "</tr>\n",
       "<tr>\n",
       "  <th>Method:</th>              <td>Least Squares</td>   <th>  F-statistic:       </th> <td>   72.55</td>\n",
       "</tr>\n",
       "<tr>\n",
       "  <th>Date:</th>              <td>Tue, 30 Nov 2021</td>  <th>  Prob (F-statistic):</th> <td>5.93e-36</td>\n",
       "</tr>\n",
       "<tr>\n",
       "  <th>Time:</th>                  <td>17:36:17</td>      <th>  Log-Likelihood:    </th> <td> -381.88</td>\n",
       "</tr>\n",
       "<tr>\n",
       "  <th>No. Observations:</th>       <td>   117</td>       <th>  AIC:               </th> <td>   777.8</td>\n",
       "</tr>\n",
       "<tr>\n",
       "  <th>Df Residuals:</th>           <td>   110</td>       <th>  BIC:               </th> <td>   797.1</td>\n",
       "</tr>\n",
       "<tr>\n",
       "  <th>Df Model:</th>               <td>     6</td>       <th>                     </th>     <td> </td>   \n",
       "</tr>\n",
       "<tr>\n",
       "  <th>Covariance Type:</th>       <td>nonrobust</td>     <th>                     </th>     <td> </td>   \n",
       "</tr>\n",
       "</table>\n",
       "<table class=\"simpletable\">\n",
       "<tr>\n",
       "         <td></td>            <th>coef</th>     <th>std err</th>      <th>t</th>      <th>P>|t|</th>  <th>[0.025</th>    <th>0.975]</th>  \n",
       "</tr>\n",
       "<tr>\n",
       "  <th>const</th>           <td>   33.0746</td> <td>   18.323</td> <td>    1.805</td> <td> 0.074</td> <td>   -3.236</td> <td>   69.385</td>\n",
       "</tr>\n",
       "<tr>\n",
       "  <th>Horsepower</th>      <td>    0.2190</td> <td>    0.014</td> <td>   16.060</td> <td> 0.000</td> <td>    0.192</td> <td>    0.246</td>\n",
       "</tr>\n",
       "<tr>\n",
       "  <th>Width</th>           <td>   -0.6916</td> <td>    0.299</td> <td>   -2.315</td> <td> 0.022</td> <td>   -1.284</td> <td>   -0.099</td>\n",
       "</tr>\n",
       "<tr>\n",
       "  <th>Length</th>          <td>   -0.2628</td> <td>    0.071</td> <td>   -3.699</td> <td> 0.000</td> <td>   -0.404</td> <td>   -0.122</td>\n",
       "</tr>\n",
       "<tr>\n",
       "  <th>Curb_weight</th>     <td>    8.7141</td> <td>    2.551</td> <td>    3.417</td> <td> 0.001</td> <td>    3.659</td> <td>   13.769</td>\n",
       "</tr>\n",
       "<tr>\n",
       "  <th>Fuel_capacity</th>   <td>    0.3482</td> <td>    0.335</td> <td>    1.039</td> <td> 0.301</td> <td>   -0.316</td> <td>    1.012</td>\n",
       "</tr>\n",
       "<tr>\n",
       "  <th>Fuel_efficiency</th> <td>    0.6880</td> <td>    0.276</td> <td>    2.490</td> <td> 0.014</td> <td>    0.140</td> <td>    1.236</td>\n",
       "</tr>\n",
       "</table>\n",
       "<table class=\"simpletable\">\n",
       "<tr>\n",
       "  <th>Omnibus:</th>       <td>34.213</td> <th>  Durbin-Watson:     </th> <td>   1.345</td>\n",
       "</tr>\n",
       "<tr>\n",
       "  <th>Prob(Omnibus):</th> <td> 0.000</td> <th>  Jarque-Bera (JB):  </th> <td>  69.235</td>\n",
       "</tr>\n",
       "<tr>\n",
       "  <th>Skew:</th>          <td> 1.206</td> <th>  Prob(JB):          </th> <td>9.24e-16</td>\n",
       "</tr>\n",
       "<tr>\n",
       "  <th>Kurtosis:</th>      <td> 5.896</td> <th>  Cond. No.          </th> <td>8.38e+03</td>\n",
       "</tr>\n",
       "</table><br/><br/>Notes:<br/>[1] Standard Errors assume that the covariance matrix of the errors is correctly specified.<br/>[2] The condition number is large, 8.38e+03. This might indicate that there are<br/>strong multicollinearity or other numerical problems."
      ],
      "text/plain": [
       "<class 'statsmodels.iolib.summary.Summary'>\n",
       "\"\"\"\n",
       "                            OLS Regression Results                            \n",
       "==============================================================================\n",
       "Dep. Variable:     Price_in_thousands   R-squared:                       0.798\n",
       "Model:                            OLS   Adj. R-squared:                  0.787\n",
       "Method:                 Least Squares   F-statistic:                     72.55\n",
       "Date:                Tue, 30 Nov 2021   Prob (F-statistic):           5.93e-36\n",
       "Time:                        17:36:17   Log-Likelihood:                -381.88\n",
       "No. Observations:                 117   AIC:                             777.8\n",
       "Df Residuals:                     110   BIC:                             797.1\n",
       "Df Model:                           6                                         \n",
       "Covariance Type:            nonrobust                                         \n",
       "===================================================================================\n",
       "                      coef    std err          t      P>|t|      [0.025      0.975]\n",
       "-----------------------------------------------------------------------------------\n",
       "const              33.0746     18.323      1.805      0.074      -3.236      69.385\n",
       "Horsepower          0.2190      0.014     16.060      0.000       0.192       0.246\n",
       "Width              -0.6916      0.299     -2.315      0.022      -1.284      -0.099\n",
       "Length             -0.2628      0.071     -3.699      0.000      -0.404      -0.122\n",
       "Curb_weight         8.7141      2.551      3.417      0.001       3.659      13.769\n",
       "Fuel_capacity       0.3482      0.335      1.039      0.301      -0.316       1.012\n",
       "Fuel_efficiency     0.6880      0.276      2.490      0.014       0.140       1.236\n",
       "==============================================================================\n",
       "Omnibus:                       34.213   Durbin-Watson:                   1.345\n",
       "Prob(Omnibus):                  0.000   Jarque-Bera (JB):               69.235\n",
       "Skew:                           1.206   Prob(JB):                     9.24e-16\n",
       "Kurtosis:                       5.896   Cond. No.                     8.38e+03\n",
       "==============================================================================\n",
       "\n",
       "Notes:\n",
       "[1] Standard Errors assume that the covariance matrix of the errors is correctly specified.\n",
       "[2] The condition number is large, 8.38e+03. This might indicate that there are\n",
       "strong multicollinearity or other numerical problems.\n",
       "\"\"\""
      ]
     },
     "execution_count": 23,
     "metadata": {},
     "output_type": "execute_result"
    }
   ],
   "source": [
    "X2 = data_num [['Horsepower','Width', 'Length','Curb_weight','Fuel_capacity','Fuel_efficiency']]\n",
    "\n",
    "results2 = regress(Y,X2)\n",
    "results2.summary()"
   ]
  },
  {
   "cell_type": "markdown",
   "metadata": {},
   "source": [
    "Retiramos a varável \"Engine_size\" e \"Width\" devido ao alto **valor-p** (acima de 0,4), indicando inrelevância na modelagem."
   ]
  },
  {
   "cell_type": "code",
   "execution_count": 24,
   "metadata": {},
   "outputs": [
    {
     "data": {
      "text/html": [
       "<table class=\"simpletable\">\n",
       "<caption>OLS Regression Results</caption>\n",
       "<tr>\n",
       "  <th>Dep. Variable:</th>    <td>Price_in_thousands</td> <th>  R-squared:         </th> <td>   0.788</td>\n",
       "</tr>\n",
       "<tr>\n",
       "  <th>Model:</th>                    <td>OLS</td>        <th>  Adj. R-squared:    </th> <td>   0.779</td>\n",
       "</tr>\n",
       "<tr>\n",
       "  <th>Method:</th>              <td>Least Squares</td>   <th>  F-statistic:       </th> <td>   82.74</td>\n",
       "</tr>\n",
       "<tr>\n",
       "  <th>Date:</th>              <td>Tue, 30 Nov 2021</td>  <th>  Prob (F-statistic):</th> <td>8.24e-36</td>\n",
       "</tr>\n",
       "<tr>\n",
       "  <th>Time:</th>                  <td>17:36:17</td>      <th>  Log-Likelihood:    </th> <td> -384.66</td>\n",
       "</tr>\n",
       "<tr>\n",
       "  <th>No. Observations:</th>       <td>   117</td>       <th>  AIC:               </th> <td>   781.3</td>\n",
       "</tr>\n",
       "<tr>\n",
       "  <th>Df Residuals:</th>           <td>   111</td>       <th>  BIC:               </th> <td>   797.9</td>\n",
       "</tr>\n",
       "<tr>\n",
       "  <th>Df Model:</th>               <td>     5</td>       <th>                     </th>     <td> </td>   \n",
       "</tr>\n",
       "<tr>\n",
       "  <th>Covariance Type:</th>       <td>nonrobust</td>     <th>                     </th>     <td> </td>   \n",
       "</tr>\n",
       "</table>\n",
       "<table class=\"simpletable\">\n",
       "<tr>\n",
       "         <td></td>            <th>coef</th>     <th>std err</th>      <th>t</th>      <th>P>|t|</th>  <th>[0.025</th>    <th>0.975]</th>  \n",
       "</tr>\n",
       "<tr>\n",
       "  <th>const</th>           <td>    4.3924</td> <td>   13.759</td> <td>    0.319</td> <td> 0.750</td> <td>  -22.871</td> <td>   31.656</td>\n",
       "</tr>\n",
       "<tr>\n",
       "  <th>Horsepower</th>      <td>    0.2141</td> <td>    0.014</td> <td>   15.590</td> <td> 0.000</td> <td>    0.187</td> <td>    0.241</td>\n",
       "</tr>\n",
       "<tr>\n",
       "  <th>Length</th>          <td>   -0.3442</td> <td>    0.063</td> <td>   -5.471</td> <td> 0.000</td> <td>   -0.469</td> <td>   -0.220</td>\n",
       "</tr>\n",
       "<tr>\n",
       "  <th>Curb_weight</th>     <td>    8.0473</td> <td>    2.583</td> <td>    3.115</td> <td> 0.002</td> <td>    2.928</td> <td>   13.167</td>\n",
       "</tr>\n",
       "<tr>\n",
       "  <th>Fuel_capacity</th>   <td>    0.2156</td> <td>    0.337</td> <td>    0.641</td> <td> 0.523</td> <td>   -0.451</td> <td>    0.883</td>\n",
       "</tr>\n",
       "<tr>\n",
       "  <th>Fuel_efficiency</th> <td>    0.6961</td> <td>    0.282</td> <td>    2.472</td> <td> 0.015</td> <td>    0.138</td> <td>    1.254</td>\n",
       "</tr>\n",
       "</table>\n",
       "<table class=\"simpletable\">\n",
       "<tr>\n",
       "  <th>Omnibus:</th>       <td>36.153</td> <th>  Durbin-Watson:     </th> <td>   1.271</td>\n",
       "</tr>\n",
       "<tr>\n",
       "  <th>Prob(Omnibus):</th> <td> 0.000</td> <th>  Jarque-Bera (JB):  </th> <td>  78.230</td>\n",
       "</tr>\n",
       "<tr>\n",
       "  <th>Skew:</th>          <td> 1.241</td> <th>  Prob(JB):          </th> <td>1.03e-17</td>\n",
       "</tr>\n",
       "<tr>\n",
       "  <th>Kurtosis:</th>      <td> 6.144</td> <th>  Cond. No.          </th> <td>5.97e+03</td>\n",
       "</tr>\n",
       "</table><br/><br/>Notes:<br/>[1] Standard Errors assume that the covariance matrix of the errors is correctly specified.<br/>[2] The condition number is large, 5.97e+03. This might indicate that there are<br/>strong multicollinearity or other numerical problems."
      ],
      "text/plain": [
       "<class 'statsmodels.iolib.summary.Summary'>\n",
       "\"\"\"\n",
       "                            OLS Regression Results                            \n",
       "==============================================================================\n",
       "Dep. Variable:     Price_in_thousands   R-squared:                       0.788\n",
       "Model:                            OLS   Adj. R-squared:                  0.779\n",
       "Method:                 Least Squares   F-statistic:                     82.74\n",
       "Date:                Tue, 30 Nov 2021   Prob (F-statistic):           8.24e-36\n",
       "Time:                        17:36:17   Log-Likelihood:                -384.66\n",
       "No. Observations:                 117   AIC:                             781.3\n",
       "Df Residuals:                     111   BIC:                             797.9\n",
       "Df Model:                           5                                         \n",
       "Covariance Type:            nonrobust                                         \n",
       "===================================================================================\n",
       "                      coef    std err          t      P>|t|      [0.025      0.975]\n",
       "-----------------------------------------------------------------------------------\n",
       "const               4.3924     13.759      0.319      0.750     -22.871      31.656\n",
       "Horsepower          0.2141      0.014     15.590      0.000       0.187       0.241\n",
       "Length             -0.3442      0.063     -5.471      0.000      -0.469      -0.220\n",
       "Curb_weight         8.0473      2.583      3.115      0.002       2.928      13.167\n",
       "Fuel_capacity       0.2156      0.337      0.641      0.523      -0.451       0.883\n",
       "Fuel_efficiency     0.6961      0.282      2.472      0.015       0.138       1.254\n",
       "==============================================================================\n",
       "Omnibus:                       36.153   Durbin-Watson:                   1.271\n",
       "Prob(Omnibus):                  0.000   Jarque-Bera (JB):               78.230\n",
       "Skew:                           1.241   Prob(JB):                     1.03e-17\n",
       "Kurtosis:                       6.144   Cond. No.                     5.97e+03\n",
       "==============================================================================\n",
       "\n",
       "Notes:\n",
       "[1] Standard Errors assume that the covariance matrix of the errors is correctly specified.\n",
       "[2] The condition number is large, 5.97e+03. This might indicate that there are\n",
       "strong multicollinearity or other numerical problems.\n",
       "\"\"\""
      ]
     },
     "execution_count": 24,
     "metadata": {},
     "output_type": "execute_result"
    }
   ],
   "source": [
    "X3 = data_num [[ 'Horsepower', 'Length','Curb_weight','Fuel_capacity','Fuel_efficiency']]\n",
    "\n",
    "results3 = regress(Y,X3)\n",
    "results3.summary()"
   ]
  },
  {
   "cell_type": "markdown",
   "metadata": {},
   "source": [
    "Retiramos a varável \"Fuel_cappacity\" devido ao alto **valor-p** (acima de 0,2), indicando inrelevância na modelagem."
   ]
  },
  {
   "cell_type": "code",
   "execution_count": 25,
   "metadata": {},
   "outputs": [
    {
     "data": {
      "text/html": [
       "<table class=\"simpletable\">\n",
       "<caption>OLS Regression Results</caption>\n",
       "<tr>\n",
       "  <th>Dep. Variable:</th>    <td>Price_in_thousands</td> <th>  R-squared:         </th> <td>   0.788</td>\n",
       "</tr>\n",
       "<tr>\n",
       "  <th>Model:</th>                    <td>OLS</td>        <th>  Adj. R-squared:    </th> <td>   0.780</td>\n",
       "</tr>\n",
       "<tr>\n",
       "  <th>Method:</th>              <td>Least Squares</td>   <th>  F-statistic:       </th> <td>   103.9</td>\n",
       "</tr>\n",
       "<tr>\n",
       "  <th>Date:</th>              <td>Tue, 30 Nov 2021</td>  <th>  Prob (F-statistic):</th> <td>9.27e-37</td>\n",
       "</tr>\n",
       "<tr>\n",
       "  <th>Time:</th>                  <td>17:36:17</td>      <th>  Log-Likelihood:    </th> <td> -384.88</td>\n",
       "</tr>\n",
       "<tr>\n",
       "  <th>No. Observations:</th>       <td>   117</td>       <th>  AIC:               </th> <td>   779.8</td>\n",
       "</tr>\n",
       "<tr>\n",
       "  <th>Df Residuals:</th>           <td>   112</td>       <th>  BIC:               </th> <td>   793.6</td>\n",
       "</tr>\n",
       "<tr>\n",
       "  <th>Df Model:</th>               <td>     4</td>       <th>                     </th>     <td> </td>   \n",
       "</tr>\n",
       "<tr>\n",
       "  <th>Covariance Type:</th>       <td>nonrobust</td>     <th>                     </th>     <td> </td>   \n",
       "</tr>\n",
       "</table>\n",
       "<table class=\"simpletable\">\n",
       "<tr>\n",
       "         <td></td>            <th>coef</th>     <th>std err</th>      <th>t</th>      <th>P>|t|</th>  <th>[0.025</th>    <th>0.975]</th>  \n",
       "</tr>\n",
       "<tr>\n",
       "  <th>const</th>           <td>    7.2840</td> <td>   12.963</td> <td>    0.562</td> <td> 0.575</td> <td>  -18.401</td> <td>   32.969</td>\n",
       "</tr>\n",
       "<tr>\n",
       "  <th>Horsepower</th>      <td>    0.2126</td> <td>    0.013</td> <td>   15.752</td> <td> 0.000</td> <td>    0.186</td> <td>    0.239</td>\n",
       "</tr>\n",
       "<tr>\n",
       "  <th>Length</th>          <td>   -0.3422</td> <td>    0.063</td> <td>   -5.460</td> <td> 0.000</td> <td>   -0.466</td> <td>   -0.218</td>\n",
       "</tr>\n",
       "<tr>\n",
       "  <th>Curb_weight</th>     <td>    8.8267</td> <td>    2.273</td> <td>    3.883</td> <td> 0.000</td> <td>    4.323</td> <td>   13.331</td>\n",
       "</tr>\n",
       "<tr>\n",
       "  <th>Fuel_efficiency</th> <td>    0.6236</td> <td>    0.257</td> <td>    2.424</td> <td> 0.017</td> <td>    0.114</td> <td>    1.133</td>\n",
       "</tr>\n",
       "</table>\n",
       "<table class=\"simpletable\">\n",
       "<tr>\n",
       "  <th>Omnibus:</th>       <td>37.259</td> <th>  Durbin-Watson:     </th> <td>   1.258</td>\n",
       "</tr>\n",
       "<tr>\n",
       "  <th>Prob(Omnibus):</th> <td> 0.000</td> <th>  Jarque-Bera (JB):  </th> <td>  81.343</td>\n",
       "</tr>\n",
       "<tr>\n",
       "  <th>Skew:</th>          <td> 1.277</td> <th>  Prob(JB):          </th> <td>2.17e-18</td>\n",
       "</tr>\n",
       "<tr>\n",
       "  <th>Kurtosis:</th>      <td> 6.188</td> <th>  Cond. No.          </th> <td>5.63e+03</td>\n",
       "</tr>\n",
       "</table><br/><br/>Notes:<br/>[1] Standard Errors assume that the covariance matrix of the errors is correctly specified.<br/>[2] The condition number is large, 5.63e+03. This might indicate that there are<br/>strong multicollinearity or other numerical problems."
      ],
      "text/plain": [
       "<class 'statsmodels.iolib.summary.Summary'>\n",
       "\"\"\"\n",
       "                            OLS Regression Results                            \n",
       "==============================================================================\n",
       "Dep. Variable:     Price_in_thousands   R-squared:                       0.788\n",
       "Model:                            OLS   Adj. R-squared:                  0.780\n",
       "Method:                 Least Squares   F-statistic:                     103.9\n",
       "Date:                Tue, 30 Nov 2021   Prob (F-statistic):           9.27e-37\n",
       "Time:                        17:36:17   Log-Likelihood:                -384.88\n",
       "No. Observations:                 117   AIC:                             779.8\n",
       "Df Residuals:                     112   BIC:                             793.6\n",
       "Df Model:                           4                                         \n",
       "Covariance Type:            nonrobust                                         \n",
       "===================================================================================\n",
       "                      coef    std err          t      P>|t|      [0.025      0.975]\n",
       "-----------------------------------------------------------------------------------\n",
       "const               7.2840     12.963      0.562      0.575     -18.401      32.969\n",
       "Horsepower          0.2126      0.013     15.752      0.000       0.186       0.239\n",
       "Length             -0.3422      0.063     -5.460      0.000      -0.466      -0.218\n",
       "Curb_weight         8.8267      2.273      3.883      0.000       4.323      13.331\n",
       "Fuel_efficiency     0.6236      0.257      2.424      0.017       0.114       1.133\n",
       "==============================================================================\n",
       "Omnibus:                       37.259   Durbin-Watson:                   1.258\n",
       "Prob(Omnibus):                  0.000   Jarque-Bera (JB):               81.343\n",
       "Skew:                           1.277   Prob(JB):                     2.17e-18\n",
       "Kurtosis:                       6.188   Cond. No.                     5.63e+03\n",
       "==============================================================================\n",
       "\n",
       "Notes:\n",
       "[1] Standard Errors assume that the covariance matrix of the errors is correctly specified.\n",
       "[2] The condition number is large, 5.63e+03. This might indicate that there are\n",
       "strong multicollinearity or other numerical problems.\n",
       "\"\"\""
      ]
     },
     "execution_count": 25,
     "metadata": {},
     "output_type": "execute_result"
    }
   ],
   "source": [
    "X3 = data_num [[ 'Horsepower', 'Length','Curb_weight','Fuel_efficiency']]\n",
    "\n",
    "results3 = regress(Y,X3)\n",
    "results3.summary()"
   ]
  },
  {
   "cell_type": "markdown",
   "metadata": {},
   "source": [
    "Tendo o modelo ajustado, com as colunas necessárias sendo retiradas, podemos então manipular os dados e trabalhar com eles.\n",
    "\n",
    "Nesse caso, criaremos agora um gráfico "
   ]
  },
  {
   "cell_type": "code",
   "execution_count": 26,
   "metadata": {},
   "outputs": [
    {
     "data": {
      "image/png": "[encoded data removed]",
      "text/plain": [
       "<Figure size 1080x720 with 1 Axes>"
      ]
     },
     "metadata": {
      "needs_background": "light"
     },
     "output_type": "display_data"
    }
   ],
   "source": [
    "from scipy.stats import norm, probplot\n",
    "\n",
    "scipy.stats.probplot(results.resid, dist= 'norm', plot =plt);"
   ]
  },
  {
   "cell_type": "markdown",
   "metadata": {},
   "source": [
    "Tendo em vista a interpretação os gráficos acima, nota-se que a variância dos resíduos está crescendo dando indicativo que a suposição de homocedasticidade deva estar violada. Uma solução pode ser a transformação nas variáveis dependente e/ou independentes ou usar modelos de regressão mais robustos. \n",
    "Para isso, vamos fazer um ajuste usando a escala de log para as variáveis de X."
   ]
  },
  {
   "cell_type": "code",
   "execution_count": 27,
   "metadata": {},
   "outputs": [
    {
     "name": "stderr",
     "output_type": "stream",
     "text": [
      "<ipython-input-27-4d71e3546df2>:1: SettingWithCopyWarning: \n",
      "A value is trying to be set on a copy of a slice from a DataFrame.\n",
      "Try using .loc[row_indexer,col_indexer] = value instead\n",
      "\n",
      "See the caveats in the documentation: https://pandas.pydata.org/pandas-docs/stable/user_guide/indexing.html#returning-a-view-versus-a-copy\n",
      "  data_num['Engine_size'] = np.log(data_num[ 'Engine_size'])\n",
      "<ipython-input-27-4d71e3546df2>:2: SettingWithCopyWarning: \n",
      "A value is trying to be set on a copy of a slice from a DataFrame.\n",
      "Try using .loc[row_indexer,col_indexer] = value instead\n",
      "\n",
      "See the caveats in the documentation: https://pandas.pydata.org/pandas-docs/stable/user_guide/indexing.html#returning-a-view-versus-a-copy\n",
      "  data_num['Fuel_efficiency'] = np.log(data_num[ 'Fuel_efficiency'])\n",
      "<ipython-input-27-4d71e3546df2>:3: SettingWithCopyWarning: \n",
      "A value is trying to be set on a copy of a slice from a DataFrame.\n",
      "Try using .loc[row_indexer,col_indexer] = value instead\n",
      "\n",
      "See the caveats in the documentation: https://pandas.pydata.org/pandas-docs/stable/user_guide/indexing.html#returning-a-view-versus-a-copy\n",
      "  data_num['Length'] = np.log(data_num[ 'Length'])\n",
      "<ipython-input-27-4d71e3546df2>:4: SettingWithCopyWarning: \n",
      "A value is trying to be set on a copy of a slice from a DataFrame.\n",
      "Try using .loc[row_indexer,col_indexer] = value instead\n",
      "\n",
      "See the caveats in the documentation: https://pandas.pydata.org/pandas-docs/stable/user_guide/indexing.html#returning-a-view-versus-a-copy\n",
      "  data_num['Curb_weight'] = np.log(data_num['Curb_weight'])\n"
     ]
    },
    {
     "data": {
      "text/html": [
       "<table class=\"simpletable\">\n",
       "<caption>OLS Regression Results</caption>\n",
       "<tr>\n",
       "  <th>Dep. Variable:</th>    <td>Price_in_thousands</td> <th>  R-squared:         </th> <td>   0.784</td>\n",
       "</tr>\n",
       "<tr>\n",
       "  <th>Model:</th>                    <td>OLS</td>        <th>  Adj. R-squared:    </th> <td>   0.777</td>\n",
       "</tr>\n",
       "<tr>\n",
       "  <th>Method:</th>              <td>Least Squares</td>   <th>  F-statistic:       </th> <td>   101.8</td>\n",
       "</tr>\n",
       "<tr>\n",
       "  <th>Date:</th>              <td>Tue, 30 Nov 2021</td>  <th>  Prob (F-statistic):</th> <td>2.21e-36</td>\n",
       "</tr>\n",
       "<tr>\n",
       "  <th>Time:</th>                  <td>17:36:17</td>      <th>  Log-Likelihood:    </th> <td> -385.79</td>\n",
       "</tr>\n",
       "<tr>\n",
       "  <th>No. Observations:</th>       <td>   117</td>       <th>  AIC:               </th> <td>   781.6</td>\n",
       "</tr>\n",
       "<tr>\n",
       "  <th>Df Residuals:</th>           <td>   112</td>       <th>  BIC:               </th> <td>   795.4</td>\n",
       "</tr>\n",
       "<tr>\n",
       "  <th>Df Model:</th>               <td>     4</td>       <th>                     </th>     <td> </td>   \n",
       "</tr>\n",
       "<tr>\n",
       "  <th>Covariance Type:</th>       <td>nonrobust</td>     <th>                     </th>     <td> </td>   \n",
       "</tr>\n",
       "</table>\n",
       "<table class=\"simpletable\">\n",
       "<tr>\n",
       "         <td></td>            <th>coef</th>     <th>std err</th>      <th>t</th>      <th>P>|t|</th>  <th>[0.025</th>    <th>0.975]</th>  \n",
       "</tr>\n",
       "<tr>\n",
       "  <th>const</th>           <td>  250.8494</td> <td>   57.609</td> <td>    4.354</td> <td> 0.000</td> <td>  136.705</td> <td>  364.994</td>\n",
       "</tr>\n",
       "<tr>\n",
       "  <th>Horsepower</th>      <td>    0.2111</td> <td>    0.014</td> <td>   15.463</td> <td> 0.000</td> <td>    0.184</td> <td>    0.238</td>\n",
       "</tr>\n",
       "<tr>\n",
       "  <th>Length</th>          <td>  -67.2588</td> <td>   12.562</td> <td>   -5.354</td> <td> 0.000</td> <td>  -92.149</td> <td>  -42.369</td>\n",
       "</tr>\n",
       "<tr>\n",
       "  <th>Curb_weight</th>     <td>   30.6404</td> <td>    8.446</td> <td>    3.628</td> <td> 0.000</td> <td>   13.906</td> <td>   47.374</td>\n",
       "</tr>\n",
       "<tr>\n",
       "  <th>Fuel_efficiency</th> <td>   16.5672</td> <td>    6.751</td> <td>    2.454</td> <td> 0.016</td> <td>    3.191</td> <td>   29.944</td>\n",
       "</tr>\n",
       "</table>\n",
       "<table class=\"simpletable\">\n",
       "<tr>\n",
       "  <th>Omnibus:</th>       <td>36.807</td> <th>  Durbin-Watson:     </th> <td>   1.250</td>\n",
       "</tr>\n",
       "<tr>\n",
       "  <th>Prob(Omnibus):</th> <td> 0.000</td> <th>  Jarque-Bera (JB):  </th> <td>  78.314</td>\n",
       "</tr>\n",
       "<tr>\n",
       "  <th>Skew:</th>          <td> 1.275</td> <th>  Prob(JB):          </th> <td>9.87e-18</td>\n",
       "</tr>\n",
       "<tr>\n",
       "  <th>Kurtosis:</th>      <td> 6.093</td> <th>  Cond. No.          </th> <td>1.81e+04</td>\n",
       "</tr>\n",
       "</table><br/><br/>Notes:<br/>[1] Standard Errors assume that the covariance matrix of the errors is correctly specified.<br/>[2] The condition number is large, 1.81e+04. This might indicate that there are<br/>strong multicollinearity or other numerical problems."
      ],
      "text/plain": [
       "<class 'statsmodels.iolib.summary.Summary'>\n",
       "\"\"\"\n",
       "                            OLS Regression Results                            \n",
       "==============================================================================\n",
       "Dep. Variable:     Price_in_thousands   R-squared:                       0.784\n",
       "Model:                            OLS   Adj. R-squared:                  0.777\n",
       "Method:                 Least Squares   F-statistic:                     101.8\n",
       "Date:                Tue, 30 Nov 2021   Prob (F-statistic):           2.21e-36\n",
       "Time:                        17:36:17   Log-Likelihood:                -385.79\n",
       "No. Observations:                 117   AIC:                             781.6\n",
       "Df Residuals:                     112   BIC:                             795.4\n",
       "Df Model:                           4                                         \n",
       "Covariance Type:            nonrobust                                         \n",
       "===================================================================================\n",
       "                      coef    std err          t      P>|t|      [0.025      0.975]\n",
       "-----------------------------------------------------------------------------------\n",
       "const             250.8494     57.609      4.354      0.000     136.705     364.994\n",
       "Horsepower          0.2111      0.014     15.463      0.000       0.184       0.238\n",
       "Length            -67.2588     12.562     -5.354      0.000     -92.149     -42.369\n",
       "Curb_weight        30.6404      8.446      3.628      0.000      13.906      47.374\n",
       "Fuel_efficiency    16.5672      6.751      2.454      0.016       3.191      29.944\n",
       "==============================================================================\n",
       "Omnibus:                       36.807   Durbin-Watson:                   1.250\n",
       "Prob(Omnibus):                  0.000   Jarque-Bera (JB):               78.314\n",
       "Skew:                           1.275   Prob(JB):                     9.87e-18\n",
       "Kurtosis:                       6.093   Cond. No.                     1.81e+04\n",
       "==============================================================================\n",
       "\n",
       "Notes:\n",
       "[1] Standard Errors assume that the covariance matrix of the errors is correctly specified.\n",
       "[2] The condition number is large, 1.81e+04. This might indicate that there are\n",
       "strong multicollinearity or other numerical problems.\n",
       "\"\"\""
      ]
     },
     "execution_count": 27,
     "metadata": {},
     "output_type": "execute_result"
    }
   ],
   "source": [
    "data_num['Engine_size'] = np.log(data_num[ 'Engine_size'])\n",
    "data_num['Fuel_efficiency'] = np.log(data_num[ 'Fuel_efficiency'])\n",
    "data_num['Length'] = np.log(data_num[ 'Length'])\n",
    "data_num['Curb_weight'] = np.log(data_num['Curb_weight'])\n",
    "\n",
    "X4 = data_num [[ 'Horsepower', 'Length','Curb_weight','Fuel_efficiency']]\n",
    "\n",
    "\n",
    "results4 = regress(Y,X4)\n",
    "results4.summary()"
   ]
  },
  {
   "cell_type": "code",
   "execution_count": 28,
   "metadata": {},
   "outputs": [
    {
     "data": {
      "image/png": "[encoded data removed]",
      "text/plain": [
       "<Figure size 1080x720 with 1 Axes>"
      ]
     },
     "metadata": {
      "needs_background": "light"
     },
     "output_type": "display_data"
    }
   ],
   "source": [
    "scipy.stats.probplot(results4.resid, dist= 'norm', plot =plt);"
   ]
  },
  {
   "cell_type": "markdown",
   "metadata": {},
   "source": [
    "Feito o ajuste podemos concluir que esse não é a melhor transformação a ser feita, uma vez que o R-quadrado do moelo utilizando log é menor do que aquele sem a transformação, portanto a proporção da variância na variável dependente que pode ser explicada pela variável independente no modelo transformado é menor que no modelo normal, abrindo espaço para outra transformação ou contentar-se com o modelo atual. Além disso, o gráfico de resíduos não muda nada significamente comparado à análise anterior."
   ]
  },
  {
   "cell_type": "markdown",
   "metadata": {},
   "source": []
  },
  {
   "cell_type": "markdown",
   "metadata": {},
   "source": [
    "### Escalando os dados - Usando sklearn"
   ]
  },
  {
   "cell_type": "code",
   "execution_count": 29,
   "metadata": {},
   "outputs": [],
   "source": [
    "from sklearn.preprocessing import StandardScaler\n",
    "\n",
    "targets = data_num['Price_in_thousands']\n",
    "inputs = data_num [[ 'Horsepower', 'Length','Curb_weight','Fuel_efficiency']]"
   ]
  },
  {
   "cell_type": "markdown",
   "metadata": {},
   "source": [
    "Aqui vamos utilizar outra biblioteca para calcular a regressão linear "
   ]
  },
  {
   "cell_type": "markdown",
   "metadata": {},
   "source": [
    "Usando treino e teste "
   ]
  },
  {
   "cell_type": "code",
   "execution_count": 30,
   "metadata": {},
   "outputs": [],
   "source": [
    "from sklearn.model_selection import train_test_split\n",
    "\n",
    "x_train,x_test,y_train,y_test = train_test_split(X3,targets,test_size = 0.2, random_state=40)"
   ]
  },
  {
   "cell_type": "markdown",
   "metadata": {},
   "source": [
    "Criando a regressão"
   ]
  },
  {
   "cell_type": "code",
   "execution_count": 31,
   "metadata": {},
   "outputs": [
    {
     "name": "stdout",
     "output_type": "stream",
     "text": [
      "0.7876702175266938\n",
      "[ 0.21261884 -0.34220964  8.82668508  0.62356118]\n"
     ]
    }
   ],
   "source": [
    "from sklearn.linear_model import LinearRegression\n",
    "model = LinearRegression()\n",
    "model.fit(x_train,y_train)\n",
    "LinearRegression()\n",
    "\n",
    "# Construindo então regressão Linear\n",
    "from sklearn.linear_model import LinearRegression\n",
    "\n",
    "reg = LinearRegression().fit(X3, Y);\n",
    "\n",
    "print (reg.score(X3, Y))\n",
    "print (reg.coef_)\n",
    "# TESTE"
   ]
  },
  {
   "cell_type": "markdown",
   "metadata": {},
   "source": [
    "\n",
    "\n",
    "Podemos ver que utilizando outra biblioteca os valores de R-quadrado (score) e os coeficientes de cada parâmetro são iguais ao que fizemos na primeira modelagem. Portanto, vamos fazer o teste e treino com esse modelo. Mas a outra regressão ainda é de suma importância tendo em vista que mostra parâmetros que a essa não faz. \n",
    "\n"
   ]
  },
  {
   "cell_type": "markdown",
   "metadata": {},
   "source": [
    "Usando a função predict para prever os valores de x"
   ]
  },
  {
   "cell_type": "code",
   "execution_count": 32,
   "metadata": {},
   "outputs": [],
   "source": [
    "y_hat = model.predict(x_train)"
   ]
  },
  {
   "cell_type": "code",
   "execution_count": 33,
   "metadata": {},
   "outputs": [
    {
     "data": {
      "image/png": "[encoded data removed]",
      "text/plain": [
       "<Figure size 1080x720 with 1 Axes>"
      ]
     },
     "metadata": {
      "needs_background": "light"
     },
     "output_type": "display_data"
    }
   ],
   "source": [
    "plt.scatter(y_train,y_hat)\n",
    "plt.xlabel(\"Targets (y_train)\", size = 10)\n",
    "plt.ylabel(\"Predictions (y_hat)\", size = 10)\n",
    "plt.show()"
   ]
  },
  {
   "cell_type": "markdown",
   "metadata": {},
   "source": [
    "No gráfico acima, podemos ver que a distribuição dos pontos está de certa forma precisa, mas quanto maior o preço, a defasagem vai aumentando também. Mas o modelo conseguiu um score de 78% o que já é um resultado bom."
   ]
  },
  {
   "cell_type": "code",
   "execution_count": 34,
   "metadata": {},
   "outputs": [
    {
     "data": {
      "text/plain": [
       "0.7853281281970949"
      ]
     },
     "execution_count": 34,
     "metadata": {},
     "output_type": "execute_result"
    }
   ],
   "source": [
    "model.score(x_train, y_train)"
   ]
  },
  {
   "cell_type": "code",
   "execution_count": 35,
   "metadata": {},
   "outputs": [
    {
     "data": {
      "image/png": "[encoded data removed]",
      "text/plain": [
       "<Figure size 1080x720 with 1 Axes>"
      ]
     },
     "metadata": {
      "needs_background": "light"
     },
     "output_type": "display_data"
    }
   ],
   "source": [
    "#predict dos valores de treino \n",
    "y_hat_test = model.predict(x_test)\n",
    "plt.scatter(y_test,y_hat_test)\n",
    "plt.xlabel(\"Targets (y_test)\", size = 18)\n",
    "plt.ylabel(\"Predictions (y_hat_test)\", size = 18)\n",
    "plt.show()"
   ]
  },
  {
   "cell_type": "code",
   "execution_count": 36,
   "metadata": {},
   "outputs": [
    {
     "data": {
      "text/html": [
       "<div>\n",
       "<style scoped>\n",
       "    .dataframe tbody tr th:only-of-type {\n",
       "        vertical-align: middle;\n",
       "    }\n",
       "\n",
       "    .dataframe tbody tr th {\n",
       "        vertical-align: top;\n",
       "    }\n",
       "\n",
       "    .dataframe thead th {\n",
       "        text-align: right;\n",
       "    }\n",
       "</style>\n",
       "<table border=\"1\" class=\"dataframe\">\n",
       "  <thead>\n",
       "    <tr style=\"text-align: right;\">\n",
       "      <th></th>\n",
       "      <th>Preço de venda predito</th>\n",
       "    </tr>\n",
       "  </thead>\n",
       "  <tbody>\n",
       "    <tr>\n",
       "      <th>0</th>\n",
       "      <td>56.698189</td>\n",
       "    </tr>\n",
       "    <tr>\n",
       "      <th>1</th>\n",
       "      <td>35.795437</td>\n",
       "    </tr>\n",
       "    <tr>\n",
       "      <th>2</th>\n",
       "      <td>29.859573</td>\n",
       "    </tr>\n",
       "    <tr>\n",
       "      <th>3</th>\n",
       "      <td>6.766070</td>\n",
       "    </tr>\n",
       "    <tr>\n",
       "      <th>4</th>\n",
       "      <td>28.522402</td>\n",
       "    </tr>\n",
       "  </tbody>\n",
       "</table>\n",
       "</div>"
      ],
      "text/plain": [
       "   Preço de venda predito\n",
       "0               56.698189\n",
       "1               35.795437\n",
       "2               29.859573\n",
       "3                6.766070\n",
       "4               28.522402"
      ]
     },
     "execution_count": 36,
     "metadata": {},
     "output_type": "execute_result"
    }
   ],
   "source": [
    "df_pf = pd.DataFrame(y_hat_test,columns=['Preço de venda predito'])\n",
    "df_pf.head()"
   ]
  },
  {
   "cell_type": "code",
   "execution_count": 37,
   "metadata": {},
   "outputs": [
    {
     "data": {
      "text/html": [
       "<div>\n",
       "<style scoped>\n",
       "    .dataframe tbody tr th:only-of-type {\n",
       "        vertical-align: middle;\n",
       "    }\n",
       "\n",
       "    .dataframe tbody tr th {\n",
       "        vertical-align: top;\n",
       "    }\n",
       "\n",
       "    .dataframe thead th {\n",
       "        text-align: right;\n",
       "    }\n",
       "</style>\n",
       "<table border=\"1\" class=\"dataframe\">\n",
       "  <thead>\n",
       "    <tr style=\"text-align: right;\">\n",
       "      <th></th>\n",
       "      <th>Preço de venda predito</th>\n",
       "      <th>Preço de venda real</th>\n",
       "    </tr>\n",
       "  </thead>\n",
       "  <tbody>\n",
       "    <tr>\n",
       "      <th>0</th>\n",
       "      <td>56.698189</td>\n",
       "      <td>82.600</td>\n",
       "    </tr>\n",
       "    <tr>\n",
       "      <th>1</th>\n",
       "      <td>35.795437</td>\n",
       "      <td>26.000</td>\n",
       "    </tr>\n",
       "    <tr>\n",
       "      <th>2</th>\n",
       "      <td>29.859573</td>\n",
       "      <td>33.400</td>\n",
       "    </tr>\n",
       "    <tr>\n",
       "      <th>3</th>\n",
       "      <td>6.766070</td>\n",
       "      <td>12.050</td>\n",
       "    </tr>\n",
       "    <tr>\n",
       "      <th>4</th>\n",
       "      <td>28.522402</td>\n",
       "      <td>23.755</td>\n",
       "    </tr>\n",
       "  </tbody>\n",
       "</table>\n",
       "</div>"
      ],
      "text/plain": [
       "   Preço de venda predito  Preço de venda real\n",
       "0               56.698189               82.600\n",
       "1               35.795437               26.000\n",
       "2               29.859573               33.400\n",
       "3                6.766070               12.050\n",
       "4               28.522402               23.755"
      ]
     },
     "execution_count": 37,
     "metadata": {},
     "output_type": "execute_result"
    }
   ],
   "source": [
    "y_test = y_test.reset_index(drop=True)\n",
    "df_pf['Preço de venda real'] = y_test\n",
    "df_pf.head()"
   ]
  },
  {
   "cell_type": "code",
   "execution_count": 38,
   "metadata": {},
   "outputs": [
    {
     "data": {
      "text/html": [
       "<div>\n",
       "<style scoped>\n",
       "    .dataframe tbody tr th:only-of-type {\n",
       "        vertical-align: middle;\n",
       "    }\n",
       "\n",
       "    .dataframe tbody tr th {\n",
       "        vertical-align: top;\n",
       "    }\n",
       "\n",
       "    .dataframe thead th {\n",
       "        text-align: right;\n",
       "    }\n",
       "</style>\n",
       "<table border=\"1\" class=\"dataframe\">\n",
       "  <thead>\n",
       "    <tr style=\"text-align: right;\">\n",
       "      <th></th>\n",
       "      <th>Preço de venda predito</th>\n",
       "      <th>Preço de venda real</th>\n",
       "      <th>Errors</th>\n",
       "      <th>Difference%</th>\n",
       "    </tr>\n",
       "  </thead>\n",
       "  <tbody>\n",
       "    <tr>\n",
       "      <th>0</th>\n",
       "      <td>56.698189</td>\n",
       "      <td>82.600</td>\n",
       "      <td>25.901811</td>\n",
       "      <td>31.358124</td>\n",
       "    </tr>\n",
       "    <tr>\n",
       "      <th>1</th>\n",
       "      <td>35.795437</td>\n",
       "      <td>26.000</td>\n",
       "      <td>-9.795437</td>\n",
       "      <td>37.674758</td>\n",
       "    </tr>\n",
       "    <tr>\n",
       "      <th>2</th>\n",
       "      <td>29.859573</td>\n",
       "      <td>33.400</td>\n",
       "      <td>3.540427</td>\n",
       "      <td>10.600080</td>\n",
       "    </tr>\n",
       "    <tr>\n",
       "      <th>3</th>\n",
       "      <td>6.766070</td>\n",
       "      <td>12.050</td>\n",
       "      <td>5.283930</td>\n",
       "      <td>43.850044</td>\n",
       "    </tr>\n",
       "    <tr>\n",
       "      <th>4</th>\n",
       "      <td>28.522402</td>\n",
       "      <td>23.755</td>\n",
       "      <td>-4.767402</td>\n",
       "      <td>20.069048</td>\n",
       "    </tr>\n",
       "  </tbody>\n",
       "</table>\n",
       "</div>"
      ],
      "text/plain": [
       "   Preço de venda predito  Preço de venda real     Errors  Difference%\n",
       "0               56.698189               82.600  25.901811    31.358124\n",
       "1               35.795437               26.000  -9.795437    37.674758\n",
       "2               29.859573               33.400   3.540427    10.600080\n",
       "3                6.766070               12.050   5.283930    43.850044\n",
       "4               28.522402               23.755  -4.767402    20.069048"
      ]
     },
     "execution_count": 38,
     "metadata": {},
     "output_type": "execute_result"
    }
   ],
   "source": [
    "df_pf['Errors'] = df_pf['Preço de venda real'] - df_pf['Preço de venda predito']\n",
    "df_pf['Difference%'] = np.absolute(df_pf['Errors']/df_pf['Preço de venda real']*100)\n",
    "df_pf.head()"
   ]
  },
  {
   "cell_type": "code",
   "execution_count": 39,
   "metadata": {},
   "outputs": [
    {
     "data": {
      "text/html": [
       "<div>\n",
       "<style scoped>\n",
       "    .dataframe tbody tr th:only-of-type {\n",
       "        vertical-align: middle;\n",
       "    }\n",
       "\n",
       "    .dataframe tbody tr th {\n",
       "        vertical-align: top;\n",
       "    }\n",
       "\n",
       "    .dataframe thead th {\n",
       "        text-align: right;\n",
       "    }\n",
       "</style>\n",
       "<table border=\"1\" class=\"dataframe\">\n",
       "  <thead>\n",
       "    <tr style=\"text-align: right;\">\n",
       "      <th></th>\n",
       "      <th>Preço de venda predito</th>\n",
       "      <th>Preço de venda real</th>\n",
       "      <th>Errors</th>\n",
       "      <th>Difference%</th>\n",
       "    </tr>\n",
       "  </thead>\n",
       "  <tbody>\n",
       "    <tr>\n",
       "      <th>count</th>\n",
       "      <td>24.000000</td>\n",
       "      <td>24.000000</td>\n",
       "      <td>24.000000</td>\n",
       "      <td>24.000000</td>\n",
       "    </tr>\n",
       "    <tr>\n",
       "      <th>mean</th>\n",
       "      <td>26.412164</td>\n",
       "      <td>28.218833</td>\n",
       "      <td>1.806669</td>\n",
       "      <td>16.031115</td>\n",
       "    </tr>\n",
       "    <tr>\n",
       "      <th>std</th>\n",
       "      <td>11.803523</td>\n",
       "      <td>17.212027</td>\n",
       "      <td>8.180373</td>\n",
       "      <td>11.158790</td>\n",
       "    </tr>\n",
       "    <tr>\n",
       "      <th>min</th>\n",
       "      <td>6.766070</td>\n",
       "      <td>12.050000</td>\n",
       "      <td>-9.795437</td>\n",
       "      <td>0.940616</td>\n",
       "    </tr>\n",
       "    <tr>\n",
       "      <th>25%</th>\n",
       "      <td>16.969119</td>\n",
       "      <td>17.464250</td>\n",
       "      <td>-2.586003</td>\n",
       "      <td>7.521253</td>\n",
       "    </tr>\n",
       "    <tr>\n",
       "      <th>50%</th>\n",
       "      <td>24.145090</td>\n",
       "      <td>21.115000</td>\n",
       "      <td>0.403235</td>\n",
       "      <td>12.350190</td>\n",
       "    </tr>\n",
       "    <tr>\n",
       "      <th>75%</th>\n",
       "      <td>33.080657</td>\n",
       "      <td>33.537500</td>\n",
       "      <td>2.560693</td>\n",
       "      <td>20.899565</td>\n",
       "    </tr>\n",
       "    <tr>\n",
       "      <th>max</th>\n",
       "      <td>56.698189</td>\n",
       "      <td>82.600000</td>\n",
       "      <td>25.901811</td>\n",
       "      <td>43.850044</td>\n",
       "    </tr>\n",
       "  </tbody>\n",
       "</table>\n",
       "</div>"
      ],
      "text/plain": [
       "       Preço de venda predito  Preço de venda real     Errors  Difference%\n",
       "count               24.000000            24.000000  24.000000    24.000000\n",
       "mean                26.412164            28.218833   1.806669    16.031115\n",
       "std                 11.803523            17.212027   8.180373    11.158790\n",
       "min                  6.766070            12.050000  -9.795437     0.940616\n",
       "25%                 16.969119            17.464250  -2.586003     7.521253\n",
       "50%                 24.145090            21.115000   0.403235    12.350190\n",
       "75%                 33.080657            33.537500   2.560693    20.899565\n",
       "max                 56.698189            82.600000  25.901811    43.850044"
      ]
     },
     "execution_count": 39,
     "metadata": {},
     "output_type": "execute_result"
    }
   ],
   "source": [
    "df_pf.describe()"
   ]
  },
  {
   "cell_type": "markdown",
   "metadata": {},
   "source": [
    "Nessa análise, comparamos o Preço calculado pelo modelo, o preço real, o erro entre os dois e essa diferença em porcentagem. Conseguimos concluir então que a média de erro do modelo na predição do preço foi de 16% e o erro máximo foi de 44%, o que é muito alto, mas já tinhamos analisado que isso ocorreu quando o modelo preve o preço de um carro com o preço muito acima dos outros, portanto uma defasagem mais aceitável por esse valor poder ser um outlier. Mas ainda assim, no percentil de 50% o erro foi de 12%, menor do que a média, indicando que essa média é muito influenciada pelos valores muito acima da média."
   ]
  },
  {
   "cell_type": "code",
   "execution_count": 40,
   "metadata": {},
   "outputs": [
    {
     "name": "stderr",
     "output_type": "stream",
     "text": [
      "C:\\Users\\Diego\\anaconda3\\lib\\site-packages\\seaborn\\_decorators.py:36: FutureWarning: Pass the following variables as keyword args: x, y. From version 0.12, the only valid positional argument will be `data`, and passing other arguments without an explicit keyword will result in an error or misinterpretation.\n",
      "  warnings.warn(\n"
     ]
    },
    {
     "data": {
      "text/plain": [
       "<seaborn.axisgrid.FacetGrid at 0x1b0d5fe7af0>"
      ]
     },
     "execution_count": 40,
     "metadata": {},
     "output_type": "execute_result"
    },
    {
     "data": {
      "image/png": "[encoded data removed]",
      "text/plain": [
       "<Figure size 360x360 with 1 Axes>"
      ]
     },
     "metadata": {
      "needs_background": "light"
     },
     "output_type": "display_data"
    }
   ],
   "source": [
    "sns.lmplot('Preço de venda predito','Preço de venda real',data=df_pf)"
   ]
  },
  {
   "cell_type": "markdown",
   "metadata": {},
   "source": [
    "No gráfico acima podemos ver o que está descrito nas tabelas anteriores e percebemos que os preços fora da área azul clara, tem um erro muito grande de predição para seu valor real. Além disso, conclui-se que quanto maior o preço real mais larga é a área de predição o que indica um erro maior, do que quando comparado aos valores médios."
   ]
  },
  {
   "cell_type": "markdown",
   "metadata": {},
   "source": [
    "### 2. Random Forest\n",
    "\n",
    "- O Random Forest Classifier é um conjunto de árvores de decisão de um subconjunto do conjunto de treinamento selecionado aleatoriamente.\n",
    "- Ele agrega os votos de diferentes árvores de decisão para decidir a classe final do objeto de teste.\n",
    "- É um algoritmo de aprendizagem baseado em árvore de ensemble.\n",
    "- Algoritmos de conjunto são aqueles que combinam mais de um algoritmo do mesmo tipo ou de tipo diferente para classificar objetos.\n",
    "- É um dos algoritmos de aprendizagem mais precisos disponíveis. Para muitos conjuntos de dados, ele produz um classificador de alta precisão.\n",
    "- Ele é executado de forma eficiente em grandes bancos de dados.\n",
    "- Ele pode lidar com milhares de variáveis de entrada sem exclusão de variável.\n"
   ]
  },
  {
   "cell_type": "code",
   "execution_count": 41,
   "metadata": {},
   "outputs": [
    {
     "name": "stdout",
     "output_type": "stream",
     "text": [
      "R² score: 96.61213709557326\n"
     ]
    }
   ],
   "source": [
    "from sklearn.metrics import r2_score\n",
    "from sklearn.ensemble import RandomForestRegressor\n",
    "rf_reg=RandomForestRegressor(n_estimators = 10,random_state=0)\n",
    "rf_reg.fit(X,Y.ravel())\n",
    "\n",
    "print(f'R² score: {r2_score(Y, rf_reg.predict(X))*100}')"
   ]
  },
  {
   "cell_type": "code",
   "execution_count": 42,
   "metadata": {},
   "outputs": [
    {
     "data": {
      "text/plain": [
       "array([0.08978529, 0.01348671, 0.74019899, 0.03236032, 0.01140652,\n",
       "       0.02741465, 0.02452715, 0.02755677, 0.03326359])"
      ]
     },
     "execution_count": 42,
     "metadata": {},
     "output_type": "execute_result"
    }
   ],
   "source": [
    "rf_reg.feature_importances_"
   ]
  },
  {
   "cell_type": "markdown",
   "metadata": {},
   "source": [
    "O comando \"feature importances\" mostra a importancia das variáveis do Dataframe para o classificador, em ordem: ('Sales_in_thousands', 'Engine_size', 'Horsepower', 'Wheelbase', 'Width','Length','Curb_weight','Fuel_capacity','Fuel_efficiency'). Assim, podemos ver que a mais importante para o modelo é de longe \"Horsepower\", o que condiz com os nosso outros modelos em que essa variável se mostra muito importante para responder nossa pergunta. No entanto, o R-quadrado alto pode ser consequência de uma alta colinearidade entra algumas váriaveis que nos outros modelos limpamos de forma que le fique mais preciso."
   ]
  },
  {
   "cell_type": "code",
   "execution_count": 43,
   "metadata": {},
   "outputs": [
    {
     "data": {
      "text/plain": [
       "[<matplotlib.lines.Line2D at 0x1b0d6b67c40>]"
      ]
     },
     "execution_count": 43,
     "metadata": {},
     "output_type": "execute_result"
    },
    {
     "data": {
      "image/png": "[encoded data removed]",
      "text/plain": [
       "<Figure size 1080x720 with 1 Axes>"
      ]
     },
     "metadata": {
      "needs_background": "light"
     },
     "output_type": "display_data"
    }
   ],
   "source": [
    "predictArray_rf = rf_reg.predict(X)\n",
    "plt.scatter(Y,predictArray_rf, color=\"b\")\n",
    "plt.plot(Y,Y, color=\"r\")"
   ]
  },
  {
   "cell_type": "markdown",
   "metadata": {},
   "source": [
    "<div id='modelo2'></div>\n",
    "\n",
    "___\n",
    "## Modelo de Árvore de Regressão\n",
    "\n",
    "- [início](#inicio)"
   ]
  },
  {
   "cell_type": "markdown",
   "metadata": {},
   "source": [
    "Uma Árvore de Decisão/Regressão é uma árvore (e um tipo de gráfico acíclico direcionado) em que os nós representam decisões , transições aleatórias ou nós terminais, e as arestas ou ramos são binários (sim / não , verdadeiro / falso) representando caminhos possíveis de um nó para outro. O tipo específico de árvore de decisão usado para machine learning não contém transições aleatórias. Para usar uma árvore de decisão para classificação ou regressão, pega-se uma linha de dados ou um conjunto de recursos e começa na raiz e, em seguida, por meio de cada nó de decisão subsequente até o nó terminal. O processo é muito intuitivo e fácil de interpretar, o que permite que árvores de decisão treinadas sejam usadas para seleção de variáveis."
   ]
  },
  {
   "cell_type": "markdown",
   "metadata": {},
   "source": [
    "Para este modelo, vamos continuar utilizando os valores de:\n",
    "\n",
    "- X : Colunas do dataframe que serão utilizadas como variáveis explicativas (FEATURES), no caso, as especificações dos carros\n",
    "\n",
    "- Y : Coluna do dataframe referente à variável resposta (TARGET), no caso, o preço do carro. "
   ]
  },
  {
   "cell_type": "markdown",
   "metadata": {},
   "source": [
    "Primeiramente, vamos utilizar a base de treinamento para realizar a regressão.\n",
    "\n",
    "Feita, iremos prever os resultados a partir dos dados de teste (x_teste) e então comparar com os dados reais (y_teste). "
   ]
  },
  {
   "cell_type": "code",
   "execution_count": 44,
   "metadata": {},
   "outputs": [],
   "source": [
    "# Criando o objeto de 'DecisionTreeRegressor'\n",
    "from sklearn.tree import DecisionTreeRegressor \n",
    "\n",
    "regressor = DecisionTreeRegressor(random_state=0)\n",
    "\n",
    "# Ajustando o módulo regressor ao nosso projeto\n",
    "\n",
    "regressor = regressor.fit(x_train, y_train);"
   ]
  },
  {
   "cell_type": "code",
   "execution_count": 45,
   "metadata": {},
   "outputs": [],
   "source": [
    "# Prevendo o valor baseado nos teste\n",
    "y_pred = regressor.predict(x_test)"
   ]
  },
  {
   "cell_type": "code",
   "execution_count": 46,
   "metadata": {},
   "outputs": [
    {
     "data": {
      "text/html": [
       "<table class=\"simpletable\">\n",
       "<caption>OLS Regression Results</caption>\n",
       "<tr>\n",
       "  <th>Dep. Variable:</th>    <td>Price_in_thousands</td> <th>  R-squared:         </th> <td>   0.900</td>\n",
       "</tr>\n",
       "<tr>\n",
       "  <th>Model:</th>                    <td>OLS</td>        <th>  Adj. R-squared:    </th> <td>   0.895</td>\n",
       "</tr>\n",
       "<tr>\n",
       "  <th>Method:</th>              <td>Least Squares</td>   <th>  F-statistic:       </th> <td>   198.0</td>\n",
       "</tr>\n",
       "<tr>\n",
       "  <th>Date:</th>              <td>Tue, 30 Nov 2021</td>  <th>  Prob (F-statistic):</th> <td>1.77e-12</td>\n",
       "</tr>\n",
       "<tr>\n",
       "  <th>Time:</th>                  <td>17:36:18</td>      <th>  Log-Likelihood:    </th> <td> -74.210</td>\n",
       "</tr>\n",
       "<tr>\n",
       "  <th>No. Observations:</th>       <td>    24</td>       <th>  AIC:               </th> <td>   152.4</td>\n",
       "</tr>\n",
       "<tr>\n",
       "  <th>Df Residuals:</th>           <td>    22</td>       <th>  BIC:               </th> <td>   154.8</td>\n",
       "</tr>\n",
       "<tr>\n",
       "  <th>Df Model:</th>               <td>     1</td>       <th>                     </th>     <td> </td>   \n",
       "</tr>\n",
       "<tr>\n",
       "  <th>Covariance Type:</th>       <td>nonrobust</td>     <th>                     </th>     <td> </td>   \n",
       "</tr>\n",
       "</table>\n",
       "<table class=\"simpletable\">\n",
       "<tr>\n",
       "    <td></td>       <th>coef</th>     <th>std err</th>      <th>t</th>      <th>P>|t|</th>  <th>[0.025</th>    <th>0.975]</th>  \n",
       "</tr>\n",
       "<tr>\n",
       "  <th>const</th> <td>   -0.6212</td> <td>    2.344</td> <td>   -0.265</td> <td> 0.793</td> <td>   -5.482</td> <td>    4.239</td>\n",
       "</tr>\n",
       "<tr>\n",
       "  <th>x1</th>    <td>    1.0305</td> <td>    0.073</td> <td>   14.070</td> <td> 0.000</td> <td>    0.879</td> <td>    1.182</td>\n",
       "</tr>\n",
       "</table>\n",
       "<table class=\"simpletable\">\n",
       "<tr>\n",
       "  <th>Omnibus:</th>       <td> 1.453</td> <th>  Durbin-Watson:     </th> <td>   2.292</td>\n",
       "</tr>\n",
       "<tr>\n",
       "  <th>Prob(Omnibus):</th> <td> 0.484</td> <th>  Jarque-Bera (JB):  </th> <td>   1.201</td>\n",
       "</tr>\n",
       "<tr>\n",
       "  <th>Skew:</th>          <td> 0.516</td> <th>  Prob(JB):          </th> <td>   0.549</td>\n",
       "</tr>\n",
       "<tr>\n",
       "  <th>Kurtosis:</th>      <td> 2.631</td> <th>  Cond. No.          </th> <td>    66.1</td>\n",
       "</tr>\n",
       "</table><br/><br/>Notes:<br/>[1] Standard Errors assume that the covariance matrix of the errors is correctly specified."
      ],
      "text/plain": [
       "<class 'statsmodels.iolib.summary.Summary'>\n",
       "\"\"\"\n",
       "                            OLS Regression Results                            \n",
       "==============================================================================\n",
       "Dep. Variable:     Price_in_thousands   R-squared:                       0.900\n",
       "Model:                            OLS   Adj. R-squared:                  0.895\n",
       "Method:                 Least Squares   F-statistic:                     198.0\n",
       "Date:                Tue, 30 Nov 2021   Prob (F-statistic):           1.77e-12\n",
       "Time:                        17:36:18   Log-Likelihood:                -74.210\n",
       "No. Observations:                  24   AIC:                             152.4\n",
       "Df Residuals:                      22   BIC:                             154.8\n",
       "Df Model:                           1                                         \n",
       "Covariance Type:            nonrobust                                         \n",
       "==============================================================================\n",
       "                 coef    std err          t      P>|t|      [0.025      0.975]\n",
       "------------------------------------------------------------------------------\n",
       "const         -0.6212      2.344     -0.265      0.793      -5.482       4.239\n",
       "x1             1.0305      0.073     14.070      0.000       0.879       1.182\n",
       "==============================================================================\n",
       "Omnibus:                        1.453   Durbin-Watson:                   2.292\n",
       "Prob(Omnibus):                  0.484   Jarque-Bera (JB):                1.201\n",
       "Skew:                           0.516   Prob(JB):                        0.549\n",
       "Kurtosis:                       2.631   Cond. No.                         66.1\n",
       "==============================================================================\n",
       "\n",
       "Notes:\n",
       "[1] Standard Errors assume that the covariance matrix of the errors is correctly specified.\n",
       "\"\"\""
      ]
     },
     "execution_count": 46,
     "metadata": {},
     "output_type": "execute_result"
    }
   ],
   "source": [
    "# Comparando os valores obtidos pela regressão e os valores reais\n",
    "r = regress(y_test, y_pred)\n",
    "r.summary()"
   ]
  },
  {
   "cell_type": "code",
   "execution_count": 49,
   "metadata": {},
   "outputs": [],
   "source": [
    "# Obtendo a Árvore de Regressão\n",
    "\n",
    "from sklearn.tree import export_graphviz \n",
    "features = [ 'Horsepower', 'Length','Curb_weight','Fuel_efficiency']\n",
    "# export the decision tree to a tree.dot file\n",
    "# for visualizing the plot easily anywhere\n",
    "export_graphviz(regressor, out_file ='tree.dot',\n",
    "               feature_names =features)"
   ]
  },
  {
   "cell_type": "code",
   "execution_count": null,
   "metadata": {},
   "outputs": [],
   "source": []
  }
 ],
 "metadata": {
  "kernelspec": {
   "display_name": "Python 3",
   "language": "python",
   "name": "python3"
  },
  "language_info": {
   "codemirror_mode": {
    "name": "ipython",
    "version": 3
   },
   "file_extension": ".py",
   "mimetype": "text/x-python",
   "name": "python",
   "nbconvert_exporter": "python",
   "pygments_lexer": "ipython3",
   "version": "3.8.5"
  }
 },
 "nbformat": 4,
 "nbformat_minor": 4
}
